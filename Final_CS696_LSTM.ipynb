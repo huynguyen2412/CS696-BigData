{
  "nbformat": 4,
  "nbformat_minor": 0,
  "metadata": {
    "colab": {
      "name": "Final_CS696_LSTM.ipynb",
      "provenance": [],
      "collapsed_sections": []
    },
    "kernelspec": {
      "name": "python3",
      "display_name": "Python 3"
    },
    "accelerator": "GPU"
  },
  "cells": [
    {
      "cell_type": "markdown",
      "metadata": {
        "id": "bnxbCXzdbzpZ",
        "colab_type": "text"
      },
      "source": [
        "# Applying Long Short Term Memory to predict the stock price\n",
        "---\n",
        "This notebook is a predictive analysis of 'Closing' stock price of Apple Inc using another type of Recurrent Neural Network that is called Long Short Term Memory(LSTMs). The purpose of the assignment is to understanding the advantages LSTMs offers and the improvement from original Recurrent Neural Network(RNN). \n"
      ]
    },
    {
      "cell_type": "markdown",
      "metadata": {
        "id": "lWmQX9HfjYAX",
        "colab_type": "text"
      },
      "source": [
        "The notebook need to install two libraries that are Tensorflow 2.2.0 and Yfinance. \n",
        "\n",
        "*   In Tensorflow, we use Keras library to build and train a model.\n",
        "*   Yfinance is used to get a stock dataset of a company from Yahoo's API.\n",
        "\n",
        "<br> The commands below will install two libraries if they did not exist on a machine. If the machine doesn't have pip package manager, please refer to [this link ](https://pip.pypa.io/en/stable/installing/) to install pip before executing the commands."
      ]
    },
    {
      "cell_type": "code",
      "metadata": {
        "id": "CwdFrt7Op3v5",
        "colab_type": "code",
        "outputId": "5fa8687f-a577-441f-c143-4364e839d583",
        "colab": {
          "base_uri": "https://localhost:8080/",
          "height": 377
        }
      },
      "source": [
        "!pip install tensorflow==2.2.0\n",
        "!pip install yfinance"
      ],
      "execution_count": 0,
      "outputs": [
        {
          "output_type": "stream",
          "text": [
            "Collecting yfinance\n",
            "  Downloading https://files.pythonhosted.org/packages/c2/31/8b374a12b90def92a4e27d0fc595fc43635f395984e36a075244d98bd265/yfinance-0.1.54.tar.gz\n",
            "Requirement already satisfied: pandas>=0.24 in /usr/local/lib/python3.6/dist-packages (from yfinance) (1.0.3)\n",
            "Requirement already satisfied: numpy>=1.15 in /usr/local/lib/python3.6/dist-packages (from yfinance) (1.18.4)\n",
            "Requirement already satisfied: requests>=2.20 in /usr/local/lib/python3.6/dist-packages (from yfinance) (2.23.0)\n",
            "Requirement already satisfied: multitasking>=0.0.7 in /usr/local/lib/python3.6/dist-packages (from yfinance) (0.0.9)\n",
            "Requirement already satisfied: pytz>=2017.2 in /usr/local/lib/python3.6/dist-packages (from pandas>=0.24->yfinance) (2018.9)\n",
            "Requirement already satisfied: python-dateutil>=2.6.1 in /usr/local/lib/python3.6/dist-packages (from pandas>=0.24->yfinance) (2.8.1)\n",
            "Requirement already satisfied: certifi>=2017.4.17 in /usr/local/lib/python3.6/dist-packages (from requests>=2.20->yfinance) (2020.4.5.1)\n",
            "Requirement already satisfied: chardet<4,>=3.0.2 in /usr/local/lib/python3.6/dist-packages (from requests>=2.20->yfinance) (3.0.4)\n",
            "Requirement already satisfied: urllib3!=1.25.0,!=1.25.1,<1.26,>=1.21.1 in /usr/local/lib/python3.6/dist-packages (from requests>=2.20->yfinance) (1.24.3)\n",
            "Requirement already satisfied: idna<3,>=2.5 in /usr/local/lib/python3.6/dist-packages (from requests>=2.20->yfinance) (2.9)\n",
            "Requirement already satisfied: six>=1.5 in /usr/local/lib/python3.6/dist-packages (from python-dateutil>=2.6.1->pandas>=0.24->yfinance) (1.12.0)\n",
            "Building wheels for collected packages: yfinance\n",
            "  Building wheel for yfinance (setup.py) ... \u001b[?25l\u001b[?25hdone\n",
            "  Created wheel for yfinance: filename=yfinance-0.1.54-py2.py3-none-any.whl size=22409 sha256=d847268d802b3f3a1f975722012600bf251b4e1525a96a98f3fd4fea91b10e1c\n",
            "  Stored in directory: /root/.cache/pip/wheels/f9/e3/5b/ec24dd2984b12d61e0abf26289746c2436a0e7844f26f2515c\n",
            "Successfully built yfinance\n",
            "Installing collected packages: yfinance\n",
            "Successfully installed yfinance-0.1.54\n"
          ],
          "name": "stdout"
        }
      ]
    },
    {
      "cell_type": "code",
      "metadata": {
        "id": "eUIOwGX_qAZb",
        "colab_type": "code",
        "outputId": "915b463f-8b3c-4ec3-96d6-89db6ac9bb26",
        "colab": {
          "base_uri": "https://localhost:8080/",
          "height": 34
        }
      },
      "source": [
        "from sklearn.preprocessing import MinMaxScaler\n",
        "import pandas as pd\n",
        "import numpy as np\n",
        "import yfinance as yf\n",
        "import matplotlib.pyplot as plt\n",
        "import tensorflow as tf\n",
        "print(tf.__version__)"
      ],
      "execution_count": 0,
      "outputs": [
        {
          "output_type": "stream",
          "text": [
            "2.2.0-rc4\n"
          ],
          "name": "stdout"
        }
      ]
    },
    {
      "cell_type": "markdown",
      "metadata": {
        "id": "f0jK7INFqHlz",
        "colab_type": "text"
      },
      "source": [
        "Initialize a dataframe of Apple stock history since it published. This analysis only use a univariate series. We choose a series of Closing price."
      ]
    },
    {
      "cell_type": "code",
      "metadata": {
        "id": "qvyOCghbqDBr",
        "colab_type": "code",
        "outputId": "05ad7afd-8c60-40d9-cb97-dc3bb69296e5",
        "colab": {
          "base_uri": "https://localhost:8080/",
          "height": 34
        }
      },
      "source": [
        "apple = yf.Ticker(\"AAPL\")\n",
        "apple = apple.history(period=\"max\")\n",
        "apple = apple[['Close']]\n",
        "apple.shape"
      ],
      "execution_count": 0,
      "outputs": [
        {
          "output_type": "execute_result",
          "data": {
            "text/plain": [
              "(9935, 1)"
            ]
          },
          "metadata": {
            "tags": []
          },
          "execution_count": 3
        }
      ]
    },
    {
      "cell_type": "markdown",
      "metadata": {
        "id": "vtYiBTy2dk_R",
        "colab_type": "text"
      },
      "source": [
        "We normalize the dataset which all data converts into the numbers in range(0,1) so we can improve the network converges when starting training a model."
      ]
    },
    {
      "cell_type": "code",
      "metadata": {
        "id": "MMO4clvhKyBl",
        "colab_type": "code",
        "colab": {}
      },
      "source": [
        "normalize_scaler = MinMaxScaler()\n",
        "normalized_dataset = normalize_scaler.fit_transform(apple)"
      ],
      "execution_count": 0,
      "outputs": []
    },
    {
      "cell_type": "markdown",
      "metadata": {
        "id": "bWG4VBbnqctv",
        "colab_type": "text"
      },
      "source": [
        "Create a function to slice the dataset into chunks. We will predict the price of next value based on previous values of a chunk.\n",
        "---\n",
        "Since the dataset is a time series, there might occur sequence bias which make the model less accuracy in prediction. Additionally, it has a chance of overfitting because the model has well training on window dataset in the training series. We decide to shuffle the dataset to increase convergence in training. To improve performance and execution time while training a model, we split the into small batches and use prefetch function in Tensorflow.data API. It means as the model is executing the training on one step, the input pipeline is loading the data for next.\n"
      ]
    },
    {
      "cell_type": "code",
      "metadata": {
        "id": "ojY_9ysEqZHd",
        "colab_type": "code",
        "colab": {}
      },
      "source": [
        "def window_dataset(series, window_size, batch_size, shuffle_size):\n",
        "    \"\"\" Function will slice the series dataset into \n",
        "        small lists of item have a size of window_size argument.                        \n",
        "        \n",
        "        Return the dataset with lists of tuples of 2 which has\n",
        "        first element is a list of item except the last,\n",
        "        second element is last element.\n",
        "    \"\"\"\n",
        "    # series = tf.expand_dims(series, axis=-1) #reshape the dataset to fit LSTM model\n",
        "    ds = tf.data.Dataset.from_tensor_slices(series)\n",
        "    ds = ds.window(window_size + 1, shift=1, drop_remainder=True)\n",
        "    ds = ds.flat_map(lambda ds : ds.batch(window_size + 1))\n",
        "    ds = ds.shuffle(shuffle_size)\n",
        "    ds = ds.map(lambda ds: (ds[:-1], ds[-1:]))\n",
        "    ds = ds.batch(batch_size).prefetch(1)\n",
        "    \n",
        "    return ds"
      ],
      "execution_count": 0,
      "outputs": []
    },
    {
      "cell_type": "markdown",
      "metadata": {
        "id": "mI-DwBiYeHYm",
        "colab_type": "text"
      },
      "source": [
        "We learned if we can split the dataset into small batches while training a model can affect the learning speed as well as the learning accuracy regarding to this Youtube [video](https://www.youtube.com/watch?v=4qJaSmvhxi8). We will use this as a hyperparameter to train our neural network model. \n",
        "<br>For this assignment we will predict the each next day by using data from previous 60 days of its."
      ]
    },
    {
      "cell_type": "code",
      "metadata": {
        "id": "s71p0ovLrA_J",
        "colab_type": "code",
        "colab": {}
      },
      "source": [
        "window_size = 60\n",
        "batch_size = 128\n",
        "shuffle_size = 500"
      ],
      "execution_count": 0,
      "outputs": []
    },
    {
      "cell_type": "markdown",
      "metadata": {
        "id": "3fYSeyIY84jD",
        "colab_type": "text"
      },
      "source": [
        "Setting the size for training set and test set."
      ]
    },
    {
      "cell_type": "code",
      "metadata": {
        "id": "llhTAvtyqQfI",
        "colab_type": "code",
        "colab": {}
      },
      "source": [
        "split_ratio = 0.8\n",
        "train_size = int(split_ratio * len(normalized_dataset))\n",
        "valid_size = int(len(normalized_dataset) - train_size)"
      ],
      "execution_count": 0,
      "outputs": []
    },
    {
      "cell_type": "code",
      "metadata": {
        "id": "zQml12oYqW1M",
        "colab_type": "code",
        "colab": {}
      },
      "source": [
        "x_train = normalized_dataset[:train_size]\n",
        "x_valid = normalized_dataset[train_size:]"
      ],
      "execution_count": 0,
      "outputs": []
    },
    {
      "cell_type": "markdown",
      "metadata": {
        "id": "ixG-4VEU_vVP",
        "colab_type": "text"
      },
      "source": [
        "Create a function to predict the next value of each averaging window period after model has been trained."
      ]
    },
    {
      "cell_type": "code",
      "metadata": {
        "id": "UHgdYV0ghcvx",
        "colab_type": "code",
        "colab": {}
      },
      "source": [
        "def model_forecast(model, series, window_size):\n",
        "    \"\"\" Function will split the dataset into small chunks have size of window_size.\n",
        "        The model after training will predict the next value of each chunk.\n",
        "\n",
        "        Return the dataset which includes the next predicted value of each window period\n",
        "    \"\"\"\n",
        "    ds = tf.data.Dataset.from_tensor_slices(series)\n",
        "    ds = ds.window(window_size, shift=1, drop_remainder=True)\n",
        "    ds = ds.flat_map(lambda w: w.batch(window_size))\n",
        "    ds = ds.batch(32).prefetch(1)\n",
        "    forecast = model.predict(ds)\n",
        "    return forecast"
      ],
      "execution_count": 0,
      "outputs": []
    },
    {
      "cell_type": "markdown",
      "metadata": {
        "id": "yLETtLPzQjZa",
        "colab_type": "text"
      },
      "source": [
        "## Implementation of Long Short Term Memory(LSTMs) "
      ]
    },
    {
      "cell_type": "code",
      "metadata": {
        "id": "hbJnYsurYjD8",
        "colab_type": "code",
        "colab": {}
      },
      "source": [
        "from tensorflow.keras.models import Sequential\n",
        "from tensorflow.keras import optimizers\n",
        "from tensorflow.keras.layers import LSTM, Dense, Conv1D\n",
        "from tensorflow.keras.callbacks import LearningRateScheduler\n",
        "from tensorflow.keras.losses import Huber"
      ],
      "execution_count": 0,
      "outputs": []
    },
    {
      "cell_type": "markdown",
      "metadata": {
        "id": "phWEc0gTQpgj",
        "colab_type": "text"
      },
      "source": [
        "Create LSTMs with two layers include 64 neuron units each and one Dense output. \n",
        "We keep the sigmoid function for forget, input, and output gate as default. Regarding to this [article](https://medium.com/@bingobee01/a-review-of-dropout-as-applied-to-rnns-72e79ecd5b7b), we choose 20% drop out to prevent overfitting by ignoring selected neurons randomly and reduce the sensitivity to specific weights of neurons. \n",
        "\n",
        "<br>To increase the reproducibilty, we set both the global see and the operation seed. Finding a good learning rate is challenge. Thus, we use dynamic learning rate in a range between 1e-7 and 1e+2 to by applying callback to find an optimal learning rate. \n",
        "\n",
        "<br>In addition, to improve excution and optimize the model we apply Stochastic Gradient Descent(SGD). SGD algorithm calculate the errors and updates the model for each samples; therefore it is able to increase the model update frequency and speed up in model learning. \n",
        "\n",
        "<br>For evaluating performance of a model we need metrics which is errors between forecast values and actual values.\n",
        "\n",
        "            forecast - actual = error\n",
        "            \n",
        "<br>Because the value of the time series is stock price, the error can be negative value. Mean Absolute Errors(MAE) and Mean Squared Errors(MSE) are good options for measuring the errors. However, MSE has the issue with outlier values which gives more weight to outlierr and thus the model get a high error. MAE is more robust to outliers but its gradient is the same throughout which means the gradient will be the same from large values to small values. From this [article](https://heartbeat.fritz.ai/5-regression-loss-functions-all-machine-learners-should-know-4fb140e9d4b0), we learned that Huber function is a balance of MAE and MSE. It's not sensitive to outlier values as MSE loss. It also conduct absolute operation when its parameter 𝛿, approaches to 0. "
      ]
    },
    {
      "cell_type": "code",
      "metadata": {
        "id": "HvV1zk1CdlHf",
        "colab_type": "code",
        "colab": {}
      },
      "source": [
        "#Number of neuron or units of a LSTM layer\n",
        "lstm_units = 64\n",
        "\n",
        "# This variable is Verbosity mode when executes model training (0 = silent, 1 = progress bar)\n",
        "verbose_mode = 0"
      ],
      "execution_count": 0,
      "outputs": []
    },
    {
      "cell_type": "code",
      "metadata": {
        "id": "mce5JokVrXw-",
        "colab_type": "code",
        "outputId": "8838318f-5b97-4224-fbcb-ce7081fb7da8",
        "colab": {
          "base_uri": "https://localhost:8080/",
          "height": 1000
        }
      },
      "source": [
        "tf.keras.backend.clear_session()\n",
        "tf.random.set_seed(51)\n",
        "np.random.seed(51)\n",
        "\n",
        "train_set = window_dataset(x_train, window_size, batch_size, shuffle_size)\n",
        "\n",
        "model = Sequential([\n",
        "          LSTM(units=lstm_units, return_sequences=True, \n",
        "               dropout=0.2, recurrent_activation='sigmoid'),\n",
        "          Dense(1)                                                                     \n",
        "])\n",
        "\n",
        "lr_callback = LearningRateScheduler(\n",
        "    lambda epoch : 1e-7 * 10**(epoch/20)\n",
        ")\n",
        "\n",
        "optimizer_SGD = optimizers.SGD(lr=1e-7, momentum=0.9)\n",
        "\n",
        "model.compile(optimizer=optimizer_SGD, \n",
        "              loss=Huber(), \n",
        "              metrics=['mae'])\n",
        "\n",
        "history = model.fit(train_set, epochs=100, callbacks=[lr_callback], verbose=verbose_mode)"
      ],
      "execution_count": 0,
      "outputs": [
        {
          "output_type": "stream",
          "text": [
            "Epoch 1/100\n",
            "WARNING:tensorflow:Layer lstm is casting an input tensor from dtype float64 to the layer's dtype of float32, which is new behavior in TensorFlow 2.  The layer has dtype float32 because it's dtype defaults to floatx.\n",
            "\n",
            "If you intended to run this layer in float32, you can safely ignore this warning. If in doubt, this warning is likely only an issue if you are porting a TensorFlow 1.X model to TensorFlow 2.\n",
            "\n",
            "To change all layers to have dtype float64 by default, call `tf.keras.backend.set_floatx('float64')`. To change just this layer, pass dtype='float64' to the layer constructor. If you are the author of this layer, you can disable autocasting by passing autocast=False to the base Layer constructor.\n",
            "\n",
            "62/62 [==============================] - 1s 18ms/step - loss: 8.5549e-04 - mae: 0.0183 - lr: 1.0000e-07\n",
            "Epoch 2/100\n",
            "62/62 [==============================] - 1s 19ms/step - loss: 8.5579e-04 - mae: 0.0183 - lr: 1.1220e-07\n",
            "Epoch 3/100\n",
            "62/62 [==============================] - 1s 19ms/step - loss: 8.5563e-04 - mae: 0.0183 - lr: 1.2589e-07\n",
            "Epoch 4/100\n",
            "62/62 [==============================] - 1s 19ms/step - loss: 8.5569e-04 - mae: 0.0183 - lr: 1.4125e-07\n",
            "Epoch 5/100\n",
            "62/62 [==============================] - 1s 19ms/step - loss: 8.5570e-04 - mae: 0.0183 - lr: 1.5849e-07\n",
            "Epoch 6/100\n",
            "62/62 [==============================] - 1s 19ms/step - loss: 8.5527e-04 - mae: 0.0183 - lr: 1.7783e-07\n",
            "Epoch 7/100\n",
            "62/62 [==============================] - 1s 19ms/step - loss: 8.5558e-04 - mae: 0.0183 - lr: 1.9953e-07\n",
            "Epoch 8/100\n",
            "62/62 [==============================] - 1s 19ms/step - loss: 8.5490e-04 - mae: 0.0183 - lr: 2.2387e-07\n",
            "Epoch 9/100\n",
            "62/62 [==============================] - 1s 19ms/step - loss: 8.5462e-04 - mae: 0.0183 - lr: 2.5119e-07\n",
            "Epoch 10/100\n",
            "62/62 [==============================] - 1s 19ms/step - loss: 8.5439e-04 - mae: 0.0182 - lr: 2.8184e-07\n",
            "Epoch 11/100\n",
            "62/62 [==============================] - 1s 19ms/step - loss: 8.5448e-04 - mae: 0.0182 - lr: 3.1623e-07\n",
            "Epoch 12/100\n",
            "62/62 [==============================] - 1s 19ms/step - loss: 8.5446e-04 - mae: 0.0182 - lr: 3.5481e-07\n",
            "Epoch 13/100\n",
            "62/62 [==============================] - 1s 19ms/step - loss: 8.5424e-04 - mae: 0.0182 - lr: 3.9811e-07\n",
            "Epoch 14/100\n",
            "62/62 [==============================] - 1s 19ms/step - loss: 8.5389e-04 - mae: 0.0182 - lr: 4.4668e-07\n",
            "Epoch 15/100\n",
            "62/62 [==============================] - 1s 20ms/step - loss: 8.5351e-04 - mae: 0.0182 - lr: 5.0119e-07\n",
            "Epoch 16/100\n",
            "62/62 [==============================] - 1s 19ms/step - loss: 8.5296e-04 - mae: 0.0182 - lr: 5.6234e-07\n",
            "Epoch 17/100\n",
            "62/62 [==============================] - 1s 19ms/step - loss: 8.5249e-04 - mae: 0.0181 - lr: 6.3096e-07\n",
            "Epoch 18/100\n",
            "62/62 [==============================] - 1s 19ms/step - loss: 8.5223e-04 - mae: 0.0181 - lr: 7.0795e-07\n",
            "Epoch 19/100\n",
            "62/62 [==============================] - 1s 19ms/step - loss: 8.5170e-04 - mae: 0.0181 - lr: 7.9433e-07\n",
            "Epoch 20/100\n",
            "62/62 [==============================] - 1s 19ms/step - loss: 8.5125e-04 - mae: 0.0181 - lr: 8.9125e-07\n",
            "Epoch 21/100\n",
            "62/62 [==============================] - 1s 19ms/step - loss: 8.5068e-04 - mae: 0.0180 - lr: 1.0000e-06\n",
            "Epoch 22/100\n",
            "62/62 [==============================] - 1s 19ms/step - loss: 8.4926e-04 - mae: 0.0180 - lr: 1.1220e-06\n",
            "Epoch 23/100\n",
            "62/62 [==============================] - 1s 19ms/step - loss: 8.4886e-04 - mae: 0.0180 - lr: 1.2589e-06\n",
            "Epoch 24/100\n",
            "62/62 [==============================] - 1s 19ms/step - loss: 8.4822e-04 - mae: 0.0179 - lr: 1.4125e-06\n",
            "Epoch 25/100\n",
            "62/62 [==============================] - 1s 19ms/step - loss: 8.4721e-04 - mae: 0.0179 - lr: 1.5849e-06\n",
            "Epoch 26/100\n",
            "62/62 [==============================] - 1s 19ms/step - loss: 8.4597e-04 - mae: 0.0178 - lr: 1.7783e-06\n",
            "Epoch 27/100\n",
            "62/62 [==============================] - 1s 19ms/step - loss: 8.4454e-04 - mae: 0.0178 - lr: 1.9953e-06\n",
            "Epoch 28/100\n",
            "62/62 [==============================] - 1s 19ms/step - loss: 8.4341e-04 - mae: 0.0177 - lr: 2.2387e-06\n",
            "Epoch 29/100\n",
            "62/62 [==============================] - 1s 19ms/step - loss: 8.4183e-04 - mae: 0.0176 - lr: 2.5119e-06\n",
            "Epoch 30/100\n",
            "62/62 [==============================] - 1s 19ms/step - loss: 8.4051e-04 - mae: 0.0176 - lr: 2.8184e-06\n",
            "Epoch 31/100\n",
            "62/62 [==============================] - 1s 20ms/step - loss: 8.3841e-04 - mae: 0.0175 - lr: 3.1623e-06\n",
            "Epoch 32/100\n",
            "62/62 [==============================] - 1s 19ms/step - loss: 8.3609e-04 - mae: 0.0174 - lr: 3.5481e-06\n",
            "Epoch 33/100\n",
            "62/62 [==============================] - 1s 19ms/step - loss: 8.3417e-04 - mae: 0.0173 - lr: 3.9811e-06\n",
            "Epoch 34/100\n",
            "62/62 [==============================] - 1s 19ms/step - loss: 8.3134e-04 - mae: 0.0172 - lr: 4.4668e-06\n",
            "Epoch 35/100\n",
            "62/62 [==============================] - 1s 19ms/step - loss: 8.2856e-04 - mae: 0.0171 - lr: 5.0119e-06\n",
            "Epoch 36/100\n",
            "62/62 [==============================] - 1s 19ms/step - loss: 8.2563e-04 - mae: 0.0171 - lr: 5.6234e-06\n",
            "Epoch 37/100\n",
            "62/62 [==============================] - 1s 19ms/step - loss: 8.2232e-04 - mae: 0.0169 - lr: 6.3096e-06\n",
            "Epoch 38/100\n",
            "62/62 [==============================] - 1s 19ms/step - loss: 8.1861e-04 - mae: 0.0168 - lr: 7.0795e-06\n",
            "Epoch 39/100\n",
            "62/62 [==============================] - 1s 19ms/step - loss: 8.1491e-04 - mae: 0.0168 - lr: 7.9433e-06\n",
            "Epoch 40/100\n",
            "62/62 [==============================] - 1s 19ms/step - loss: 8.1056e-04 - mae: 0.0167 - lr: 8.9125e-06\n",
            "Epoch 41/100\n",
            "62/62 [==============================] - 1s 18ms/step - loss: 8.0544e-04 - mae: 0.0166 - lr: 1.0000e-05\n",
            "Epoch 42/100\n",
            "62/62 [==============================] - 1s 19ms/step - loss: 8.0051e-04 - mae: 0.0166 - lr: 1.1220e-05\n",
            "Epoch 43/100\n",
            "62/62 [==============================] - 1s 18ms/step - loss: 7.9489e-04 - mae: 0.0166 - lr: 1.2589e-05\n",
            "Epoch 44/100\n",
            "62/62 [==============================] - 1s 19ms/step - loss: 7.8942e-04 - mae: 0.0167 - lr: 1.4125e-05\n",
            "Epoch 45/100\n",
            "62/62 [==============================] - 1s 19ms/step - loss: 7.8339e-04 - mae: 0.0168 - lr: 1.5849e-05\n",
            "Epoch 46/100\n",
            "62/62 [==============================] - 1s 19ms/step - loss: 7.7685e-04 - mae: 0.0170 - lr: 1.7783e-05\n",
            "Epoch 47/100\n",
            "62/62 [==============================] - 1s 19ms/step - loss: 7.7026e-04 - mae: 0.0172 - lr: 1.9953e-05\n",
            "Epoch 48/100\n",
            "62/62 [==============================] - 1s 20ms/step - loss: 7.6312e-04 - mae: 0.0174 - lr: 2.2387e-05\n",
            "Epoch 49/100\n",
            "62/62 [==============================] - 1s 19ms/step - loss: 7.5634e-04 - mae: 0.0177 - lr: 2.5119e-05\n",
            "Epoch 50/100\n",
            "62/62 [==============================] - 1s 19ms/step - loss: 7.4937e-04 - mae: 0.0179 - lr: 2.8184e-05\n",
            "Epoch 51/100\n",
            "62/62 [==============================] - 1s 19ms/step - loss: 7.4216e-04 - mae: 0.0182 - lr: 3.1623e-05\n",
            "Epoch 52/100\n",
            "62/62 [==============================] - 1s 19ms/step - loss: 7.3533e-04 - mae: 0.0186 - lr: 3.5481e-05\n",
            "Epoch 53/100\n",
            "62/62 [==============================] - 1s 19ms/step - loss: 7.2841e-04 - mae: 0.0189 - lr: 3.9811e-05\n",
            "Epoch 54/100\n",
            "62/62 [==============================] - 1s 19ms/step - loss: 7.2212e-04 - mae: 0.0193 - lr: 4.4668e-05\n",
            "Epoch 55/100\n",
            "62/62 [==============================] - 1s 19ms/step - loss: 7.1618e-04 - mae: 0.0197 - lr: 5.0119e-05\n",
            "Epoch 56/100\n",
            "62/62 [==============================] - 1s 20ms/step - loss: 7.1070e-04 - mae: 0.0201 - lr: 5.6234e-05\n",
            "Epoch 57/100\n",
            "62/62 [==============================] - 1s 18ms/step - loss: 7.0660e-04 - mae: 0.0205 - lr: 6.3096e-05\n",
            "Epoch 58/100\n",
            "62/62 [==============================] - 1s 18ms/step - loss: 7.0279e-04 - mae: 0.0209 - lr: 7.0795e-05\n",
            "Epoch 59/100\n",
            "62/62 [==============================] - 1s 19ms/step - loss: 6.9962e-04 - mae: 0.0213 - lr: 7.9433e-05\n",
            "Epoch 60/100\n",
            "62/62 [==============================] - 1s 18ms/step - loss: 6.9752e-04 - mae: 0.0217 - lr: 8.9125e-05\n",
            "Epoch 61/100\n",
            "62/62 [==============================] - 1s 19ms/step - loss: 6.9624e-04 - mae: 0.0221 - lr: 1.0000e-04\n",
            "Epoch 62/100\n",
            "62/62 [==============================] - 1s 18ms/step - loss: 6.9597e-04 - mae: 0.0224 - lr: 1.1220e-04\n",
            "Epoch 63/100\n",
            "62/62 [==============================] - 1s 18ms/step - loss: 6.9576e-04 - mae: 0.0228 - lr: 1.2589e-04\n",
            "Epoch 64/100\n",
            "62/62 [==============================] - 1s 18ms/step - loss: 6.9630e-04 - mae: 0.0231 - lr: 1.4125e-04\n",
            "Epoch 65/100\n",
            "62/62 [==============================] - 1s 19ms/step - loss: 6.9658e-04 - mae: 0.0233 - lr: 1.5849e-04\n",
            "Epoch 66/100\n",
            "62/62 [==============================] - 1s 19ms/step - loss: 6.9802e-04 - mae: 0.0235 - lr: 1.7783e-04\n",
            "Epoch 67/100\n",
            "62/62 [==============================] - 1s 18ms/step - loss: 6.9934e-04 - mae: 0.0237 - lr: 1.9953e-04\n",
            "Epoch 68/100\n",
            "62/62 [==============================] - 1s 18ms/step - loss: 7.0085e-04 - mae: 0.0239 - lr: 2.2387e-04\n",
            "Epoch 69/100\n",
            "62/62 [==============================] - 1s 19ms/step - loss: 7.0285e-04 - mae: 0.0240 - lr: 2.5119e-04\n",
            "Epoch 70/100\n",
            "62/62 [==============================] - 1s 19ms/step - loss: 7.0464e-04 - mae: 0.0241 - lr: 2.8184e-04\n",
            "Epoch 71/100\n",
            "62/62 [==============================] - 1s 19ms/step - loss: 7.0640e-04 - mae: 0.0242 - lr: 3.1623e-04\n",
            "Epoch 72/100\n",
            "62/62 [==============================] - 1s 19ms/step - loss: 7.0902e-04 - mae: 0.0243 - lr: 3.5481e-04\n",
            "Epoch 73/100\n",
            "62/62 [==============================] - 1s 19ms/step - loss: 7.1102e-04 - mae: 0.0244 - lr: 3.9811e-04\n",
            "Epoch 74/100\n",
            "62/62 [==============================] - 1s 18ms/step - loss: 7.1376e-04 - mae: 0.0245 - lr: 4.4668e-04\n",
            "Epoch 75/100\n",
            "62/62 [==============================] - 1s 19ms/step - loss: 7.1656e-04 - mae: 0.0246 - lr: 5.0119e-04\n",
            "Epoch 76/100\n",
            "62/62 [==============================] - 1s 19ms/step - loss: 7.2007e-04 - mae: 0.0247 - lr: 5.6234e-04\n",
            "Epoch 77/100\n",
            "62/62 [==============================] - 1s 18ms/step - loss: 7.2371e-04 - mae: 0.0248 - lr: 6.3096e-04\n",
            "Epoch 78/100\n",
            "62/62 [==============================] - 1s 19ms/step - loss: 7.2830e-04 - mae: 0.0249 - lr: 7.0795e-04\n",
            "Epoch 79/100\n",
            "62/62 [==============================] - 1s 19ms/step - loss: 7.3219e-04 - mae: 0.0251 - lr: 7.9433e-04\n",
            "Epoch 80/100\n",
            "62/62 [==============================] - 1s 19ms/step - loss: 7.3714e-04 - mae: 0.0252 - lr: 8.9125e-04\n",
            "Epoch 81/100\n",
            "62/62 [==============================] - 1s 19ms/step - loss: 7.4277e-04 - mae: 0.0254 - lr: 0.0010\n",
            "Epoch 82/100\n",
            "62/62 [==============================] - 1s 19ms/step - loss: 7.4917e-04 - mae: 0.0257 - lr: 0.0011\n",
            "Epoch 83/100\n",
            "62/62 [==============================] - 1s 19ms/step - loss: 7.5525e-04 - mae: 0.0258 - lr: 0.0013\n",
            "Epoch 84/100\n",
            "62/62 [==============================] - 1s 20ms/step - loss: 7.6155e-04 - mae: 0.0260 - lr: 0.0014\n",
            "Epoch 85/100\n",
            "62/62 [==============================] - 1s 19ms/step - loss: 7.6733e-04 - mae: 0.0262 - lr: 0.0016\n",
            "Epoch 86/100\n",
            "62/62 [==============================] - 1s 19ms/step - loss: 7.7540e-04 - mae: 0.0264 - lr: 0.0018\n",
            "Epoch 87/100\n",
            "62/62 [==============================] - 1s 19ms/step - loss: 7.7848e-04 - mae: 0.0265 - lr: 0.0020\n",
            "Epoch 88/100\n",
            "62/62 [==============================] - 1s 19ms/step - loss: 7.8334e-04 - mae: 0.0269 - lr: 0.0022\n",
            "Epoch 89/100\n",
            "62/62 [==============================] - 1s 19ms/step - loss: 7.8427e-04 - mae: 0.0273 - lr: 0.0025\n",
            "Epoch 90/100\n",
            "62/62 [==============================] - 1s 19ms/step - loss: 7.8008e-04 - mae: 0.0276 - lr: 0.0028\n",
            "Epoch 91/100\n",
            "62/62 [==============================] - 1s 19ms/step - loss: 7.7435e-04 - mae: 0.0279 - lr: 0.0032\n",
            "Epoch 92/100\n",
            "62/62 [==============================] - 1s 18ms/step - loss: 7.6178e-04 - mae: 0.0279 - lr: 0.0035\n",
            "Epoch 93/100\n",
            "62/62 [==============================] - 1s 19ms/step - loss: 7.4032e-04 - mae: 0.0278 - lr: 0.0040\n",
            "Epoch 94/100\n",
            "62/62 [==============================] - 1s 19ms/step - loss: 7.2022e-04 - mae: 0.0275 - lr: 0.0045\n",
            "Epoch 95/100\n",
            "62/62 [==============================] - 1s 19ms/step - loss: 6.9790e-04 - mae: 0.0269 - lr: 0.0050\n",
            "Epoch 96/100\n",
            "62/62 [==============================] - 1s 19ms/step - loss: 6.7659e-04 - mae: 0.0262 - lr: 0.0056\n",
            "Epoch 97/100\n",
            "62/62 [==============================] - 1s 19ms/step - loss: 6.6123e-04 - mae: 0.0257 - lr: 0.0063\n",
            "Epoch 98/100\n",
            "62/62 [==============================] - 1s 19ms/step - loss: 6.4792e-04 - mae: 0.0254 - lr: 0.0071\n",
            "Epoch 99/100\n",
            "62/62 [==============================] - 1s 18ms/step - loss: 6.4273e-04 - mae: 0.0254 - lr: 0.0079\n",
            "Epoch 100/100\n",
            "62/62 [==============================] - 1s 18ms/step - loss: 6.4539e-04 - mae: 0.0257 - lr: 0.0089\n"
          ],
          "name": "stdout"
        }
      ]
    },
    {
      "cell_type": "markdown",
      "metadata": {
        "id": "szz9aQ8DGvth",
        "colab_type": "text"
      },
      "source": [
        "### Prediction\n",
        "Calling model_forecast function to predict next value of each previous 60 day period. The return will be a series of the price of next day that model predicted. The size of series is the same of actual validation dataset(x_valid) since we need to use to compare the trend two datasets."
      ]
    },
    {
      "cell_type": "code",
      "metadata": {
        "id": "lBeB_A_xi92I",
        "colab_type": "code",
        "outputId": "291e22e2-a633-4c38-edf8-1a396751fbf6",
        "colab": {
          "base_uri": "https://localhost:8080/",
          "height": 34
        }
      },
      "source": [
        "lstm_forecast = model_forecast(model, normalized_dataset, window_size)\n",
        "lstm_predicted= lstm_forecast[train_size - window_size:-1, -1]"
      ],
      "execution_count": 0,
      "outputs": [
        {
          "output_type": "execute_result",
          "data": {
            "text/plain": [
              "((1987, 1), (1987, 1))"
            ]
          },
          "metadata": {
            "tags": []
          },
          "execution_count": 43
        }
      ]
    },
    {
      "cell_type": "code",
      "metadata": {
        "id": "qayPFe-gOKNg",
        "colab_type": "code",
        "colab": {}
      },
      "source": [
        "def plot_actual_predict(actual, predict):\n",
        "    \"\"\"\n",
        "        Plot a graph represents the relation between actual values\n",
        "        and prediction values\n",
        "    \"\"\"\n",
        "\n",
        "    plt.figure(figsize=(10, 8))\n",
        "    a = plt.plot(actual, label='Actual')\n",
        "    p = plt.plot(predict, label='Prediction')\n",
        "    plt.legend()\n",
        "    plt.show()"
      ],
      "execution_count": 0,
      "outputs": []
    },
    {
      "cell_type": "markdown",
      "metadata": {
        "id": "RDUE-44R-z-Q",
        "colab_type": "text"
      },
      "source": [
        "### Result"
      ]
    },
    {
      "cell_type": "markdown",
      "metadata": {
        "id": "UG_E2s_5-7qB",
        "colab_type": "text"
      },
      "source": [
        "Plot the graph to compare between actual values and the predicted values after model has been trained"
      ]
    },
    {
      "cell_type": "code",
      "metadata": {
        "id": "UINoRt12jZd0",
        "colab_type": "code",
        "outputId": "ee5d1a55-310a-45dc-d748-f12e64e31292",
        "colab": {
          "base_uri": "https://localhost:8080/",
          "height": 483
        }
      },
      "source": [
        "plot_actual_predict(x_valid, lstm_predicted)"
      ],
      "execution_count": 0,
      "outputs": [
        {
          "output_type": "display_data",
          "data": {
            "image/png": "[encoded data removed]",
            "text/plain": [
              "<Figure size 720x576 with 1 Axes>"
            ]
          },
          "metadata": {
            "tags": [],
            "needs_background": "light"
          }
        }
      ]
    },
    {
      "cell_type": "markdown",
      "metadata": {
        "id": "iLLqz_7MOvf8",
        "colab_type": "text"
      },
      "source": [
        "As we can see the prediction picked up the trend of the actual value. However, the prediction is really low compare to actual values."
      ]
    },
    {
      "cell_type": "markdown",
      "metadata": {
        "id": "u62_yrbrL2B8",
        "colab_type": "text"
      },
      "source": [
        "This function will reverse validation dataset and prediction dataset to regular value of stock price, then calculate Mean Abosolute Error and Mean Squared Error of two datasets"
      ]
    },
    {
      "cell_type": "code",
      "metadata": {
        "id": "M-ipymZVM09k",
        "colab_type": "code",
        "colab": {}
      },
      "source": [
        "def cal_unscaled_error(validation, prediction):\n",
        "  \"\"\"\n",
        "    Calculate the Absolute Mean Error loss between the validation dataset\n",
        "    and the prediction dataset\n",
        "  \"\"\"\n",
        "  unscaled_lstm_valid = normalize_scaler.inverse_transform(prediction)\n",
        "  unscaled_valid = normalize_scaler.inverse_transform(validation)\n",
        "  mae = tf.keras.metrics.mean_absolute_error(unscaled_lstm_valid[:,0], unscaled_valid[:,0]).numpy()\n",
        "  mse = tf.keras.metrics.mean_squared_error(unscaled_lstm_valid[:,0], unscaled_valid[:,0]).numpy()\n",
        "  print(\"Mean Squared Error: \",mse)\n",
        "  print(\"Mean Absolute Error: \",mae)"
      ],
      "execution_count": 0,
      "outputs": []
    },
    {
      "cell_type": "code",
      "metadata": {
        "id": "Iei3r7TFOSxN",
        "colab_type": "code",
        "outputId": "66defd8c-206d-4828-e23f-16117dc62cc9",
        "colab": {
          "base_uri": "https://localhost:8080/",
          "height": 51
        }
      },
      "source": [
        "cal_unscaled_error(x_valid, lstm_predicted)"
      ],
      "execution_count": 0,
      "outputs": [
        {
          "output_type": "stream",
          "text": [
            "Mean Squared Error:  7465.351401487253\n",
            "Mean Absolute Error:  73.33160112040213\n"
          ],
          "name": "stdout"
        }
      ]
    },
    {
      "cell_type": "markdown",
      "metadata": {
        "id": "G_ZRdOWJVs9Q",
        "colab_type": "text"
      },
      "source": [
        "Regarding to the graph and two metric values above, the distance between a actual value point and a prediction value point are large, the prediction of model is not really accurate. We will keep these values as a base to tune in our model."
      ]
    },
    {
      "cell_type": "markdown",
      "metadata": {
        "id": "IbA5sVWrazmr",
        "colab_type": "text"
      },
      "source": [
        "## Tuning Model - first time"
      ]
    },
    {
      "cell_type": "markdown",
      "metadata": {
        "id": "F_YZ7qyHa5yc",
        "colab_type": "text"
      },
      "source": [
        "After doing some research we found out that Convolution Neural Network can help to extract the important featuress before passing on to LSTM layers for processing. Because the dataset is a univariate time series, we will convolution 1d neural network(Conv1D). \n",
        "\n",
        "\"Causual\" argument will add leading 0s into the layers' input so we can predict the values of early time steps. It also keeps the size of outputs same as the inputs to avoid losing data from filtering. Also using \"causual\" helps the model can be trained on incomplete units. Since stock price is never negative value, we decide using Relu function for output activation layers. \n",
        "\n",
        "<br>We also add another Dense layer for each LSTM's units and last Dense layer as a fully connected layer for output."
      ]
    },
    {
      "cell_type": "code",
      "metadata": {
        "id": "xlIAfiPCsFi4",
        "colab_type": "code",
        "outputId": "1db0b4ba-d2b4-43db-efa8-af81952a907a",
        "colab": {
          "base_uri": "https://localhost:8080/",
          "height": 1000
        }
      },
      "source": [
        "tf.keras.backend.clear_session()\n",
        "tf.random.set_seed(51)\n",
        "np.random.seed(51)\n",
        "\n",
        "train_set = window_dataset(x_train, window_size, batch_size, shuffle_size)\n",
        "\n",
        "model = Sequential([\n",
        "          Conv1D(filters=60, kernel_size=5,\n",
        "                      strides=1, padding=\"causal\",\n",
        "                      activation=\"relu\",\n",
        "                      input_shape=[None, 1]),\n",
        "          LSTM(lstm_units, return_sequences=True, \n",
        "                       dropout=0.2, recurrent_activation='sigmoid'),  \n",
        "          Dense(lstm_units),                                                \n",
        "          Dense(1)                                                                     \n",
        "])                                                                   \n",
        "\n",
        "lr_callback = LearningRateScheduler(\n",
        "    lambda epoch : 1e-7 * 10**(epoch/20)\n",
        ")\n",
        "\n",
        "optimizer_SGD = optimizers.SGD(lr=1e-7, momentum=0.9)\n",
        "\n",
        "model.compile(optimizer=optimizer_SGD, \n",
        "              loss=Huber(),\n",
        "              metrics=['mse'])\n",
        "\n",
        "history = model.fit(train_set, epochs=120, callbacks=[lr_callback], verbose=verbose_mode)\n"
      ],
      "execution_count": 0,
      "outputs": [
        {
          "output_type": "stream",
          "text": [
            "Epoch 1/120\n",
            "62/62 [==============================] - 1s 18ms/step - loss: 5.9673e-04 - mse: 0.0012 - lr: 1.0000e-07\n",
            "Epoch 2/120\n",
            "62/62 [==============================] - 1s 19ms/step - loss: 5.9691e-04 - mse: 0.0012 - lr: 1.1220e-07\n",
            "Epoch 3/120\n",
            "62/62 [==============================] - 1s 19ms/step - loss: 5.9715e-04 - mse: 0.0012 - lr: 1.2589e-07\n",
            "Epoch 4/120\n",
            "62/62 [==============================] - 1s 19ms/step - loss: 5.9674e-04 - mse: 0.0012 - lr: 1.4125e-07\n",
            "Epoch 5/120\n",
            "62/62 [==============================] - 1s 19ms/step - loss: 5.9681e-04 - mse: 0.0012 - lr: 1.5849e-07\n",
            "Epoch 6/120\n",
            "62/62 [==============================] - 1s 19ms/step - loss: 5.9568e-04 - mse: 0.0012 - lr: 1.7783e-07\n",
            "Epoch 7/120\n",
            "62/62 [==============================] - 1s 19ms/step - loss: 5.9614e-04 - mse: 0.0012 - lr: 1.9953e-07\n",
            "Epoch 8/120\n",
            "62/62 [==============================] - 1s 19ms/step - loss: 5.9655e-04 - mse: 0.0012 - lr: 2.2387e-07\n",
            "Epoch 9/120\n",
            "62/62 [==============================] - 1s 19ms/step - loss: 5.9570e-04 - mse: 0.0012 - lr: 2.5119e-07\n",
            "Epoch 10/120\n",
            "62/62 [==============================] - 1s 19ms/step - loss: 5.9679e-04 - mse: 0.0012 - lr: 2.8184e-07\n",
            "Epoch 11/120\n",
            "62/62 [==============================] - 1s 19ms/step - loss: 5.9529e-04 - mse: 0.0012 - lr: 3.1623e-07\n",
            "Epoch 12/120\n",
            "62/62 [==============================] - 1s 20ms/step - loss: 5.9515e-04 - mse: 0.0012 - lr: 3.5481e-07\n",
            "Epoch 13/120\n",
            "62/62 [==============================] - 1s 19ms/step - loss: 5.9528e-04 - mse: 0.0012 - lr: 3.9811e-07\n",
            "Epoch 14/120\n",
            "62/62 [==============================] - 1s 19ms/step - loss: 5.9448e-04 - mse: 0.0012 - lr: 4.4668e-07\n",
            "Epoch 15/120\n",
            "62/62 [==============================] - 1s 19ms/step - loss: 5.9389e-04 - mse: 0.0012 - lr: 5.0119e-07\n",
            "Epoch 16/120\n",
            "62/62 [==============================] - 1s 19ms/step - loss: 5.9429e-04 - mse: 0.0012 - lr: 5.6234e-07\n",
            "Epoch 17/120\n",
            "62/62 [==============================] - 1s 20ms/step - loss: 5.9341e-04 - mse: 0.0012 - lr: 6.3096e-07\n",
            "Epoch 18/120\n",
            "62/62 [==============================] - 1s 19ms/step - loss: 5.9325e-04 - mse: 0.0012 - lr: 7.0795e-07\n",
            "Epoch 19/120\n",
            "62/62 [==============================] - 1s 19ms/step - loss: 5.9322e-04 - mse: 0.0012 - lr: 7.9433e-07\n",
            "Epoch 20/120\n",
            "62/62 [==============================] - 1s 19ms/step - loss: 5.9196e-04 - mse: 0.0012 - lr: 8.9125e-07\n",
            "Epoch 21/120\n",
            "62/62 [==============================] - 1s 19ms/step - loss: 5.9119e-04 - mse: 0.0012 - lr: 1.0000e-06\n",
            "Epoch 22/120\n",
            "62/62 [==============================] - 1s 19ms/step - loss: 5.9085e-04 - mse: 0.0012 - lr: 1.1220e-06\n",
            "Epoch 23/120\n",
            "62/62 [==============================] - 1s 19ms/step - loss: 5.9031e-04 - mse: 0.0012 - lr: 1.2589e-06\n",
            "Epoch 24/120\n",
            "62/62 [==============================] - 1s 19ms/step - loss: 5.8906e-04 - mse: 0.0012 - lr: 1.4125e-06\n",
            "Epoch 25/120\n",
            "62/62 [==============================] - 1s 18ms/step - loss: 5.8771e-04 - mse: 0.0012 - lr: 1.5849e-06\n",
            "Epoch 26/120\n",
            "62/62 [==============================] - 1s 20ms/step - loss: 5.8599e-04 - mse: 0.0012 - lr: 1.7783e-06\n",
            "Epoch 27/120\n",
            "62/62 [==============================] - 1s 19ms/step - loss: 5.8531e-04 - mse: 0.0012 - lr: 1.9953e-06\n",
            "Epoch 28/120\n",
            "62/62 [==============================] - 1s 19ms/step - loss: 5.8476e-04 - mse: 0.0012 - lr: 2.2387e-06\n",
            "Epoch 29/120\n",
            "62/62 [==============================] - 1s 19ms/step - loss: 5.8326e-04 - mse: 0.0012 - lr: 2.5119e-06\n",
            "Epoch 30/120\n",
            "62/62 [==============================] - 1s 19ms/step - loss: 5.8106e-04 - mse: 0.0012 - lr: 2.8184e-06\n",
            "Epoch 31/120\n",
            "62/62 [==============================] - 1s 19ms/step - loss: 5.7951e-04 - mse: 0.0012 - lr: 3.1623e-06\n",
            "Epoch 32/120\n",
            "62/62 [==============================] - 1s 19ms/step - loss: 5.7698e-04 - mse: 0.0012 - lr: 3.5481e-06\n",
            "Epoch 33/120\n",
            "62/62 [==============================] - 1s 19ms/step - loss: 5.7489e-04 - mse: 0.0011 - lr: 3.9811e-06\n",
            "Epoch 34/120\n",
            "62/62 [==============================] - 1s 19ms/step - loss: 5.7344e-04 - mse: 0.0011 - lr: 4.4668e-06\n",
            "Epoch 35/120\n",
            "62/62 [==============================] - 1s 19ms/step - loss: 5.6945e-04 - mse: 0.0011 - lr: 5.0119e-06\n",
            "Epoch 36/120\n",
            "62/62 [==============================] - 1s 19ms/step - loss: 5.6760e-04 - mse: 0.0011 - lr: 5.6234e-06\n",
            "Epoch 37/120\n",
            "62/62 [==============================] - 1s 19ms/step - loss: 5.6428e-04 - mse: 0.0011 - lr: 6.3096e-06\n",
            "Epoch 38/120\n",
            "62/62 [==============================] - 1s 19ms/step - loss: 5.6087e-04 - mse: 0.0011 - lr: 7.0795e-06\n",
            "Epoch 39/120\n",
            "62/62 [==============================] - 1s 18ms/step - loss: 5.5800e-04 - mse: 0.0011 - lr: 7.9433e-06\n",
            "Epoch 40/120\n",
            "62/62 [==============================] - 1s 19ms/step - loss: 5.5343e-04 - mse: 0.0011 - lr: 8.9125e-06\n",
            "Epoch 41/120\n",
            "62/62 [==============================] - 1s 19ms/step - loss: 5.4870e-04 - mse: 0.0011 - lr: 1.0000e-05\n",
            "Epoch 42/120\n",
            "62/62 [==============================] - 1s 19ms/step - loss: 5.4540e-04 - mse: 0.0011 - lr: 1.1220e-05\n",
            "Epoch 43/120\n",
            "62/62 [==============================] - 1s 19ms/step - loss: 5.4059e-04 - mse: 0.0011 - lr: 1.2589e-05\n",
            "Epoch 44/120\n",
            "62/62 [==============================] - 1s 19ms/step - loss: 5.3588e-04 - mse: 0.0011 - lr: 1.4125e-05\n",
            "Epoch 45/120\n",
            "62/62 [==============================] - 1s 19ms/step - loss: 5.3139e-04 - mse: 0.0011 - lr: 1.5849e-05\n",
            "Epoch 46/120\n",
            "62/62 [==============================] - 1s 18ms/step - loss: 5.2533e-04 - mse: 0.0011 - lr: 1.7783e-05\n",
            "Epoch 47/120\n",
            "62/62 [==============================] - 1s 18ms/step - loss: 5.2125e-04 - mse: 0.0010 - lr: 1.9953e-05\n",
            "Epoch 48/120\n",
            "62/62 [==============================] - 1s 19ms/step - loss: 5.1642e-04 - mse: 0.0010 - lr: 2.2387e-05\n",
            "Epoch 49/120\n",
            "62/62 [==============================] - 1s 18ms/step - loss: 5.1210e-04 - mse: 0.0010 - lr: 2.5119e-05\n",
            "Epoch 50/120\n",
            "62/62 [==============================] - 1s 19ms/step - loss: 5.0734e-04 - mse: 0.0010 - lr: 2.8184e-05\n",
            "Epoch 51/120\n",
            "62/62 [==============================] - 1s 19ms/step - loss: 5.0230e-04 - mse: 0.0010 - lr: 3.1623e-05\n",
            "Epoch 52/120\n",
            "62/62 [==============================] - 1s 19ms/step - loss: 4.9850e-04 - mse: 9.9701e-04 - lr: 3.5481e-05\n",
            "Epoch 53/120\n",
            "62/62 [==============================] - 1s 19ms/step - loss: 4.9575e-04 - mse: 9.9149e-04 - lr: 3.9811e-05\n",
            "Epoch 54/120\n",
            "62/62 [==============================] - 1s 19ms/step - loss: 4.9177e-04 - mse: 9.8354e-04 - lr: 4.4668e-05\n",
            "Epoch 55/120\n",
            "62/62 [==============================] - 1s 19ms/step - loss: 4.8868e-04 - mse: 9.7737e-04 - lr: 5.0119e-05\n",
            "Epoch 56/120\n",
            "62/62 [==============================] - 1s 19ms/step - loss: 4.8813e-04 - mse: 9.7627e-04 - lr: 5.6234e-05\n",
            "Epoch 57/120\n",
            "62/62 [==============================] - 1s 19ms/step - loss: 4.8521e-04 - mse: 9.7042e-04 - lr: 6.3096e-05\n",
            "Epoch 58/120\n",
            "62/62 [==============================] - 1s 19ms/step - loss: 4.8472e-04 - mse: 9.6943e-04 - lr: 7.0795e-05\n",
            "Epoch 59/120\n",
            "62/62 [==============================] - 1s 19ms/step - loss: 4.8436e-04 - mse: 9.6872e-04 - lr: 7.9433e-05\n",
            "Epoch 60/120\n",
            "62/62 [==============================] - 1s 19ms/step - loss: 4.8456e-04 - mse: 9.6913e-04 - lr: 8.9125e-05\n",
            "Epoch 61/120\n",
            "62/62 [==============================] - 1s 19ms/step - loss: 4.8534e-04 - mse: 9.7069e-04 - lr: 1.0000e-04\n",
            "Epoch 62/120\n",
            "62/62 [==============================] - 1s 18ms/step - loss: 4.8487e-04 - mse: 9.6973e-04 - lr: 1.1220e-04\n",
            "Epoch 63/120\n",
            "62/62 [==============================] - 1s 19ms/step - loss: 4.8636e-04 - mse: 9.7271e-04 - lr: 1.2589e-04\n",
            "Epoch 64/120\n",
            "62/62 [==============================] - 1s 18ms/step - loss: 4.8728e-04 - mse: 9.7456e-04 - lr: 1.4125e-04\n",
            "Epoch 65/120\n",
            "62/62 [==============================] - 1s 19ms/step - loss: 4.8652e-04 - mse: 9.7305e-04 - lr: 1.5849e-04\n",
            "Epoch 66/120\n",
            "62/62 [==============================] - 1s 19ms/step - loss: 4.8906e-04 - mse: 9.7811e-04 - lr: 1.7783e-04\n",
            "Epoch 67/120\n",
            "62/62 [==============================] - 1s 19ms/step - loss: 4.8939e-04 - mse: 9.7879e-04 - lr: 1.9953e-04\n",
            "Epoch 68/120\n",
            "62/62 [==============================] - 1s 18ms/step - loss: 4.8987e-04 - mse: 9.7973e-04 - lr: 2.2387e-04\n",
            "Epoch 69/120\n",
            "62/62 [==============================] - 1s 19ms/step - loss: 4.9035e-04 - mse: 9.8070e-04 - lr: 2.5119e-04\n",
            "Epoch 70/120\n",
            "62/62 [==============================] - 1s 19ms/step - loss: 4.9156e-04 - mse: 9.8313e-04 - lr: 2.8184e-04\n",
            "Epoch 71/120\n",
            "62/62 [==============================] - 1s 19ms/step - loss: 4.9321e-04 - mse: 9.8641e-04 - lr: 3.1623e-04\n",
            "Epoch 72/120\n",
            "62/62 [==============================] - 1s 19ms/step - loss: 4.9287e-04 - mse: 9.8574e-04 - lr: 3.5481e-04\n",
            "Epoch 73/120\n",
            "62/62 [==============================] - 1s 19ms/step - loss: 4.9110e-04 - mse: 9.8220e-04 - lr: 3.9811e-04\n",
            "Epoch 74/120\n",
            "62/62 [==============================] - 1s 19ms/step - loss: 4.9089e-04 - mse: 9.8179e-04 - lr: 4.4668e-04\n",
            "Epoch 75/120\n",
            "62/62 [==============================] - 1s 19ms/step - loss: 4.8907e-04 - mse: 9.7814e-04 - lr: 5.0119e-04\n",
            "Epoch 76/120\n",
            "62/62 [==============================] - 1s 18ms/step - loss: 4.8894e-04 - mse: 9.7788e-04 - lr: 5.6234e-04\n",
            "Epoch 77/120\n",
            "62/62 [==============================] - 1s 18ms/step - loss: 4.8869e-04 - mse: 9.7738e-04 - lr: 6.3096e-04\n",
            "Epoch 78/120\n",
            "62/62 [==============================] - 1s 19ms/step - loss: 4.8755e-04 - mse: 9.7509e-04 - lr: 7.0795e-04\n",
            "Epoch 79/120\n",
            "62/62 [==============================] - 1s 18ms/step - loss: 4.8749e-04 - mse: 9.7498e-04 - lr: 7.9433e-04\n",
            "Epoch 80/120\n",
            "62/62 [==============================] - 1s 19ms/step - loss: 4.8579e-04 - mse: 9.7158e-04 - lr: 8.9125e-04\n",
            "Epoch 81/120\n",
            "62/62 [==============================] - 1s 19ms/step - loss: 4.8264e-04 - mse: 9.6528e-04 - lr: 0.0010\n",
            "Epoch 82/120\n",
            "62/62 [==============================] - 1s 19ms/step - loss: 4.8127e-04 - mse: 9.6253e-04 - lr: 0.0011\n",
            "Epoch 83/120\n",
            "62/62 [==============================] - 1s 19ms/step - loss: 4.7757e-04 - mse: 9.5513e-04 - lr: 0.0013\n",
            "Epoch 84/120\n",
            "62/62 [==============================] - 1s 18ms/step - loss: 4.7524e-04 - mse: 9.5048e-04 - lr: 0.0014\n",
            "Epoch 85/120\n",
            "62/62 [==============================] - 1s 19ms/step - loss: 4.6999e-04 - mse: 9.3998e-04 - lr: 0.0016\n",
            "Epoch 86/120\n",
            "62/62 [==============================] - 1s 18ms/step - loss: 4.6500e-04 - mse: 9.3001e-04 - lr: 0.0018\n",
            "Epoch 87/120\n",
            "62/62 [==============================] - 1s 18ms/step - loss: 4.5182e-04 - mse: 9.0364e-04 - lr: 0.0020\n",
            "Epoch 88/120\n",
            "62/62 [==============================] - 1s 18ms/step - loss: 4.3707e-04 - mse: 8.7413e-04 - lr: 0.0022\n",
            "Epoch 89/120\n",
            "62/62 [==============================] - 1s 18ms/step - loss: 4.1914e-04 - mse: 8.3828e-04 - lr: 0.0025\n",
            "Epoch 90/120\n",
            "62/62 [==============================] - 1s 19ms/step - loss: 3.9888e-04 - mse: 7.9776e-04 - lr: 0.0028\n",
            "Epoch 91/120\n",
            "62/62 [==============================] - 1s 18ms/step - loss: 3.8042e-04 - mse: 7.6084e-04 - lr: 0.0032\n",
            "Epoch 92/120\n",
            "62/62 [==============================] - 1s 18ms/step - loss: 3.6186e-04 - mse: 7.2373e-04 - lr: 0.0035\n",
            "Epoch 93/120\n",
            "62/62 [==============================] - 1s 18ms/step - loss: 3.4328e-04 - mse: 6.8655e-04 - lr: 0.0040\n",
            "Epoch 94/120\n",
            "62/62 [==============================] - 1s 18ms/step - loss: 3.2884e-04 - mse: 6.5767e-04 - lr: 0.0045\n",
            "Epoch 95/120\n",
            "62/62 [==============================] - 1s 18ms/step - loss: 3.1754e-04 - mse: 6.3507e-04 - lr: 0.0050\n",
            "Epoch 96/120\n",
            "62/62 [==============================] - 1s 18ms/step - loss: 3.1121e-04 - mse: 6.2242e-04 - lr: 0.0056\n",
            "Epoch 97/120\n",
            "62/62 [==============================] - 1s 18ms/step - loss: 3.0258e-04 - mse: 6.0515e-04 - lr: 0.0063\n",
            "Epoch 98/120\n",
            "62/62 [==============================] - 1s 18ms/step - loss: 2.9679e-04 - mse: 5.9357e-04 - lr: 0.0071\n",
            "Epoch 99/120\n",
            "62/62 [==============================] - 1s 18ms/step - loss: 2.8941e-04 - mse: 5.7882e-04 - lr: 0.0079\n",
            "Epoch 100/120\n",
            "62/62 [==============================] - 1s 18ms/step - loss: 2.8188e-04 - mse: 5.6375e-04 - lr: 0.0089\n",
            "Epoch 101/120\n",
            "62/62 [==============================] - 1s 18ms/step - loss: 2.6069e-04 - mse: 5.2137e-04 - lr: 0.0100\n",
            "Epoch 102/120\n",
            "62/62 [==============================] - 1s 18ms/step - loss: 2.4134e-04 - mse: 4.8268e-04 - lr: 0.0112\n",
            "Epoch 103/120\n",
            "62/62 [==============================] - 1s 19ms/step - loss: 2.2107e-04 - mse: 4.4215e-04 - lr: 0.0126\n",
            "Epoch 104/120\n",
            "62/62 [==============================] - 1s 18ms/step - loss: 2.0998e-04 - mse: 4.1996e-04 - lr: 0.0141\n",
            "Epoch 105/120\n",
            "62/62 [==============================] - 1s 19ms/step - loss: 2.0680e-04 - mse: 4.1359e-04 - lr: 0.0158\n",
            "Epoch 106/120\n",
            "62/62 [==============================] - 1s 18ms/step - loss: 2.0818e-04 - mse: 4.1636e-04 - lr: 0.0178\n",
            "Epoch 107/120\n",
            "62/62 [==============================] - 1s 19ms/step - loss: 1.9274e-04 - mse: 3.8548e-04 - lr: 0.0200\n",
            "Epoch 108/120\n",
            "62/62 [==============================] - 1s 19ms/step - loss: 1.7469e-04 - mse: 3.4938e-04 - lr: 0.0224\n",
            "Epoch 109/120\n",
            "62/62 [==============================] - 1s 18ms/step - loss: 1.6490e-04 - mse: 3.2980e-04 - lr: 0.0251\n",
            "Epoch 110/120\n",
            "62/62 [==============================] - 1s 19ms/step - loss: 1.6368e-04 - mse: 3.2736e-04 - lr: 0.0282\n",
            "Epoch 111/120\n",
            "62/62 [==============================] - 1s 19ms/step - loss: 1.6709e-04 - mse: 3.3419e-04 - lr: 0.0316\n",
            "Epoch 112/120\n",
            "62/62 [==============================] - 1s 19ms/step - loss: 1.6810e-04 - mse: 3.3620e-04 - lr: 0.0355\n",
            "Epoch 113/120\n",
            "62/62 [==============================] - 1s 19ms/step - loss: 1.6813e-04 - mse: 3.3627e-04 - lr: 0.0398\n",
            "Epoch 114/120\n",
            "62/62 [==============================] - 1s 18ms/step - loss: 1.5824e-04 - mse: 3.1647e-04 - lr: 0.0447\n",
            "Epoch 115/120\n",
            "62/62 [==============================] - 1s 18ms/step - loss: 1.8223e-04 - mse: 3.6446e-04 - lr: 0.0501\n",
            "Epoch 116/120\n",
            "62/62 [==============================] - 1s 19ms/step - loss: 1.7638e-04 - mse: 3.5276e-04 - lr: 0.0562\n",
            "Epoch 117/120\n",
            "62/62 [==============================] - 1s 18ms/step - loss: 1.5216e-04 - mse: 3.0432e-04 - lr: 0.0631\n",
            "Epoch 118/120\n",
            "62/62 [==============================] - 1s 19ms/step - loss: 1.4762e-04 - mse: 2.9523e-04 - lr: 0.0708\n",
            "Epoch 119/120\n",
            "62/62 [==============================] - 1s 18ms/step - loss: 1.6815e-04 - mse: 3.3631e-04 - lr: 0.0794\n",
            "Epoch 120/120\n",
            "62/62 [==============================] - 1s 18ms/step - loss: 1.7024e-04 - mse: 3.4048e-04 - lr: 0.0891\n"
          ],
          "name": "stdout"
        }
      ]
    },
    {
      "cell_type": "markdown",
      "metadata": {
        "id": "2IDTtcvu_bOh",
        "colab_type": "text"
      },
      "source": [
        "Plot the graph represents the changes of learning rate and loss in 120 timesteps."
      ]
    },
    {
      "cell_type": "code",
      "metadata": {
        "id": "-D8te-NeZfKK",
        "colab_type": "code",
        "outputId": "689bf88b-4515-4756-aeb9-0f15eb7fb83b",
        "colab": {
          "base_uri": "https://localhost:8080/",
          "height": 518
        }
      },
      "source": [
        "plt.figure(figsize=(10,8))\n",
        "plt.semilogx(history.history['lr'], history.history['loss'])\n",
        "plt.xlabel('Learning Rate')\n",
        "plt.ylabel('Loss')\n",
        "plt.show"
      ],
      "execution_count": 0,
      "outputs": [
        {
          "output_type": "execute_result",
          "data": {
            "text/plain": [
              "<function matplotlib.pyplot.show>"
            ]
          },
          "metadata": {
            "tags": []
          },
          "execution_count": 104
        },
        {
          "output_type": "display_data",
          "data": {
            "image/png": "[encoded data removed]",
            "text/plain": [
              "<Figure size 720x576 with 1 Axes>"
            ]
          },
          "metadata": {
            "tags": [],
            "needs_background": "light"
          }
        }
      ]
    },
    {
      "cell_type": "markdown",
      "metadata": {
        "id": "CzQ1z4oijnbr",
        "colab_type": "text"
      },
      "source": [
        "As we can see the curve looks really good between $10^{-5}$ and  $10^{-4}$ which mean the slope go close to minimum value. We could find an optimal learning rate start at  $10^{-5}$ instead  $10^{-7}$."
      ]
    },
    {
      "cell_type": "markdown",
      "metadata": {
        "id": "q8Bwdpwu_wbd",
        "colab_type": "text"
      },
      "source": [
        "### Result"
      ]
    },
    {
      "cell_type": "markdown",
      "metadata": {
        "id": "p51wIzl_ruED",
        "colab_type": "text"
      },
      "source": [
        "Calculate the prediction and plot the graph of actual and prediction after training."
      ]
    },
    {
      "cell_type": "code",
      "metadata": {
        "id": "28g6AICqarV3",
        "colab_type": "code",
        "colab": {}
      },
      "source": [
        "lstm_forecast = model_forecast(model, normalized_dataset, window_size)\n",
        "lstm_predicted = lstm_forecast[train_size - window_size:-1, -1]"
      ],
      "execution_count": 0,
      "outputs": []
    },
    {
      "cell_type": "code",
      "metadata": {
        "id": "yg745NWExcna",
        "colab_type": "code",
        "outputId": "52166283-bf82-4445-ec73-d9d25e030d3d",
        "colab": {
          "base_uri": "https://localhost:8080/",
          "height": 483
        }
      },
      "source": [
        "plot_actual_predict(x_valid, lstm_predicted)"
      ],
      "execution_count": 0,
      "outputs": [
        {
          "output_type": "display_data",
          "data": {
            "image/png": "[encoded data removed]",
            "text/plain": [
              "<Figure size 720x576 with 1 Axes>"
            ]
          },
          "metadata": {
            "tags": [],
            "needs_background": "light"
          }
        }
      ]
    },
    {
      "cell_type": "code",
      "metadata": {
        "id": "c7HEqnQoxlFV",
        "colab_type": "code",
        "outputId": "221c08d0-5921-40dc-98b1-75d53997e05c",
        "colab": {
          "base_uri": "https://localhost:8080/",
          "height": 51
        }
      },
      "source": [
        "cal_unscaled_error(x_valid, lstm_predicted)"
      ],
      "execution_count": 0,
      "outputs": [
        {
          "output_type": "stream",
          "text": [
            "Mean Squared Error:  1575.8841051201289\n",
            "Mean Absolute Error:  29.59005735231274\n"
          ],
          "name": "stdout"
        }
      ]
    },
    {
      "cell_type": "markdown",
      "metadata": {
        "id": "d8jDrXp_nJQ2",
        "colab_type": "text"
      },
      "source": [
        "From the result of error evaluation, we can see the prediction of model has improved. MSE and MAE loss has decreased significantly.\n",
        "\n",
        "| Error Metric| Previous    | Current       |\n",
        "| :---        |    :----:   |          ---: |\n",
        "| **MSE**         | 7465.351    | 1575.884      |\n",
        "| MAE         | 73.331      | 29.59         |\n",
        "\n",
        "_____\n"
      ]
    },
    {
      "cell_type": "markdown",
      "metadata": {
        "id": "XNZ2dvNLAJ2j",
        "colab_type": "text"
      },
      "source": [
        "## Tuning Model - Second Time"
      ]
    },
    {
      "cell_type": "markdown",
      "metadata": {
        "id": "VcE_xrVnoniy",
        "colab_type": "text"
      },
      "source": [
        "We adjust the callback function to $10^{-5}$ based on the graph of the learning rate and the loss to narrow the optimal range of learning rate. "
      ]
    },
    {
      "cell_type": "code",
      "metadata": {
        "id": "PmpLbUQXzPoO",
        "colab_type": "code",
        "outputId": "e71d1466-8b9d-485f-b195-5c2598f020dd",
        "colab": {
          "base_uri": "https://localhost:8080/",
          "height": 1000
        }
      },
      "source": [
        "tf.keras.backend.clear_session()\n",
        "tf.random.set_seed(51)\n",
        "np.random.seed(51)\n",
        "\n",
        "train_set = window_dataset(x_train, window_size, batch_size, shuffle_size)\n",
        "\n",
        "model = tf.keras.models.Sequential([\n",
        "  tf.keras.layers.Conv1D(filters=60, kernel_size=5,\n",
        "                      strides=1, padding=\"causal\",\n",
        "                      activation=\"relu\",\n",
        "                      input_shape=[None, 1]),\n",
        "  tf.keras.layers.LSTM(64, return_sequences=True, \n",
        "                       dropout=0.2, recurrent_activation='sigmoid', activation='tanh'),  \n",
        "  tf.keras.layers.Dense(64),                                                \n",
        "  tf.keras.layers.Dense(1)                                                                     \n",
        "])\n",
        "\n",
        "lr_callback = tf.keras.callbacks.LearningRateScheduler(\n",
        "    lambda epoch : 1e-5 * 10**(epoch/20)\n",
        ")\n",
        "\n",
        "optimizer_SGD = tf.keras.optimizers.SGD(lr=1e-5, momentum=0.9)\n",
        "\n",
        "model.compile(optimizer=optimizer_SGD, \n",
        "              loss=tf.keras.losses.Huber(),\n",
        "              metrics=['mse'])\n",
        "\n",
        "history = model.fit(train_set, epochs=100, callbacks=[lr_callback], verbose=verbose_mode)\n"
      ],
      "execution_count": 0,
      "outputs": [
        {
          "output_type": "stream",
          "text": [
            "Epoch 1/100\n",
            "62/62 [==============================] - 1s 20ms/step - loss: 5.9520e-04 - mse: 0.0012 - lr: 1.0000e-05\n",
            "Epoch 2/100\n",
            "62/62 [==============================] - 1s 20ms/step - loss: 5.8834e-04 - mse: 0.0012 - lr: 1.1220e-05\n",
            "Epoch 3/100\n",
            "62/62 [==============================] - 1s 21ms/step - loss: 5.8114e-04 - mse: 0.0012 - lr: 1.2589e-05\n",
            "Epoch 4/100\n",
            "62/62 [==============================] - 1s 21ms/step - loss: 5.7301e-04 - mse: 0.0011 - lr: 1.4125e-05\n",
            "Epoch 5/100\n",
            "62/62 [==============================] - 1s 21ms/step - loss: 5.6517e-04 - mse: 0.0011 - lr: 1.5849e-05\n",
            "Epoch 6/100\n",
            "62/62 [==============================] - 1s 21ms/step - loss: 5.5597e-04 - mse: 0.0011 - lr: 1.7783e-05\n",
            "Epoch 7/100\n",
            "62/62 [==============================] - 1s 21ms/step - loss: 5.4830e-04 - mse: 0.0011 - lr: 1.9953e-05\n",
            "Epoch 8/100\n",
            "62/62 [==============================] - 1s 20ms/step - loss: 5.4065e-04 - mse: 0.0011 - lr: 2.2387e-05\n",
            "Epoch 9/100\n",
            "62/62 [==============================] - 1s 22ms/step - loss: 5.3195e-04 - mse: 0.0011 - lr: 2.5119e-05\n",
            "Epoch 10/100\n",
            "62/62 [==============================] - 1s 21ms/step - loss: 5.2540e-04 - mse: 0.0011 - lr: 2.8184e-05\n",
            "Epoch 11/100\n",
            "62/62 [==============================] - 1s 21ms/step - loss: 5.1690e-04 - mse: 0.0010 - lr: 3.1623e-05\n",
            "Epoch 12/100\n",
            "62/62 [==============================] - 1s 21ms/step - loss: 5.1026e-04 - mse: 0.0010 - lr: 3.5481e-05\n",
            "Epoch 13/100\n",
            "62/62 [==============================] - 1s 22ms/step - loss: 5.0458e-04 - mse: 0.0010 - lr: 3.9811e-05\n",
            "Epoch 14/100\n",
            "62/62 [==============================] - 1s 21ms/step - loss: 4.9885e-04 - mse: 9.9770e-04 - lr: 4.4668e-05\n",
            "Epoch 15/100\n",
            "62/62 [==============================] - 1s 21ms/step - loss: 4.9425e-04 - mse: 9.8850e-04 - lr: 5.0119e-05\n",
            "Epoch 16/100\n",
            "62/62 [==============================] - 1s 21ms/step - loss: 4.9148e-04 - mse: 9.8296e-04 - lr: 5.6234e-05\n",
            "Epoch 17/100\n",
            "62/62 [==============================] - 1s 20ms/step - loss: 4.8843e-04 - mse: 9.7686e-04 - lr: 6.3096e-05\n",
            "Epoch 18/100\n",
            "62/62 [==============================] - 1s 21ms/step - loss: 4.8692e-04 - mse: 9.7385e-04 - lr: 7.0795e-05\n",
            "Epoch 19/100\n",
            "62/62 [==============================] - 1s 20ms/step - loss: 4.8629e-04 - mse: 9.7259e-04 - lr: 7.9433e-05\n",
            "Epoch 20/100\n",
            "62/62 [==============================] - 1s 21ms/step - loss: 4.8528e-04 - mse: 9.7056e-04 - lr: 8.9125e-05\n",
            "Epoch 21/100\n",
            "62/62 [==============================] - 1s 21ms/step - loss: 4.8520e-04 - mse: 9.7039e-04 - lr: 1.0000e-04\n",
            "Epoch 22/100\n",
            "62/62 [==============================] - 1s 21ms/step - loss: 4.8590e-04 - mse: 9.7181e-04 - lr: 1.1220e-04\n",
            "Epoch 23/100\n",
            "62/62 [==============================] - 1s 21ms/step - loss: 4.8666e-04 - mse: 9.7333e-04 - lr: 1.2589e-04\n",
            "Epoch 24/100\n",
            "62/62 [==============================] - 1s 21ms/step - loss: 4.8720e-04 - mse: 9.7440e-04 - lr: 1.4125e-04\n",
            "Epoch 25/100\n",
            "62/62 [==============================] - 1s 21ms/step - loss: 4.8761e-04 - mse: 9.7522e-04 - lr: 1.5849e-04\n",
            "Epoch 26/100\n",
            "62/62 [==============================] - 1s 21ms/step - loss: 4.8799e-04 - mse: 9.7598e-04 - lr: 1.7783e-04\n",
            "Epoch 27/100\n",
            "62/62 [==============================] - 1s 20ms/step - loss: 4.8929e-04 - mse: 9.7859e-04 - lr: 1.9953e-04\n",
            "Epoch 28/100\n",
            "62/62 [==============================] - 1s 21ms/step - loss: 4.9088e-04 - mse: 9.8175e-04 - lr: 2.2387e-04\n",
            "Epoch 29/100\n",
            "62/62 [==============================] - 1s 20ms/step - loss: 4.9177e-04 - mse: 9.8354e-04 - lr: 2.5119e-04\n",
            "Epoch 30/100\n",
            "62/62 [==============================] - 1s 21ms/step - loss: 4.9211e-04 - mse: 9.8422e-04 - lr: 2.8184e-04\n",
            "Epoch 31/100\n",
            "62/62 [==============================] - 1s 21ms/step - loss: 4.9364e-04 - mse: 9.8728e-04 - lr: 3.1623e-04\n",
            "Epoch 32/100\n",
            "62/62 [==============================] - 1s 21ms/step - loss: 4.9308e-04 - mse: 9.8616e-04 - lr: 3.5481e-04\n",
            "Epoch 33/100\n",
            "62/62 [==============================] - 1s 21ms/step - loss: 4.9250e-04 - mse: 9.8501e-04 - lr: 3.9811e-04\n",
            "Epoch 34/100\n",
            "62/62 [==============================] - 1s 21ms/step - loss: 4.9214e-04 - mse: 9.8427e-04 - lr: 4.4668e-04\n",
            "Epoch 35/100\n",
            "62/62 [==============================] - 1s 21ms/step - loss: 4.9020e-04 - mse: 9.8040e-04 - lr: 5.0119e-04\n",
            "Epoch 36/100\n",
            "62/62 [==============================] - 1s 21ms/step - loss: 4.8983e-04 - mse: 9.7966e-04 - lr: 5.6234e-04\n",
            "Epoch 37/100\n",
            "62/62 [==============================] - 1s 21ms/step - loss: 4.8907e-04 - mse: 9.7813e-04 - lr: 6.3096e-04\n",
            "Epoch 38/100\n",
            "62/62 [==============================] - 1s 21ms/step - loss: 4.8881e-04 - mse: 9.7761e-04 - lr: 7.0795e-04\n",
            "Epoch 39/100\n",
            "62/62 [==============================] - 1s 22ms/step - loss: 4.8809e-04 - mse: 9.7617e-04 - lr: 7.9433e-04\n",
            "Epoch 40/100\n",
            "62/62 [==============================] - 1s 22ms/step - loss: 4.8609e-04 - mse: 9.7218e-04 - lr: 8.9125e-04\n",
            "Epoch 41/100\n",
            "62/62 [==============================] - 1s 22ms/step - loss: 4.8269e-04 - mse: 9.6538e-04 - lr: 0.0010\n",
            "Epoch 42/100\n",
            "62/62 [==============================] - 1s 22ms/step - loss: 4.8199e-04 - mse: 9.6399e-04 - lr: 0.0011\n",
            "Epoch 43/100\n",
            "62/62 [==============================] - 1s 22ms/step - loss: 4.7704e-04 - mse: 9.5408e-04 - lr: 0.0013\n",
            "Epoch 44/100\n",
            "62/62 [==============================] - 1s 22ms/step - loss: 4.7402e-04 - mse: 9.4805e-04 - lr: 0.0014\n",
            "Epoch 45/100\n",
            "62/62 [==============================] - 1s 22ms/step - loss: 4.7163e-04 - mse: 9.4326e-04 - lr: 0.0016\n",
            "Epoch 46/100\n",
            "62/62 [==============================] - 1s 21ms/step - loss: 4.6548e-04 - mse: 9.3095e-04 - lr: 0.0018\n",
            "Epoch 47/100\n",
            "62/62 [==============================] - 1s 21ms/step - loss: 4.5396e-04 - mse: 9.0791e-04 - lr: 0.0020\n",
            "Epoch 48/100\n",
            "62/62 [==============================] - 1s 21ms/step - loss: 4.3784e-04 - mse: 8.7569e-04 - lr: 0.0022\n",
            "Epoch 49/100\n",
            "62/62 [==============================] - 1s 20ms/step - loss: 4.1994e-04 - mse: 8.3989e-04 - lr: 0.0025\n",
            "Epoch 50/100\n",
            "62/62 [==============================] - 1s 21ms/step - loss: 3.9796e-04 - mse: 7.9592e-04 - lr: 0.0028\n",
            "Epoch 51/100\n",
            "62/62 [==============================] - 1s 21ms/step - loss: 3.7789e-04 - mse: 7.5579e-04 - lr: 0.0032\n",
            "Epoch 52/100\n",
            "62/62 [==============================] - 1s 21ms/step - loss: 3.5951e-04 - mse: 7.1903e-04 - lr: 0.0035\n",
            "Epoch 53/100\n",
            "62/62 [==============================] - 1s 20ms/step - loss: 3.4493e-04 - mse: 6.8987e-04 - lr: 0.0040\n",
            "Epoch 54/100\n",
            "62/62 [==============================] - 1s 20ms/step - loss: 3.2939e-04 - mse: 6.5878e-04 - lr: 0.0045\n",
            "Epoch 55/100\n",
            "62/62 [==============================] - 1s 20ms/step - loss: 3.1842e-04 - mse: 6.3685e-04 - lr: 0.0050\n",
            "Epoch 56/100\n",
            "62/62 [==============================] - 1s 22ms/step - loss: 3.1232e-04 - mse: 6.2464e-04 - lr: 0.0056\n",
            "Epoch 57/100\n",
            "62/62 [==============================] - 1s 21ms/step - loss: 3.0135e-04 - mse: 6.0269e-04 - lr: 0.0063\n",
            "Epoch 58/100\n",
            "62/62 [==============================] - 1s 20ms/step - loss: 2.9480e-04 - mse: 5.8959e-04 - lr: 0.0071\n",
            "Epoch 59/100\n",
            "62/62 [==============================] - 1s 21ms/step - loss: 2.9085e-04 - mse: 5.8169e-04 - lr: 0.0079\n",
            "Epoch 60/100\n",
            "62/62 [==============================] - 1s 20ms/step - loss: 2.7669e-04 - mse: 5.5337e-04 - lr: 0.0089\n",
            "Epoch 61/100\n",
            "62/62 [==============================] - 1s 21ms/step - loss: 2.5868e-04 - mse: 5.1736e-04 - lr: 0.0100\n",
            "Epoch 62/100\n",
            "62/62 [==============================] - 1s 20ms/step - loss: 2.3500e-04 - mse: 4.7001e-04 - lr: 0.0112\n",
            "Epoch 63/100\n",
            "62/62 [==============================] - 1s 21ms/step - loss: 2.2184e-04 - mse: 4.4369e-04 - lr: 0.0126\n",
            "Epoch 64/100\n",
            "62/62 [==============================] - 1s 20ms/step - loss: 2.1269e-04 - mse: 4.2538e-04 - lr: 0.0141\n",
            "Epoch 65/100\n",
            "62/62 [==============================] - 1s 21ms/step - loss: 2.0375e-04 - mse: 4.0749e-04 - lr: 0.0158\n",
            "Epoch 66/100\n",
            "62/62 [==============================] - 1s 20ms/step - loss: 2.0280e-04 - mse: 4.0561e-04 - lr: 0.0178\n",
            "Epoch 67/100\n",
            "62/62 [==============================] - 1s 21ms/step - loss: 1.9433e-04 - mse: 3.8866e-04 - lr: 0.0200\n",
            "Epoch 68/100\n",
            "62/62 [==============================] - 1s 20ms/step - loss: 1.7572e-04 - mse: 3.5144e-04 - lr: 0.0224\n",
            "Epoch 69/100\n",
            "62/62 [==============================] - 1s 21ms/step - loss: 1.6206e-04 - mse: 3.2412e-04 - lr: 0.0251\n",
            "Epoch 70/100\n",
            "62/62 [==============================] - 1s 21ms/step - loss: 1.5904e-04 - mse: 3.1809e-04 - lr: 0.0282\n",
            "Epoch 71/100\n",
            "62/62 [==============================] - 1s 20ms/step - loss: 1.5813e-04 - mse: 3.1627e-04 - lr: 0.0316\n",
            "Epoch 72/100\n",
            "62/62 [==============================] - 1s 21ms/step - loss: 1.5966e-04 - mse: 3.1932e-04 - lr: 0.0355\n",
            "Epoch 73/100\n",
            "62/62 [==============================] - 1s 21ms/step - loss: 1.4480e-04 - mse: 2.8960e-04 - lr: 0.0398\n",
            "Epoch 74/100\n",
            "62/62 [==============================] - 1s 20ms/step - loss: 1.6226e-04 - mse: 3.2452e-04 - lr: 0.0447\n",
            "Epoch 75/100\n",
            "62/62 [==============================] - 1s 21ms/step - loss: 1.7050e-04 - mse: 3.4099e-04 - lr: 0.0501\n",
            "Epoch 76/100\n",
            "62/62 [==============================] - 1s 21ms/step - loss: 1.7242e-04 - mse: 3.4484e-04 - lr: 0.0562\n",
            "Epoch 77/100\n",
            "62/62 [==============================] - 1s 21ms/step - loss: 1.4870e-04 - mse: 2.9739e-04 - lr: 0.0631\n",
            "Epoch 78/100\n",
            "62/62 [==============================] - 1s 21ms/step - loss: 1.5798e-04 - mse: 3.1597e-04 - lr: 0.0708\n",
            "Epoch 79/100\n",
            "62/62 [==============================] - 1s 22ms/step - loss: 1.6178e-04 - mse: 3.2356e-04 - lr: 0.0794\n",
            "Epoch 80/100\n",
            "62/62 [==============================] - 1s 21ms/step - loss: 1.6444e-04 - mse: 3.2888e-04 - lr: 0.0891\n",
            "Epoch 81/100\n",
            "62/62 [==============================] - 1s 21ms/step - loss: 1.6575e-04 - mse: 3.3150e-04 - lr: 0.1000\n",
            "Epoch 82/100\n",
            "62/62 [==============================] - 1s 21ms/step - loss: 1.4592e-04 - mse: 2.9184e-04 - lr: 0.1122\n",
            "Epoch 83/100\n",
            "62/62 [==============================] - 1s 21ms/step - loss: 1.4928e-04 - mse: 2.9856e-04 - lr: 0.1259\n",
            "Epoch 84/100\n",
            "62/62 [==============================] - 1s 20ms/step - loss: 1.6971e-04 - mse: 3.3941e-04 - lr: 0.1413\n",
            "Epoch 85/100\n",
            "62/62 [==============================] - 1s 20ms/step - loss: 1.5386e-04 - mse: 3.0772e-04 - lr: 0.1585\n",
            "Epoch 86/100\n",
            "62/62 [==============================] - 1s 20ms/step - loss: 1.3168e-04 - mse: 2.6336e-04 - lr: 0.1778\n",
            "Epoch 87/100\n",
            "62/62 [==============================] - 1s 21ms/step - loss: 1.2182e-04 - mse: 2.4363e-04 - lr: 0.1995\n",
            "Epoch 88/100\n",
            "62/62 [==============================] - 1s 21ms/step - loss: 1.6900e-04 - mse: 3.3800e-04 - lr: 0.2239\n",
            "Epoch 89/100\n",
            "62/62 [==============================] - 1s 20ms/step - loss: 1.3835e-04 - mse: 2.7670e-04 - lr: 0.2512\n",
            "Epoch 90/100\n",
            "62/62 [==============================] - 1s 20ms/step - loss: 1.4011e-04 - mse: 2.8022e-04 - lr: 0.2818\n",
            "Epoch 91/100\n",
            "62/62 [==============================] - 1s 21ms/step - loss: 1.4726e-04 - mse: 2.9452e-04 - lr: 0.3162\n",
            "Epoch 92/100\n",
            "62/62 [==============================] - 1s 21ms/step - loss: 1.6579e-04 - mse: 3.3158e-04 - lr: 0.3548\n",
            "Epoch 93/100\n",
            "62/62 [==============================] - 1s 20ms/step - loss: 1.4955e-04 - mse: 2.9911e-04 - lr: 0.3981\n",
            "Epoch 94/100\n",
            "62/62 [==============================] - 1s 21ms/step - loss: 1.1928e-04 - mse: 2.3855e-04 - lr: 0.4467\n",
            "Epoch 95/100\n",
            "62/62 [==============================] - 1s 21ms/step - loss: 1.2091e-04 - mse: 2.4182e-04 - lr: 0.5012\n",
            "Epoch 96/100\n",
            "62/62 [==============================] - 1s 21ms/step - loss: 1.0152e-04 - mse: 2.0303e-04 - lr: 0.5623\n",
            "Epoch 97/100\n",
            "62/62 [==============================] - 1s 20ms/step - loss: 1.2110e-04 - mse: 2.4219e-04 - lr: 0.6310\n",
            "Epoch 98/100\n",
            "62/62 [==============================] - 1s 21ms/step - loss: 1.6036e-04 - mse: 3.2072e-04 - lr: 0.7079\n",
            "Epoch 99/100\n",
            "62/62 [==============================] - 1s 20ms/step - loss: 2.3492e-04 - mse: 4.6983e-04 - lr: 0.7943\n",
            "Epoch 100/100\n",
            "62/62 [==============================] - 1s 20ms/step - loss: 2.1681e-04 - mse: 4.3361e-04 - lr: 0.8913\n"
          ],
          "name": "stdout"
        }
      ]
    },
    {
      "cell_type": "markdown",
      "metadata": {
        "id": "Gup1LRDtAVom",
        "colab_type": "text"
      },
      "source": [
        "### Result"
      ]
    },
    {
      "cell_type": "code",
      "metadata": {
        "id": "ZzICQLimr2H_",
        "colab_type": "code",
        "outputId": "f351aaa4-d047-4972-d492-90aa3d89f942",
        "colab": {
          "base_uri": "https://localhost:8080/",
          "height": 483
        }
      },
      "source": [
        "lstm_forecast = model_forecast(model, normalized_dataset, window_size)\n",
        "lstm_predicted = lstm_forecast[train_size - window_size:-1, -1]\n",
        "plot_actual_predict(x_valid, lstm_predicted)"
      ],
      "execution_count": 0,
      "outputs": [
        {
          "output_type": "display_data",
          "data": {
            "image/png": "[encoded data removed]",
            "text/plain": [
              "<Figure size 720x576 with 1 Axes>"
            ]
          },
          "metadata": {
            "tags": [],
            "needs_background": "light"
          }
        }
      ]
    },
    {
      "cell_type": "markdown",
      "metadata": {
        "id": "JUSsTyX6sItt",
        "colab_type": "text"
      },
      "source": [
        "Calculate the MSE and MAE of current model"
      ]
    },
    {
      "cell_type": "code",
      "metadata": {
        "id": "JlIJHhgqD6XG",
        "colab_type": "code",
        "outputId": "d8747733-b490-4292-e40a-bdeefd26e383",
        "colab": {
          "base_uri": "https://localhost:8080/",
          "height": 51
        }
      },
      "source": [
        "cal_unscaled_error(x_valid, lstm_predicted)"
      ],
      "execution_count": 0,
      "outputs": [
        {
          "output_type": "stream",
          "text": [
            "Mean Squared Error:  275.4902484693631\n",
            "Mean Absolute Error:  10.784361757797756\n"
          ],
          "name": "stdout"
        }
      ]
    },
    {
      "cell_type": "markdown",
      "metadata": {
        "id": "sdpQAWT-sbqj",
        "colab_type": "text"
      },
      "source": [
        "As the table result showed below, the model has great improvement in training. The prediction chart picked up the trend of the actual even up and down. There is a bit lagging in correlation between actual and predict values. We might improve it by tuning the hyper-parameters of optimizer.\n",
        "\n",
        "| Error Metric| Previous    | Current       |\n",
        "| :---        |    :----:   |          ---: |\n",
        "| **MSE**     |  1575.884   | 275.49024     |\n",
        "| MAE         | 29.59       | 10.7843       |"
      ]
    },
    {
      "cell_type": "code",
      "metadata": {
        "id": "W0TSrqG-Gbv1",
        "colab_type": "code",
        "outputId": "454c2133-86a2-48a5-cbb5-0f6b5ed11acd",
        "colab": {
          "base_uri": "https://localhost:8080/",
          "height": 487
        }
      },
      "source": [
        "plt.figure(figsize=(10,8))\n",
        "plt.semilogx(history.history['lr'], history.history['loss'])\n",
        "plt.show()"
      ],
      "execution_count": 0,
      "outputs": [
        {
          "output_type": "display_data",
          "data": {
            "image/png": "[encoded data removed]",
            "text/plain": [
              "<Figure size 720x576 with 1 Axes>"
            ]
          },
          "metadata": {
            "tags": [],
            "needs_background": "light"
          }
        }
      ]
    },
    {
      "cell_type": "markdown",
      "metadata": {
        "id": "aUpvL9FhGTJy",
        "colab_type": "text"
      },
      "source": [
        "As the image indicated, the gradient of graph is getting to minimal values as the learning rate goes from $10^{-5}$ to $5.10^{-5}$. We decide to pick up a new learning rate which is $3.10^{-5}$ for next training.\n",
        "___"
      ]
    },
    {
      "cell_type": "markdown",
      "metadata": {
        "id": "R053ijfqAlj0",
        "colab_type": "text"
      },
      "source": [
        "## Tuning Model - Third Time"
      ]
    },
    {
      "cell_type": "markdown",
      "metadata": {
        "id": "g7LTVwVmRxGD",
        "colab_type": "text"
      },
      "source": [
        "This training we will use a common optimization algorithm that is Adaptive Moment Estimation(Adam). Adam takes advantages of momentum in Schocastic Gradient Descent(SGD) by using moving average of the gradient instead of gradient SGD itself. Thus, it can accelerate gradients vectors in the right directions. Since Adam is a adaptive learning method, it's able to computes individual learning rates for different parameters.  "
      ]
    },
    {
      "cell_type": "code",
      "metadata": {
        "id": "SV-F6bw1STh6",
        "colab_type": "code",
        "outputId": "2e5f0a6a-fd42-432e-851d-fd3b3cfcbac2",
        "colab": {
          "base_uri": "https://localhost:8080/",
          "height": 1000
        }
      },
      "source": [
        "tf.keras.backend.clear_session()\n",
        "tf.random.set_seed(51)\n",
        "np.random.seed(51)\n",
        "\n",
        "train_set = window_dataset(x_train, window_size, batch_size, shuffle_size)\n",
        "\n",
        "print(train_set),\n",
        "print(x_train.shape)\n",
        "\n",
        "model = tf.keras.models.Sequential([\n",
        "  tf.keras.layers.Conv1D(filters=60, kernel_size=5,\n",
        "                      strides=1, padding=\"causal\",\n",
        "                      activation=\"relu\",\n",
        "                      input_shape=[None, 1]),\n",
        "  tf.keras.layers.LSTM(64, return_sequences=True, \n",
        "                       dropout=0.2, recurrent_activation='sigmoid'),  \n",
        "  tf.keras.layers.Dense(64),                                                \n",
        "  tf.keras.layers.Dense(1)                                                                     \n",
        "])\n",
        "\n",
        "optimizer_Adam = tf.keras.optimizers.Adam(learning_rate=3e-5)\n",
        "\n",
        "model.compile(optimizer=optimizer_Adam,\n",
        "              loss='mse')\n",
        "\n",
        "history = model.fit(train_set, epochs=100, verbose=verbose_mode)\n",
        "\n"
      ],
      "execution_count": 0,
      "outputs": [
        {
          "output_type": "stream",
          "text": [
            "<PrefetchDataset shapes: ((None, None, 1), (None, None, 1)), types: (tf.float64, tf.float64)>\n",
            "(7948, 1)\n",
            "Epoch 1/100\n",
            "62/62 [==============================] - 1s 19ms/step - loss: 6.4314e-04\n",
            "Epoch 2/100\n",
            "62/62 [==============================] - 1s 20ms/step - loss: 7.1467e-04\n",
            "Epoch 3/100\n",
            "62/62 [==============================] - 1s 21ms/step - loss: 3.4898e-04\n",
            "Epoch 4/100\n",
            "62/62 [==============================] - 1s 22ms/step - loss: 2.0051e-04\n",
            "Epoch 5/100\n",
            "62/62 [==============================] - 1s 20ms/step - loss: 1.4956e-04\n",
            "Epoch 6/100\n",
            "62/62 [==============================] - 1s 20ms/step - loss: 1.3926e-04\n",
            "Epoch 7/100\n",
            "62/62 [==============================] - 1s 20ms/step - loss: 1.3466e-04\n",
            "Epoch 8/100\n",
            "62/62 [==============================] - 1s 21ms/step - loss: 1.3127e-04\n",
            "Epoch 9/100\n",
            "62/62 [==============================] - 1s 21ms/step - loss: 1.2646e-04\n",
            "Epoch 10/100\n",
            "62/62 [==============================] - 1s 21ms/step - loss: 1.2306e-04\n",
            "Epoch 11/100\n",
            "62/62 [==============================] - 1s 20ms/step - loss: 1.2037e-04\n",
            "Epoch 12/100\n",
            "62/62 [==============================] - 1s 19ms/step - loss: 1.1671e-04\n",
            "Epoch 13/100\n",
            "62/62 [==============================] - 1s 19ms/step - loss: 1.1410e-04\n",
            "Epoch 14/100\n",
            "62/62 [==============================] - 1s 19ms/step - loss: 1.1070e-04\n",
            "Epoch 15/100\n",
            "62/62 [==============================] - 1s 20ms/step - loss: 1.0760e-04\n",
            "Epoch 16/100\n",
            "62/62 [==============================] - 1s 21ms/step - loss: 1.0591e-04\n",
            "Epoch 17/100\n",
            "62/62 [==============================] - 1s 20ms/step - loss: 1.0338e-04\n",
            "Epoch 18/100\n",
            "62/62 [==============================] - 1s 21ms/step - loss: 1.0098e-04\n",
            "Epoch 19/100\n",
            "62/62 [==============================] - 1s 20ms/step - loss: 9.8257e-05\n",
            "Epoch 20/100\n",
            "62/62 [==============================] - 1s 20ms/step - loss: 9.6437e-05\n",
            "Epoch 21/100\n",
            "62/62 [==============================] - 1s 20ms/step - loss: 9.3393e-05\n",
            "Epoch 22/100\n",
            "62/62 [==============================] - 1s 20ms/step - loss: 9.2045e-05\n",
            "Epoch 23/100\n",
            "62/62 [==============================] - 1s 20ms/step - loss: 8.9913e-05\n",
            "Epoch 24/100\n",
            "62/62 [==============================] - 1s 21ms/step - loss: 8.7792e-05\n",
            "Epoch 25/100\n",
            "62/62 [==============================] - 1s 20ms/step - loss: 8.6385e-05\n",
            "Epoch 26/100\n",
            "62/62 [==============================] - 1s 20ms/step - loss: 8.3379e-05\n",
            "Epoch 27/100\n",
            "62/62 [==============================] - 1s 20ms/step - loss: 8.1866e-05\n",
            "Epoch 28/100\n",
            "62/62 [==============================] - 1s 20ms/step - loss: 8.1574e-05\n",
            "Epoch 29/100\n",
            "62/62 [==============================] - 1s 21ms/step - loss: 7.9174e-05\n",
            "Epoch 30/100\n",
            "62/62 [==============================] - 1s 21ms/step - loss: 7.7945e-05\n",
            "Epoch 31/100\n",
            "62/62 [==============================] - 1s 20ms/step - loss: 7.5249e-05\n",
            "Epoch 32/100\n",
            "62/62 [==============================] - 1s 20ms/step - loss: 7.6215e-05\n",
            "Epoch 33/100\n",
            "62/62 [==============================] - 1s 21ms/step - loss: 7.3451e-05\n",
            "Epoch 34/100\n",
            "62/62 [==============================] - 1s 20ms/step - loss: 7.1733e-05\n",
            "Epoch 35/100\n",
            "62/62 [==============================] - 1s 20ms/step - loss: 7.0841e-05\n",
            "Epoch 36/100\n",
            "62/62 [==============================] - 1s 20ms/step - loss: 6.9733e-05\n",
            "Epoch 37/100\n",
            "62/62 [==============================] - 1s 20ms/step - loss: 6.8660e-05\n",
            "Epoch 38/100\n",
            "62/62 [==============================] - 1s 20ms/step - loss: 6.8791e-05\n",
            "Epoch 39/100\n",
            "62/62 [==============================] - 1s 20ms/step - loss: 6.8112e-05\n",
            "Epoch 40/100\n",
            "62/62 [==============================] - 1s 20ms/step - loss: 6.6615e-05\n",
            "Epoch 41/100\n",
            "62/62 [==============================] - 1s 20ms/step - loss: 6.5520e-05\n",
            "Epoch 42/100\n",
            "62/62 [==============================] - 1s 20ms/step - loss: 6.4167e-05\n",
            "Epoch 43/100\n",
            "62/62 [==============================] - 1s 20ms/step - loss: 6.4828e-05\n",
            "Epoch 44/100\n",
            "62/62 [==============================] - 1s 20ms/step - loss: 6.4211e-05\n",
            "Epoch 45/100\n",
            "62/62 [==============================] - 1s 21ms/step - loss: 6.2502e-05\n",
            "Epoch 46/100\n",
            "62/62 [==============================] - 1s 20ms/step - loss: 6.3374e-05\n",
            "Epoch 47/100\n",
            "62/62 [==============================] - 1s 20ms/step - loss: 6.1842e-05\n",
            "Epoch 48/100\n",
            "62/62 [==============================] - 1s 21ms/step - loss: 6.0942e-05\n",
            "Epoch 49/100\n",
            "62/62 [==============================] - 1s 19ms/step - loss: 5.9407e-05\n",
            "Epoch 50/100\n",
            "62/62 [==============================] - 1s 19ms/step - loss: 6.0313e-05\n",
            "Epoch 51/100\n",
            "62/62 [==============================] - 1s 20ms/step - loss: 5.9348e-05\n",
            "Epoch 52/100\n",
            "62/62 [==============================] - 1s 20ms/step - loss: 5.8605e-05\n",
            "Epoch 53/100\n",
            "62/62 [==============================] - 1s 20ms/step - loss: 5.8229e-05\n",
            "Epoch 54/100\n",
            "62/62 [==============================] - 1s 19ms/step - loss: 5.8451e-05\n",
            "Epoch 55/100\n",
            "62/62 [==============================] - 1s 20ms/step - loss: 5.6768e-05\n",
            "Epoch 56/100\n",
            "62/62 [==============================] - 1s 20ms/step - loss: 5.6210e-05\n",
            "Epoch 57/100\n",
            "62/62 [==============================] - 1s 20ms/step - loss: 5.5739e-05\n",
            "Epoch 58/100\n",
            "62/62 [==============================] - 1s 20ms/step - loss: 5.5850e-05\n",
            "Epoch 59/100\n",
            "62/62 [==============================] - 1s 19ms/step - loss: 5.6810e-05\n",
            "Epoch 60/100\n",
            "62/62 [==============================] - 1s 20ms/step - loss: 5.5477e-05\n",
            "Epoch 61/100\n",
            "62/62 [==============================] - 1s 19ms/step - loss: 5.5189e-05\n",
            "Epoch 62/100\n",
            "62/62 [==============================] - 1s 20ms/step - loss: 5.4706e-05\n",
            "Epoch 63/100\n",
            "62/62 [==============================] - 1s 20ms/step - loss: 5.2600e-05\n",
            "Epoch 64/100\n",
            "62/62 [==============================] - 1s 20ms/step - loss: 5.1415e-05\n",
            "Epoch 65/100\n",
            "62/62 [==============================] - 1s 20ms/step - loss: 5.3274e-05\n",
            "Epoch 66/100\n",
            "62/62 [==============================] - 1s 20ms/step - loss: 5.1509e-05\n",
            "Epoch 67/100\n",
            "62/62 [==============================] - 1s 20ms/step - loss: 5.1857e-05\n",
            "Epoch 68/100\n",
            "62/62 [==============================] - 1s 20ms/step - loss: 4.9624e-05\n",
            "Epoch 69/100\n",
            "62/62 [==============================] - 1s 20ms/step - loss: 5.1807e-05\n",
            "Epoch 70/100\n",
            "62/62 [==============================] - 1s 19ms/step - loss: 5.0311e-05\n",
            "Epoch 71/100\n",
            "62/62 [==============================] - 1s 20ms/step - loss: 4.9364e-05\n",
            "Epoch 72/100\n",
            "62/62 [==============================] - 1s 21ms/step - loss: 4.9142e-05\n",
            "Epoch 73/100\n",
            "62/62 [==============================] - 1s 20ms/step - loss: 4.9572e-05\n",
            "Epoch 74/100\n",
            "62/62 [==============================] - 1s 21ms/step - loss: 5.0997e-05\n",
            "Epoch 75/100\n",
            "62/62 [==============================] - 1s 21ms/step - loss: 4.7876e-05\n",
            "Epoch 76/100\n",
            "62/62 [==============================] - 1s 20ms/step - loss: 4.8973e-05\n",
            "Epoch 77/100\n",
            "62/62 [==============================] - 1s 20ms/step - loss: 4.6950e-05\n",
            "Epoch 78/100\n",
            "62/62 [==============================] - 1s 20ms/step - loss: 4.8819e-05\n",
            "Epoch 79/100\n",
            "62/62 [==============================] - 1s 20ms/step - loss: 4.6834e-05\n",
            "Epoch 80/100\n",
            "62/62 [==============================] - 1s 20ms/step - loss: 4.6963e-05\n",
            "Epoch 81/100\n",
            "62/62 [==============================] - 1s 21ms/step - loss: 4.7279e-05\n",
            "Epoch 82/100\n",
            "62/62 [==============================] - 1s 20ms/step - loss: 4.5767e-05\n",
            "Epoch 83/100\n",
            "62/62 [==============================] - 1s 20ms/step - loss: 4.6597e-05\n",
            "Epoch 84/100\n",
            "62/62 [==============================] - 1s 20ms/step - loss: 4.5188e-05\n",
            "Epoch 85/100\n",
            "62/62 [==============================] - 1s 19ms/step - loss: 4.5392e-05\n",
            "Epoch 86/100\n",
            "62/62 [==============================] - 1s 20ms/step - loss: 4.5103e-05\n",
            "Epoch 87/100\n",
            "62/62 [==============================] - 1s 20ms/step - loss: 4.3200e-05\n",
            "Epoch 88/100\n",
            "62/62 [==============================] - 1s 19ms/step - loss: 4.8444e-05\n",
            "Epoch 89/100\n",
            "62/62 [==============================] - 1s 20ms/step - loss: 4.4113e-05\n",
            "Epoch 90/100\n",
            "62/62 [==============================] - 1s 19ms/step - loss: 4.3837e-05\n",
            "Epoch 91/100\n",
            "62/62 [==============================] - 1s 19ms/step - loss: 4.4449e-05\n",
            "Epoch 92/100\n",
            "62/62 [==============================] - 1s 19ms/step - loss: 4.3668e-05\n",
            "Epoch 93/100\n",
            "62/62 [==============================] - 1s 20ms/step - loss: 4.4399e-05\n",
            "Epoch 94/100\n",
            "62/62 [==============================] - 1s 19ms/step - loss: 4.2236e-05\n",
            "Epoch 95/100\n",
            "62/62 [==============================] - 1s 19ms/step - loss: 4.2302e-05\n",
            "Epoch 96/100\n",
            "62/62 [==============================] - 1s 20ms/step - loss: 4.4063e-05\n",
            "Epoch 97/100\n",
            "62/62 [==============================] - 1s 20ms/step - loss: 4.1963e-05\n",
            "Epoch 98/100\n",
            "62/62 [==============================] - 1s 20ms/step - loss: 4.1786e-05\n",
            "Epoch 99/100\n",
            "62/62 [==============================] - 1s 20ms/step - loss: 4.4123e-05\n",
            "Epoch 100/100\n",
            "62/62 [==============================] - 1s 20ms/step - loss: 4.1578e-05\n"
          ],
          "name": "stdout"
        }
      ]
    },
    {
      "cell_type": "markdown",
      "metadata": {
        "id": "SUkblplsWfRL",
        "colab_type": "text"
      },
      "source": [
        "Predict the next values and plot the graph between actual values in validation dataset and  prediction values from the dataset model just predicted."
      ]
    },
    {
      "cell_type": "markdown",
      "metadata": {
        "id": "ks-h3YHkEszs",
        "colab_type": "text"
      },
      "source": [
        "### Result"
      ]
    },
    {
      "cell_type": "code",
      "metadata": {
        "id": "jNEOruaVXPCi",
        "colab_type": "code",
        "outputId": "87770a1c-ecf7-446e-ace7-5d07b14683c1",
        "colab": {
          "base_uri": "https://localhost:8080/",
          "height": 483
        }
      },
      "source": [
        "lstm_forecast = model_forecast(model, normalized_dataset, window_size)\n",
        "lstm_predicted = lstm_forecast[train_size - window_size:-1, -1]\n",
        "plot_actual_predict(x_valid, lstm_predicted)"
      ],
      "execution_count": 0,
      "outputs": [
        {
          "output_type": "display_data",
          "data": {
            "image/png": "[encoded data removed]",
            "text/plain": [
              "<Figure size 720x576 with 1 Axes>"
            ]
          },
          "metadata": {
            "tags": [],
            "needs_background": "light"
          }
        }
      ]
    },
    {
      "cell_type": "markdown",
      "metadata": {
        "id": "peSkNJP5XdfY",
        "colab_type": "text"
      },
      "source": [
        "Enlarge first half and second half of the chart above "
      ]
    },
    {
      "cell_type": "code",
      "metadata": {
        "id": "6M3n0NdUXDCQ",
        "colab_type": "code",
        "outputId": "d1da80a3-e131-49b1-9741-e8dd30e67c5b",
        "colab": {
          "base_uri": "https://localhost:8080/",
          "height": 483
        }
      },
      "source": [
        "  plt.figure(figsize=(10, 8))\n",
        "  plt.plot(x_valid[: 750])\n",
        "  plt.plot(lstm_predicted[: 750])\n",
        "  plt.show()"
      ],
      "execution_count": 0,
      "outputs": [
        {
          "output_type": "display_data",
          "data": {
            "image/png": "[encoded data removed]",
            "text/plain": [
              "<Figure size 720x576 with 1 Axes>"
            ]
          },
          "metadata": {
            "tags": [],
            "needs_background": "light"
          }
        }
      ]
    },
    {
      "cell_type": "code",
      "metadata": {
        "id": "1Ww2jHbHdtWj",
        "colab_type": "code",
        "outputId": "e8ef2265-a8cd-40dc-82ca-bac8d15d518e",
        "colab": {
          "base_uri": "https://localhost:8080/",
          "height": 483
        }
      },
      "source": [
        "  plt.figure(figsize=(10, 8))\n",
        "  plt.plot(x_valid[1500:])\n",
        "  plt.plot(lstm_predicted[1500:])\n",
        "  plt.show()"
      ],
      "execution_count": 0,
      "outputs": [
        {
          "output_type": "display_data",
          "data": {
            "image/png": "[encoded data removed]",
            "text/plain": [
              "<Figure size 720x576 with 1 Axes>"
            ]
          },
          "metadata": {
            "tags": [],
            "needs_background": "light"
          }
        }
      ]
    },
    {
      "cell_type": "markdown",
      "metadata": {
        "id": "3IfkdNIcXx0Y",
        "colab_type": "text"
      },
      "source": [
        "Compute the MSE and MAE of validation and prediction values after rescale back to regular values."
      ]
    },
    {
      "cell_type": "code",
      "metadata": {
        "id": "Wevbu29Bcp6T",
        "colab_type": "code",
        "outputId": "7d1722d7-6ad9-4bd1-bccd-22fd5af12554",
        "colab": {
          "base_uri": "https://localhost:8080/",
          "height": 51
        }
      },
      "source": [
        "cal_unscaled_error(x_valid, lstm_predicted)"
      ],
      "execution_count": 0,
      "outputs": [
        {
          "output_type": "stream",
          "text": [
            "Mean Squared Error:  18.60082693326764\n",
            "Mean Absolute Error:  3.007348476077782\n"
          ],
          "name": "stdout"
        }
      ]
    },
    {
      "cell_type": "markdown",
      "metadata": {
        "id": "tYvHLsrOYEjW",
        "colab_type": "text"
      },
      "source": [
        "As we can see from the above result of error evaluation, the model improved significantly. Current MAE reduced more than a half of previous MAE.\n",
        "\n",
        "| Error Metric| Previous    | Current       |\n",
        "| :---        |    :----:   |          ---: |\n",
        "| **MSE**     | 275.49024   | 18.6008       |\n",
        "| **MAE**     | 10.7843     | 3.00734       |\n",
        "\n",
        "Adam optimize really enhanced the training model. Although there is little lag behind the actual validation value graph, it indicate a improvement in choosing a good hyperparameter optimizer and a good learning rate."
      ]
    },
    {
      "cell_type": "markdown",
      "metadata": {
        "id": "3rya_Y4SKpRl",
        "colab_type": "text"
      },
      "source": [
        "# Conclusion"
      ]
    },
    {
      "cell_type": "markdown",
      "metadata": {
        "id": "PHte0wMLZir8",
        "colab_type": "text"
      },
      "source": [
        "* After working on building a stock prediction model using Recurrent \n",
        "Neural Network(RNN) and Long Short Term Memory(LSTM), we can see LSTM works much better than RNN in prediction. In fact, LSTMs remembers information from both previous inputs and previous outputs. It can connect the information between current units and previous units back and forth. While there is a gap in RNN model, it can not memorize the context from further back. Thus, LSTMs enhances the capable of handling long-tem depedencies. \n",
        "\n",
        "* In addition, we believe adding hyper-parameter and layer properly will improve the training significantly. For instance, we added a Conv-1D layer into the model, the result was very good. The Conv1D layer improved the filtering of the data before passing to LSTMs layer to process information.\n",
        "\n",
        "* Overall, we have gained a lot about Machine Learning in concept as well as techniques from these assignments. We learned how to create a Machine Learning model for prediction next value of time series dataset. We understand Machine Learning concepts such as hidden layer, activation function, or learning rate through adding hyper-parameter to tune the models. We learned how to find a good learning rate during training time. Additionally, tuning a model is the part we spent a lot of time on. We believe a model will be better if it is set correct hyper-parameters and proper training timesteps. \n",
        "\n",
        "* Although, our model was not really accurate, it improved significantly after many attempts. Stock mark relies on many circumstances such as news or companies' situation, it is not possible to predict the correct behavior using only its historical price.\n",
        "\n"
      ]
    },
    {
      "cell_type": "markdown",
      "metadata": {
        "id": "-x3U_db6_-ak",
        "colab_type": "text"
      },
      "source": [
        "# Reference\n",
        "\n",
        "[Adam Optimizer](https://towardsdatascience.com/adam-latest-trends-in-deep-learning-optimization-6be9a291375c) \n",
        "\n",
        "[Huber Loss & Learning Rate](https://towardsdatascience.com/https-medium-com-dashingaditya-rakhecha-understanding-learning-rate-dd5da26bb6de)\n",
        "\n",
        "Choosing Activation & Non-Activation Function\n",
        "https://www.youtube.com/watch?v=Xvg00QnyaIY\n",
        "https://engmrk.com/activation-function-for-dnn/\n",
        "https://www.youtube.com/watch?v=NkOv_k7r6no\n",
        "\n",
        "[Mean Absolute Error & Mean Square Error](https://heartbeat.fritz.ai/5-regression-loss-functions-all-machine-learners-should-know-4fb140e9d4b0\n",
        ")\n",
        "\n",
        "[Long Short Term Memory](https://colah.github.io/posts/2015-08-Understanding-LSTMs/)\n",
        "\n",
        "[Recurrent Neural Network](https://lilianweng.github.io/lil-log/2017/07/08/predict-stock-prices-using-RNN-part-1.html\n",
        ")\n",
        "\n",
        "[Learning Rate](https://towardsdatascience.com/https-medium-com-dashingaditya-rakhecha-understanding-learning-rate-dd5da26bb6de)"
      ]
    }
  ]
}