{
  "nbformat": 4,
  "nbformat_minor": 0,
  "metadata": {
    "colab": {
      "name": "Final_Recurrent_Network.ipynb",
      "provenance": [],
      "collapsed_sections": []
    },
    "kernelspec": {
      "name": "python3",
      "display_name": "Python 3"
    }
  },
  "cells": [
    {
      "cell_type": "markdown",
      "metadata": {
        "id": "gAC7lxRjtaxh",
        "colab_type": "text"
      },
      "source": [
        "# Applying Recurrent Neural Network to predict the stock price\n",
        "\n",
        "---\n",
        "This notebook represents the prediction of 'Closing' stock price of Apple using time series analysis method. The purpose of the assignment is to understanding Recurrent Neural Network and how to build a Machine Learning model using Tensorflow framework. The assignment will focus on univariate time series forecasting."
      ]
    },
    {
      "cell_type": "markdown",
      "metadata": {
        "id": "lWmQX9HfjYAX",
        "colab_type": "text"
      },
      "source": [
        "The notebook need to install two libraries that are Tensorflow 2.2.0 and Yfinance. \n",
        "\n",
        "*   In Tensorflow, we use Keras library to build and train a model.\n",
        "*   Yfinance is used to get a stock dataset of a company from Yahoo's API.\n",
        "\n",
        "<br> The commands below will install two libraries if they did not exist on a machine. If the machine doesn't have pip package manager, please refer to [this link ](https://pip.pypa.io/en/stable/installing/) to install pip before executing the commands."
      ]
    },
    {
      "cell_type": "code",
      "metadata": {
        "id": "Mb2eSTmLiIne",
        "colab_type": "code",
        "outputId": "1e0d3d34-30c7-4707-8bc9-fbac31781b40",
        "colab": {
          "base_uri": "https://localhost:8080/",
          "height": 836
        }
      },
      "source": [
        "!pip install tensorflow==2.2.0\n",
        "!pip install yfinance"
      ],
      "execution_count": 0,
      "outputs": [
        {
          "output_type": "stream",
          "text": [
            "Requirement already satisfied: tensorflow==2.2.0 in /usr/local/lib/python3.6/dist-packages (2.2.0)\n",
            "Requirement already satisfied: absl-py>=0.7.0 in /usr/local/lib/python3.6/dist-packages (from tensorflow==2.2.0) (0.9.0)\n",
            "Requirement already satisfied: wrapt>=1.11.1 in /usr/local/lib/python3.6/dist-packages (from tensorflow==2.2.0) (1.12.1)\n",
            "Requirement already satisfied: termcolor>=1.1.0 in /usr/local/lib/python3.6/dist-packages (from tensorflow==2.2.0) (1.1.0)\n",
            "Requirement already satisfied: numpy<2.0,>=1.16.0 in /usr/local/lib/python3.6/dist-packages (from tensorflow==2.2.0) (1.18.4)\n",
            "Requirement already satisfied: astunparse==1.6.3 in /usr/local/lib/python3.6/dist-packages (from tensorflow==2.2.0) (1.6.3)\n",
            "Requirement already satisfied: tensorflow-estimator<2.3.0,>=2.2.0 in /usr/local/lib/python3.6/dist-packages (from tensorflow==2.2.0) (2.2.0)\n",
            "Requirement already satisfied: six>=1.12.0 in /usr/local/lib/python3.6/dist-packages (from tensorflow==2.2.0) (1.12.0)\n",
            "Requirement already satisfied: scipy==1.4.1; python_version >= \"3\" in /usr/local/lib/python3.6/dist-packages (from tensorflow==2.2.0) (1.4.1)\n",
            "Requirement already satisfied: protobuf>=3.8.0 in /usr/local/lib/python3.6/dist-packages (from tensorflow==2.2.0) (3.10.0)\n",
            "Requirement already satisfied: wheel>=0.26; python_version >= \"3\" in /usr/local/lib/python3.6/dist-packages (from tensorflow==2.2.0) (0.34.2)\n",
            "Requirement already satisfied: tensorboard<2.3.0,>=2.2.0 in /usr/local/lib/python3.6/dist-packages (from tensorflow==2.2.0) (2.2.1)\n",
            "Requirement already satisfied: grpcio>=1.8.6 in /usr/local/lib/python3.6/dist-packages (from tensorflow==2.2.0) (1.28.1)\n",
            "Requirement already satisfied: gast==0.3.3 in /usr/local/lib/python3.6/dist-packages (from tensorflow==2.2.0) (0.3.3)\n",
            "Requirement already satisfied: keras-preprocessing>=1.1.0 in /usr/local/lib/python3.6/dist-packages (from tensorflow==2.2.0) (1.1.0)\n",
            "Requirement already satisfied: opt-einsum>=2.3.2 in /usr/local/lib/python3.6/dist-packages (from tensorflow==2.2.0) (3.2.1)\n",
            "Requirement already satisfied: google-pasta>=0.1.8 in /usr/local/lib/python3.6/dist-packages (from tensorflow==2.2.0) (0.2.0)\n",
            "Requirement already satisfied: h5py<2.11.0,>=2.10.0 in /usr/local/lib/python3.6/dist-packages (from tensorflow==2.2.0) (2.10.0)\n",
            "Requirement already satisfied: setuptools in /usr/local/lib/python3.6/dist-packages (from protobuf>=3.8.0->tensorflow==2.2.0) (46.1.3)\n",
            "Requirement already satisfied: requests<3,>=2.21.0 in /usr/local/lib/python3.6/dist-packages (from tensorboard<2.3.0,>=2.2.0->tensorflow==2.2.0) (2.23.0)\n",
            "Requirement already satisfied: tensorboard-plugin-wit>=1.6.0 in /usr/local/lib/python3.6/dist-packages (from tensorboard<2.3.0,>=2.2.0->tensorflow==2.2.0) (1.6.0.post3)\n",
            "Requirement already satisfied: werkzeug>=0.11.15 in /usr/local/lib/python3.6/dist-packages (from tensorboard<2.3.0,>=2.2.0->tensorflow==2.2.0) (1.0.1)\n",
            "Requirement already satisfied: google-auth<2,>=1.6.3 in /usr/local/lib/python3.6/dist-packages (from tensorboard<2.3.0,>=2.2.0->tensorflow==2.2.0) (1.7.2)\n",
            "Requirement already satisfied: google-auth-oauthlib<0.5,>=0.4.1 in /usr/local/lib/python3.6/dist-packages (from tensorboard<2.3.0,>=2.2.0->tensorflow==2.2.0) (0.4.1)\n",
            "Requirement already satisfied: markdown>=2.6.8 in /usr/local/lib/python3.6/dist-packages (from tensorboard<2.3.0,>=2.2.0->tensorflow==2.2.0) (3.2.1)\n",
            "Requirement already satisfied: certifi>=2017.4.17 in /usr/local/lib/python3.6/dist-packages (from requests<3,>=2.21.0->tensorboard<2.3.0,>=2.2.0->tensorflow==2.2.0) (2020.4.5.1)\n",
            "Requirement already satisfied: urllib3!=1.25.0,!=1.25.1,<1.26,>=1.21.1 in /usr/local/lib/python3.6/dist-packages (from requests<3,>=2.21.0->tensorboard<2.3.0,>=2.2.0->tensorflow==2.2.0) (1.24.3)\n",
            "Requirement already satisfied: idna<3,>=2.5 in /usr/local/lib/python3.6/dist-packages (from requests<3,>=2.21.0->tensorboard<2.3.0,>=2.2.0->tensorflow==2.2.0) (2.9)\n",
            "Requirement already satisfied: chardet<4,>=3.0.2 in /usr/local/lib/python3.6/dist-packages (from requests<3,>=2.21.0->tensorboard<2.3.0,>=2.2.0->tensorflow==2.2.0) (3.0.4)\n",
            "Requirement already satisfied: rsa<4.1,>=3.1.4 in /usr/local/lib/python3.6/dist-packages (from google-auth<2,>=1.6.3->tensorboard<2.3.0,>=2.2.0->tensorflow==2.2.0) (4.0)\n",
            "Requirement already satisfied: pyasn1-modules>=0.2.1 in /usr/local/lib/python3.6/dist-packages (from google-auth<2,>=1.6.3->tensorboard<2.3.0,>=2.2.0->tensorflow==2.2.0) (0.2.8)\n",
            "Requirement already satisfied: cachetools<3.2,>=2.0.0 in /usr/local/lib/python3.6/dist-packages (from google-auth<2,>=1.6.3->tensorboard<2.3.0,>=2.2.0->tensorflow==2.2.0) (3.1.1)\n",
            "Requirement already satisfied: requests-oauthlib>=0.7.0 in /usr/local/lib/python3.6/dist-packages (from google-auth-oauthlib<0.5,>=0.4.1->tensorboard<2.3.0,>=2.2.0->tensorflow==2.2.0) (1.3.0)\n",
            "Requirement already satisfied: pyasn1>=0.1.3 in /usr/local/lib/python3.6/dist-packages (from rsa<4.1,>=3.1.4->google-auth<2,>=1.6.3->tensorboard<2.3.0,>=2.2.0->tensorflow==2.2.0) (0.4.8)\n",
            "Requirement already satisfied: oauthlib>=3.0.0 in /usr/local/lib/python3.6/dist-packages (from requests-oauthlib>=0.7.0->google-auth-oauthlib<0.5,>=0.4.1->tensorboard<2.3.0,>=2.2.0->tensorflow==2.2.0) (3.1.0)\n",
            "Requirement already satisfied: yfinance in /usr/local/lib/python3.6/dist-packages (0.1.54)\n",
            "Requirement already satisfied: multitasking>=0.0.7 in /usr/local/lib/python3.6/dist-packages (from yfinance) (0.0.9)\n",
            "Requirement already satisfied: requests>=2.20 in /usr/local/lib/python3.6/dist-packages (from yfinance) (2.23.0)\n",
            "Requirement already satisfied: pandas>=0.24 in /usr/local/lib/python3.6/dist-packages (from yfinance) (1.0.3)\n",
            "Requirement already satisfied: numpy>=1.15 in /usr/local/lib/python3.6/dist-packages (from yfinance) (1.18.4)\n",
            "Requirement already satisfied: urllib3!=1.25.0,!=1.25.1,<1.26,>=1.21.1 in /usr/local/lib/python3.6/dist-packages (from requests>=2.20->yfinance) (1.24.3)\n",
            "Requirement already satisfied: chardet<4,>=3.0.2 in /usr/local/lib/python3.6/dist-packages (from requests>=2.20->yfinance) (3.0.4)\n",
            "Requirement already satisfied: idna<3,>=2.5 in /usr/local/lib/python3.6/dist-packages (from requests>=2.20->yfinance) (2.9)\n",
            "Requirement already satisfied: certifi>=2017.4.17 in /usr/local/lib/python3.6/dist-packages (from requests>=2.20->yfinance) (2020.4.5.1)\n",
            "Requirement already satisfied: pytz>=2017.2 in /usr/local/lib/python3.6/dist-packages (from pandas>=0.24->yfinance) (2018.9)\n",
            "Requirement already satisfied: python-dateutil>=2.6.1 in /usr/local/lib/python3.6/dist-packages (from pandas>=0.24->yfinance) (2.8.1)\n",
            "Requirement already satisfied: six>=1.5 in /usr/local/lib/python3.6/dist-packages (from python-dateutil>=2.6.1->pandas>=0.24->yfinance) (1.12.0)\n"
          ],
          "name": "stdout"
        }
      ]
    },
    {
      "cell_type": "code",
      "metadata": {
        "id": "-9HPFHQwiTb8",
        "colab_type": "code",
        "outputId": "f8171bb5-94f0-41a2-b830-9611e7b20c53",
        "colab": {
          "base_uri": "https://localhost:8080/",
          "height": 34
        }
      },
      "source": [
        "from sklearn.preprocessing import MinMaxScaler\n",
        "import pandas as pd\n",
        "import numpy as np\n",
        "import yfinance as yf\n",
        "import matplotlib.pyplot as plt\n",
        "import tensorflow as tf\n",
        "print(tf.__version__)"
      ],
      "execution_count": 0,
      "outputs": [
        {
          "output_type": "stream",
          "text": [
            "2.2.0\n"
          ],
          "name": "stdout"
        }
      ]
    },
    {
      "cell_type": "markdown",
      "metadata": {
        "id": "f0jK7INFqHlz",
        "colab_type": "text"
      },
      "source": [
        "Initialize a dataframe of Apple stock history since it published. This analysis only use a univariate series. We choose a series of Closing price."
      ]
    },
    {
      "cell_type": "code",
      "metadata": {
        "id": "jvxTufo1iYx4",
        "colab_type": "code",
        "outputId": "db47164b-70c5-4fba-af0b-efa070c96be6",
        "colab": {
          "base_uri": "https://localhost:8080/",
          "height": 34
        }
      },
      "source": [
        "apple = yf.Ticker(\"AAPL\")\n",
        "apple = apple.history(period=\"max\")\n",
        "apple = apple[['Close']]\n",
        "apple.shape"
      ],
      "execution_count": 0,
      "outputs": [
        {
          "output_type": "execute_result",
          "data": {
            "text/plain": [
              "(9938, 1)"
            ]
          },
          "metadata": {
            "tags": []
          },
          "execution_count": 15
        }
      ]
    },
    {
      "cell_type": "markdown",
      "metadata": {
        "id": "vtYiBTy2dk_R",
        "colab_type": "text"
      },
      "source": [
        "We normalize the dataset which all data converts into the numbers in range(0,1) so we can improve the network converges when starting training a model."
      ]
    },
    {
      "cell_type": "code",
      "metadata": {
        "id": "dfR_SUIWPuo9",
        "colab_type": "code",
        "colab": {}
      },
      "source": [
        "normalize_scaler = MinMaxScaler()\n",
        "normalized_dataset = normalize_scaler.fit_transform(apple)"
      ],
      "execution_count": 0,
      "outputs": []
    },
    {
      "cell_type": "markdown",
      "metadata": {
        "id": "bWG4VBbnqctv",
        "colab_type": "text"
      },
      "source": [
        "We will predict the price of next value based on previous values of a chunk so we create a function to slice the dataset into chunks. \n",
        "\n",
        "<br>Since the dataset is a time series, there might occur sequence bias which make the model less accuracy in prediction. Additionally, it has a chance of overfitting because the model has well training on window dataset in the training series. We decide to shuffle the dataset to increase convergence in training. To improve performance and execution time while training a model, we split the into small batches and use prefetch function in Tensorflow.data API. It means as the model is executing the training on one step, the input pipeline is loading the data for next.\n"
      ]
    },
    {
      "cell_type": "code",
      "metadata": {
        "id": "ojY_9ysEqZHd",
        "colab_type": "code",
        "colab": {}
      },
      "source": [
        "def window_dataset(series, window_size, batch_size, shuffle_size):\n",
        "    \"\"\" Function will slice the series dataset into \n",
        "        small lists of item have a size of window_size argument.                        \n",
        "        \n",
        "        Return the dataset with lists of tuples of 2 which has\n",
        "        first element is a list of item except the last,\n",
        "        second element is last element.\n",
        "    \"\"\"\n",
        "    # series = tf.expand_dims(series, axis=-1) #reshape the dataset to fit LSTM model\n",
        "    ds = tf.data.Dataset.from_tensor_slices(series)\n",
        "    ds = ds.window(window_size + 1, shift=1, drop_remainder=True)\n",
        "    ds = ds.flat_map(lambda ds : ds.batch(window_size + 1))\n",
        "    ds = ds.shuffle(shuffle_size)\n",
        "    ds = ds.map(lambda ds: (ds[:-1], ds[-1:]))\n",
        "    ds = ds.batch(batch_size).prefetch(1)\n",
        "    \n",
        "    return ds"
      ],
      "execution_count": 0,
      "outputs": []
    },
    {
      "cell_type": "markdown",
      "metadata": {
        "id": "mI-DwBiYeHYm",
        "colab_type": "text"
      },
      "source": [
        "We learned if we can split the dataset into small batches while training a model can affect the learning speed as well as the learning accuracy regarding to this Youtube [video](https://www.youtube.com/watch?v=4qJaSmvhxi8). We will use this as a hyperparameter to train our neural network model. \n",
        "<br>For this assignment we will predict the each next day by using data from previous 60 days of its."
      ]
    },
    {
      "cell_type": "code",
      "metadata": {
        "id": "s71p0ovLrA_J",
        "colab_type": "code",
        "colab": {}
      },
      "source": [
        "window_size = 60\n",
        "batch_size = 128\n",
        "shuffle_size = 500"
      ],
      "execution_count": 0,
      "outputs": []
    },
    {
      "cell_type": "markdown",
      "metadata": {
        "id": "3fYSeyIY84jD",
        "colab_type": "text"
      },
      "source": [
        "Setting the size for training set and test set."
      ]
    },
    {
      "cell_type": "code",
      "metadata": {
        "id": "llhTAvtyqQfI",
        "colab_type": "code",
        "colab": {}
      },
      "source": [
        "split_ratio = 0.8\n",
        "train_size = int(split_ratio * len(normalized_dataset))\n",
        "valid_size = int(len(normalized_dataset) - train_size)"
      ],
      "execution_count": 0,
      "outputs": []
    },
    {
      "cell_type": "code",
      "metadata": {
        "id": "zQml12oYqW1M",
        "colab_type": "code",
        "colab": {}
      },
      "source": [
        "x_train = normalized_dataset[:train_size]\n",
        "x_valid = normalized_dataset[train_size:]"
      ],
      "execution_count": 0,
      "outputs": []
    },
    {
      "cell_type": "markdown",
      "metadata": {
        "id": "ixG-4VEU_vVP",
        "colab_type": "text"
      },
      "source": [
        "Create a function to predict the next value of each averaging window period after model has been trained."
      ]
    },
    {
      "cell_type": "code",
      "metadata": {
        "id": "UHgdYV0ghcvx",
        "colab_type": "code",
        "colab": {}
      },
      "source": [
        "def model_forecast(model, series, window_size):\n",
        "    \"\"\" Function will split the dataset into small chunks have size of window_size.\n",
        "        The model after training will predict the next value of each chunk.\n",
        "\n",
        "        Return the dataset which includes the next predicted value of each window period\n",
        "    \"\"\"\n",
        "    ds = tf.data.Dataset.from_tensor_slices(series)\n",
        "    ds = ds.window(window_size, shift=1, drop_remainder=True)\n",
        "    ds = ds.flat_map(lambda w: w.batch(window_size))\n",
        "    ds = ds.batch(32).prefetch(1)\n",
        "    forecast = model.predict(ds)\n",
        "    return forecast"
      ],
      "execution_count": 0,
      "outputs": []
    },
    {
      "cell_type": "markdown",
      "metadata": {
        "id": "iK06k3Bypz2-",
        "colab_type": "text"
      },
      "source": [
        "## Implementation of Recurrent Neural Network(RNN)\n",
        "\n"
      ]
    },
    {
      "cell_type": "markdown",
      "metadata": {
        "id": "UhIu_bnlPdyJ",
        "colab_type": "text"
      },
      "source": [
        "Initialize Keras's modules to use for buidling RNN model"
      ]
    },
    {
      "cell_type": "code",
      "metadata": {
        "id": "ju_ziBmhPsaN",
        "colab_type": "code",
        "colab": {}
      },
      "source": [
        "from tensorflow.keras.models import Sequential\n",
        "from tensorflow.keras import optimizers\n",
        "from tensorflow.keras.layers import LSTM, Dense, Conv1D\n",
        "from tensorflow.keras.callbacks import LearningRateScheduler\n",
        "from tensorflow.keras.losses import Huber"
      ],
      "execution_count": 0,
      "outputs": []
    },
    {
      "cell_type": "markdown",
      "metadata": {
        "id": "sUmQWvLuP518",
        "colab_type": "text"
      },
      "source": [
        "The model will a Simple Recurrent Neural Network with 31 neurons unit for each layers. There have 4 layers in total. First layers will return entire sequence of output at once. We add a set of dense output as hidden layers for RNN output. Then last one will another single dense output layer for the result.\n",
        "\n",
        "<br> To improve execution for the model, we apply Stochastic Gradient Descent(SGD) as an optimizer since SGD will cacluate the errors and update to the parameters frequenty. Therefore, the model is able to converge faster. \n",
        "\n",
        "<br> For loss function we use Mean Absolute Error(MAE) to reduce the outliner result compare Mean Square Error(MSE)."
      ]
    },
    {
      "cell_type": "code",
      "metadata": {
        "id": "jx8NrNeaQjcD",
        "colab_type": "code",
        "colab": {}
      },
      "source": [
        "# Number of units in RNN layer\n",
        "rnn_units = 31\n",
        "\n",
        "# This variable is Verbosity mode when executes model training (0 = silent, 1 = progress bar)\n",
        "verbose_mode = 0"
      ],
      "execution_count": 0,
      "outputs": []
    },
    {
      "cell_type": "code",
      "metadata": {
        "id": "j3EIQc8v_SlY",
        "colab_type": "code",
        "outputId": "f6b37575-d33c-49cd-bebd-a01e1ebb36fa",
        "colab": {
          "base_uri": "https://localhost:8080/",
          "height": 1000
        }
      },
      "source": [
        "tf.keras.backend.clear_session()\n",
        "tf.random.set_seed(51)\n",
        "np.random.seed(51)\n",
        "\n",
        "#Process the training dataset into the batches in the range of 60 days\n",
        "train_set = window_dataset(x_train, window_size, batch_size, shuffle_size)\n",
        "\n",
        "model = tf.keras.models.Sequential([\n",
        "    tf.keras.layers.SimpleRNN(rnn_units, return_sequences=True, \n",
        "                              input_shape=[None,1]), \n",
        "    tf.keras.layers.Dense(31),\n",
        "    tf.keras.layers.Dense(1), #output a single dense    \n",
        "])\n",
        "\n",
        "optimizer_SGD = tf.keras.optimizers.SGD(lr=1e-7, momentum=0.9) \n",
        "\n",
        "model.compile(loss=tf.keras.losses.mean_absolute_error,\n",
        "              optimizer=optimizer_SGD,\n",
        "              metrics=[\"mae\"])\n",
        "\n",
        "history = model.fit(train_set, epochs=100, verbose=verbose_mode) "
      ],
      "execution_count": 0,
      "outputs": [
        {
          "output_type": "stream",
          "text": [
            "Epoch 1/100\n",
            "62/62 [==============================] - 2s 39ms/step - loss: 0.0138 - mae: 0.0138\n",
            "Epoch 2/100\n",
            "62/62 [==============================] - 2s 40ms/step - loss: 0.0141 - mae: 0.0141\n",
            "Epoch 3/100\n",
            "62/62 [==============================] - 3s 43ms/step - loss: 0.0140 - mae: 0.0140\n",
            "Epoch 4/100\n",
            "62/62 [==============================] - 3s 41ms/step - loss: 0.0140 - mae: 0.0140\n",
            "Epoch 5/100\n",
            "62/62 [==============================] - 3s 41ms/step - loss: 0.0139 - mae: 0.0139\n",
            "Epoch 6/100\n",
            "62/62 [==============================] - 3s 41ms/step - loss: 0.0139 - mae: 0.0139\n",
            "Epoch 7/100\n",
            "62/62 [==============================] - 2s 40ms/step - loss: 0.0139 - mae: 0.0139\n",
            "Epoch 8/100\n",
            "62/62 [==============================] - 2s 39ms/step - loss: 0.0138 - mae: 0.0138\n",
            "Epoch 9/100\n",
            "62/62 [==============================] - 3s 41ms/step - loss: 0.0138 - mae: 0.0138\n",
            "Epoch 10/100\n",
            "62/62 [==============================] - 3s 41ms/step - loss: 0.0138 - mae: 0.0138\n",
            "Epoch 11/100\n",
            "62/62 [==============================] - 3s 41ms/step - loss: 0.0137 - mae: 0.0137\n",
            "Epoch 12/100\n",
            "62/62 [==============================] - 3s 45ms/step - loss: 0.0137 - mae: 0.0137\n",
            "Epoch 13/100\n",
            "62/62 [==============================] - 3s 46ms/step - loss: 0.0137 - mae: 0.0137\n",
            "Epoch 14/100\n",
            "62/62 [==============================] - 3s 41ms/step - loss: 0.0136 - mae: 0.0136\n",
            "Epoch 15/100\n",
            "62/62 [==============================] - 3s 41ms/step - loss: 0.0136 - mae: 0.0136\n",
            "Epoch 16/100\n",
            "62/62 [==============================] - 3s 43ms/step - loss: 0.0136 - mae: 0.0136\n",
            "Epoch 17/100\n",
            "62/62 [==============================] - 3s 41ms/step - loss: 0.0136 - mae: 0.0136\n",
            "Epoch 18/100\n",
            "62/62 [==============================] - 2s 40ms/step - loss: 0.0135 - mae: 0.0135\n",
            "Epoch 19/100\n",
            "62/62 [==============================] - 2s 39ms/step - loss: 0.0135 - mae: 0.0135\n",
            "Epoch 20/100\n",
            "62/62 [==============================] - 2s 39ms/step - loss: 0.0135 - mae: 0.0135\n",
            "Epoch 21/100\n",
            "62/62 [==============================] - 2s 39ms/step - loss: 0.0135 - mae: 0.0135\n",
            "Epoch 22/100\n",
            "62/62 [==============================] - 3s 45ms/step - loss: 0.0134 - mae: 0.0134\n",
            "Epoch 23/100\n",
            "62/62 [==============================] - 2s 40ms/step - loss: 0.0134 - mae: 0.0134\n",
            "Epoch 24/100\n",
            "62/62 [==============================] - 3s 43ms/step - loss: 0.0134 - mae: 0.0134\n",
            "Epoch 25/100\n",
            "62/62 [==============================] - 2s 39ms/step - loss: 0.0134 - mae: 0.0134\n",
            "Epoch 26/100\n",
            "62/62 [==============================] - 3s 43ms/step - loss: 0.0133 - mae: 0.0133\n",
            "Epoch 27/100\n",
            "62/62 [==============================] - 3s 42ms/step - loss: 0.0133 - mae: 0.0133\n",
            "Epoch 28/100\n",
            "62/62 [==============================] - 3s 41ms/step - loss: 0.0133 - mae: 0.0133\n",
            "Epoch 29/100\n",
            "62/62 [==============================] - 3s 43ms/step - loss: 0.0133 - mae: 0.0133\n",
            "Epoch 30/100\n",
            "62/62 [==============================] - 3s 43ms/step - loss: 0.0133 - mae: 0.0133\n",
            "Epoch 31/100\n",
            "62/62 [==============================] - 3s 41ms/step - loss: 0.0132 - mae: 0.0132\n",
            "Epoch 32/100\n",
            "62/62 [==============================] - 3s 41ms/step - loss: 0.0132 - mae: 0.0132\n",
            "Epoch 33/100\n",
            "62/62 [==============================] - 3s 43ms/step - loss: 0.0132 - mae: 0.0132\n",
            "Epoch 34/100\n",
            "62/62 [==============================] - 2s 39ms/step - loss: 0.0132 - mae: 0.0132\n",
            "Epoch 35/100\n",
            "62/62 [==============================] - 3s 40ms/step - loss: 0.0132 - mae: 0.0132\n",
            "Epoch 36/100\n",
            "62/62 [==============================] - 3s 42ms/step - loss: 0.0132 - mae: 0.0132\n",
            "Epoch 37/100\n",
            "62/62 [==============================] - 2s 40ms/step - loss: 0.0131 - mae: 0.0131\n",
            "Epoch 38/100\n",
            "62/62 [==============================] - 2s 40ms/step - loss: 0.0131 - mae: 0.0131\n",
            "Epoch 39/100\n",
            "62/62 [==============================] - 3s 41ms/step - loss: 0.0131 - mae: 0.0131\n",
            "Epoch 40/100\n",
            "62/62 [==============================] - 3s 45ms/step - loss: 0.0131 - mae: 0.0131\n",
            "Epoch 41/100\n",
            "62/62 [==============================] - 2s 40ms/step - loss: 0.0131 - mae: 0.0131\n",
            "Epoch 42/100\n",
            "62/62 [==============================] - 3s 41ms/step - loss: 0.0131 - mae: 0.0131\n",
            "Epoch 43/100\n",
            "62/62 [==============================] - 3s 45ms/step - loss: 0.0130 - mae: 0.0130\n",
            "Epoch 44/100\n",
            "62/62 [==============================] - 3s 41ms/step - loss: 0.0130 - mae: 0.0130\n",
            "Epoch 45/100\n",
            "62/62 [==============================] - 2s 40ms/step - loss: 0.0130 - mae: 0.0130\n",
            "Epoch 46/100\n",
            "62/62 [==============================] - 3s 41ms/step - loss: 0.0130 - mae: 0.0130\n",
            "Epoch 47/100\n",
            "62/62 [==============================] - 2s 40ms/step - loss: 0.0130 - mae: 0.0130\n",
            "Epoch 48/100\n",
            "62/62 [==============================] - 2s 40ms/step - loss: 0.0130 - mae: 0.0130\n",
            "Epoch 49/100\n",
            "62/62 [==============================] - 3s 42ms/step - loss: 0.0130 - mae: 0.0130\n",
            "Epoch 50/100\n",
            "62/62 [==============================] - 2s 40ms/step - loss: 0.0129 - mae: 0.0129\n",
            "Epoch 51/100\n",
            "62/62 [==============================] - 2s 39ms/step - loss: 0.0129 - mae: 0.0129\n",
            "Epoch 52/100\n",
            "62/62 [==============================] - 2s 40ms/step - loss: 0.0129 - mae: 0.0129\n",
            "Epoch 53/100\n",
            "62/62 [==============================] - 3s 43ms/step - loss: 0.0129 - mae: 0.0129\n",
            "Epoch 54/100\n",
            "62/62 [==============================] - 3s 42ms/step - loss: 0.0129 - mae: 0.0129\n",
            "Epoch 55/100\n",
            "62/62 [==============================] - 2s 39ms/step - loss: 0.0129 - mae: 0.0129\n",
            "Epoch 56/100\n",
            "62/62 [==============================] - 2s 40ms/step - loss: 0.0129 - mae: 0.0129\n",
            "Epoch 57/100\n",
            "62/62 [==============================] - 3s 46ms/step - loss: 0.0128 - mae: 0.0128\n",
            "Epoch 58/100\n",
            "62/62 [==============================] - 2s 40ms/step - loss: 0.0128 - mae: 0.0128\n",
            "Epoch 59/100\n",
            "62/62 [==============================] - 2s 39ms/step - loss: 0.0128 - mae: 0.0128\n",
            "Epoch 60/100\n",
            "62/62 [==============================] - 2s 40ms/step - loss: 0.0128 - mae: 0.0128\n",
            "Epoch 61/100\n",
            "62/62 [==============================] - 3s 43ms/step - loss: 0.0128 - mae: 0.0128\n",
            "Epoch 62/100\n",
            "62/62 [==============================] - 2s 40ms/step - loss: 0.0128 - mae: 0.0128\n",
            "Epoch 63/100\n",
            "62/62 [==============================] - 3s 42ms/step - loss: 0.0128 - mae: 0.0128\n",
            "Epoch 64/100\n",
            "62/62 [==============================] - 3s 41ms/step - loss: 0.0128 - mae: 0.0128\n",
            "Epoch 65/100\n",
            "62/62 [==============================] - 2s 40ms/step - loss: 0.0127 - mae: 0.0127\n",
            "Epoch 66/100\n",
            "62/62 [==============================] - 3s 42ms/step - loss: 0.0127 - mae: 0.0127\n",
            "Epoch 67/100\n",
            "62/62 [==============================] - 3s 45ms/step - loss: 0.0127 - mae: 0.0127\n",
            "Epoch 68/100\n",
            "62/62 [==============================] - 3s 41ms/step - loss: 0.0127 - mae: 0.0127\n",
            "Epoch 69/100\n",
            "62/62 [==============================] - 3s 41ms/step - loss: 0.0127 - mae: 0.0127\n",
            "Epoch 70/100\n",
            "62/62 [==============================] - 3s 41ms/step - loss: 0.0127 - mae: 0.0127\n",
            "Epoch 71/100\n",
            "62/62 [==============================] - 3s 41ms/step - loss: 0.0127 - mae: 0.0127\n",
            "Epoch 72/100\n",
            "62/62 [==============================] - 3s 42ms/step - loss: 0.0127 - mae: 0.0127\n",
            "Epoch 73/100\n",
            "62/62 [==============================] - 3s 42ms/step - loss: 0.0126 - mae: 0.0126\n",
            "Epoch 74/100\n",
            "62/62 [==============================] - 3s 41ms/step - loss: 0.0126 - mae: 0.0126\n",
            "Epoch 75/100\n",
            "62/62 [==============================] - 3s 41ms/step - loss: 0.0126 - mae: 0.0126\n",
            "Epoch 76/100\n",
            "62/62 [==============================] - 3s 42ms/step - loss: 0.0126 - mae: 0.0126\n",
            "Epoch 77/100\n",
            "62/62 [==============================] - 3s 43ms/step - loss: 0.0126 - mae: 0.0126\n",
            "Epoch 78/100\n",
            "62/62 [==============================] - 3s 45ms/step - loss: 0.0126 - mae: 0.0126\n",
            "Epoch 79/100\n",
            "62/62 [==============================] - 3s 42ms/step - loss: 0.0126 - mae: 0.0126\n",
            "Epoch 80/100\n",
            "62/62 [==============================] - 2s 40ms/step - loss: 0.0126 - mae: 0.0126\n",
            "Epoch 81/100\n",
            "62/62 [==============================] - 3s 43ms/step - loss: 0.0125 - mae: 0.0125\n",
            "Epoch 82/100\n",
            "62/62 [==============================] - 3s 43ms/step - loss: 0.0125 - mae: 0.0125\n",
            "Epoch 83/100\n",
            "62/62 [==============================] - 3s 47ms/step - loss: 0.0125 - mae: 0.0125\n",
            "Epoch 84/100\n",
            "62/62 [==============================] - 3s 41ms/step - loss: 0.0125 - mae: 0.0125\n",
            "Epoch 85/100\n",
            "62/62 [==============================] - 3s 43ms/step - loss: 0.0125 - mae: 0.0125\n",
            "Epoch 86/100\n",
            "62/62 [==============================] - 2s 39ms/step - loss: 0.0125 - mae: 0.0125\n",
            "Epoch 87/100\n",
            "62/62 [==============================] - 3s 41ms/step - loss: 0.0125 - mae: 0.0125\n",
            "Epoch 88/100\n",
            "62/62 [==============================] - 2s 40ms/step - loss: 0.0125 - mae: 0.0125\n",
            "Epoch 89/100\n",
            "62/62 [==============================] - 3s 43ms/step - loss: 0.0125 - mae: 0.0125\n",
            "Epoch 90/100\n",
            "62/62 [==============================] - 3s 41ms/step - loss: 0.0124 - mae: 0.0124\n",
            "Epoch 91/100\n",
            "62/62 [==============================] - 3s 44ms/step - loss: 0.0124 - mae: 0.0124\n",
            "Epoch 92/100\n",
            "62/62 [==============================] - 3s 41ms/step - loss: 0.0124 - mae: 0.0124\n",
            "Epoch 93/100\n",
            "62/62 [==============================] - 3s 44ms/step - loss: 0.0124 - mae: 0.0124\n",
            "Epoch 94/100\n",
            "62/62 [==============================] - 3s 41ms/step - loss: 0.0124 - mae: 0.0124\n",
            "Epoch 95/100\n",
            "62/62 [==============================] - 2s 39ms/step - loss: 0.0124 - mae: 0.0124\n",
            "Epoch 96/100\n",
            "62/62 [==============================] - 2s 40ms/step - loss: 0.0124 - mae: 0.0124\n",
            "Epoch 97/100\n",
            "62/62 [==============================] - 2s 40ms/step - loss: 0.0124 - mae: 0.0124\n",
            "Epoch 98/100\n",
            "62/62 [==============================] - 2s 40ms/step - loss: 0.0124 - mae: 0.0124\n",
            "Epoch 99/100\n",
            "62/62 [==============================] - 3s 44ms/step - loss: 0.0123 - mae: 0.0123\n",
            "Epoch 100/100\n",
            "62/62 [==============================] - 3s 41ms/step - loss: 0.0123 - mae: 0.0123\n"
          ],
          "name": "stdout"
        }
      ]
    },
    {
      "cell_type": "markdown",
      "metadata": {
        "id": "5dwhsuLpWzpp",
        "colab_type": "text"
      },
      "source": [
        "### Prediction\n",
        "\n",
        "Predict the next values of previous 60-day period. rnn_forecast is dataset included the predicted values is used to compare to actual values of validation dataset."
      ]
    },
    {
      "cell_type": "code",
      "metadata": {
        "id": "EPQTU4wpS1fR",
        "colab_type": "code",
        "colab": {}
      },
      "source": [
        "ds_forecast = model_forecast(model, normalized_dataset, window_size)\n",
        "rnn_forecast = ds_forecast[train_size - window_size:-1,-1]"
      ],
      "execution_count": 0,
      "outputs": []
    },
    {
      "cell_type": "markdown",
      "metadata": {
        "id": "0wtdhLaH38XM",
        "colab_type": "text"
      },
      "source": [
        "#### Result"
      ]
    },
    {
      "cell_type": "markdown",
      "metadata": {
        "id": "pvuXuqA6Zwa0",
        "colab_type": "text"
      },
      "source": [
        "As we can see from the chart, the forecasting graph is really noisy. The trend of forecasting values is really off compare to the actual values. Since we use Mean Absolute Error to evaluate the loss, the gradient is the same throughout training. Therefore, gradient is really large even for small loss values."
      ]
    },
    {
      "cell_type": "code",
      "metadata": {
        "id": "vqX4rjUPWiKz",
        "colab_type": "code",
        "outputId": "95eef254-213b-4cc5-a8a6-306d4814a9d1",
        "colab": {
          "base_uri": "https://localhost:8080/",
          "height": 391
        }
      },
      "source": [
        "plt.figure(figsize=(10, 6))\n",
        "plt.plot(x_valid, label='actual')\n",
        "plt.plot(rnn_forecast, label='forecast')\n",
        "plt.legend()"
      ],
      "execution_count": 0,
      "outputs": [
        {
          "output_type": "execute_result",
          "data": {
            "text/plain": [
              "<matplotlib.legend.Legend at 0x7fccaeab2978>"
            ]
          },
          "metadata": {
            "tags": []
          },
          "execution_count": 44
        },
        {
          "output_type": "display_data",
          "data": {
            "image/png": "[encoded data removed]",
            "text/plain": [
              "<Figure size 720x432 with 1 Axes>"
            ]
          },
          "metadata": {
            "tags": [],
            "needs_background": "light"
          }
        }
      ]
    },
    {
      "cell_type": "markdown",
      "metadata": {
        "id": "79eTObLY_85z",
        "colab_type": "text"
      },
      "source": [
        "This absolute error is based value used to evaluate the model after we tune the model. From the above graph we can see the accuracy is very large we rescale back the normalized values to original values."
      ]
    },
    {
      "cell_type": "code",
      "metadata": {
        "id": "NMmpdEeVXtd8",
        "colab_type": "code",
        "outputId": "2f30a4df-bacf-4227-d2ac-ead2b9fde9bf",
        "colab": {
          "base_uri": "https://localhost:8080/",
          "height": 34
        }
      },
      "source": [
        "tf.keras.metrics.mean_absolute_error(x_valid[:,0], rnn_forecast[:,0]).numpy()"
      ],
      "execution_count": 0,
      "outputs": [
        {
          "output_type": "execute_result",
          "data": {
            "text/plain": [
              "0.16902734"
            ]
          },
          "metadata": {
            "tags": []
          },
          "execution_count": 45
        }
      ]
    },
    {
      "cell_type": "markdown",
      "metadata": {
        "id": "4Q5o8S9MlHFT",
        "colab_type": "text"
      },
      "source": [
        "Plot the loss after 100 epochs"
      ]
    },
    {
      "cell_type": "code",
      "metadata": {
        "id": "fBQj5WSMlJiq",
        "colab_type": "code",
        "outputId": "5a9daf90-21ed-4b72-fc28-8b4f4c07fc16",
        "colab": {
          "base_uri": "https://localhost:8080/",
          "height": 500
        }
      },
      "source": [
        "plt.figure(figsize=(10,8))\n",
        "plt.plot(history.history['loss'])"
      ],
      "execution_count": 0,
      "outputs": [
        {
          "output_type": "execute_result",
          "data": {
            "text/plain": [
              "[<matplotlib.lines.Line2D at 0x7fccaea46c18>]"
            ]
          },
          "metadata": {
            "tags": []
          },
          "execution_count": 46
        },
        {
          "output_type": "display_data",
          "data": {
            "image/png": "[encoded data removed]",
            "text/plain": [
              "<Figure size 720x576 with 1 Axes>"
            ]
          },
          "metadata": {
            "tags": [],
            "needs_background": "light"
          }
        }
      ]
    },
    {
      "cell_type": "markdown",
      "metadata": {
        "id": "BVrtlq4voYcy",
        "colab_type": "text"
      },
      "source": [
        "Enlarge the above graph from epoch 80 to 100"
      ]
    },
    {
      "cell_type": "code",
      "metadata": {
        "id": "svfcrMQLkivq",
        "colab_type": "code",
        "outputId": "94eb44ac-c762-4f24-8312-55fe28433b42",
        "colab": {
          "base_uri": "https://localhost:8080/",
          "height": 504
        }
      },
      "source": [
        "plt.figure(figsize=(10,8))\n",
        "plt.plot(history.history['loss'])\n",
        "plt.axis([80,100, 0.01225, 0.01300])"
      ],
      "execution_count": 0,
      "outputs": [
        {
          "output_type": "execute_result",
          "data": {
            "text/plain": [
              "(80.0, 100.0, 0.01225, 0.013)"
            ]
          },
          "metadata": {
            "tags": []
          },
          "execution_count": 47
        },
        {
          "output_type": "display_data",
          "data": {
            "image/png": "[encoded data removed]",
            "text/plain": [
              "<Figure size 720x576 with 1 Axes>"
            ]
          },
          "metadata": {
            "tags": [],
            "needs_background": "light"
          }
        }
      ]
    },
    {
      "cell_type": "markdown",
      "metadata": {
        "id": "LTQ0AYQaoiOl",
        "colab_type": "text"
      },
      "source": [
        "From two graphs above we can see the model has improved and the loss descreased when the training time went up to 100 epochs. We will increase the training time to see if it will help improve the gradient and reduce the loss."
      ]
    },
    {
      "cell_type": "markdown",
      "metadata": {
        "id": "KDuMAJt_BlxN",
        "colab_type": "text"
      },
      "source": [
        "## Tuning the model - first time"
      ]
    },
    {
      "cell_type": "markdown",
      "metadata": {
        "id": "UZ-JiiOJO2LE",
        "colab_type": "text"
      },
      "source": [
        "Using a callback scheduler to narrow down the range of learing rate to identify good learning rate for model. We use Huber as a loss function because it decreases the gradient while using Mean Absolute Error and less sensitive to outliner data then Mean Squar Error. \n",
        "\n",
        "</br> In addition, we add Rectified Unit as the output activation function. Since stock price will never have negative values, all negative values will become zeros. \n",
        "\n",
        "Reference [Huber loss](https://heartbeat.fritz.ai/5-regression-loss-functions-all-machine-learners-should-know-4fb140e9d4b0)"
      ]
    },
    {
      "cell_type": "code",
      "metadata": {
        "id": "6vwd-KteEpRZ",
        "colab_type": "code",
        "outputId": "24a5efd9-b21b-4773-cb6c-42ac1b32a375",
        "colab": {
          "base_uri": "https://localhost:8080/",
          "height": 1000
        }
      },
      "source": [
        "tf.keras.backend.clear_session()\n",
        "tf.random.set_seed(51)\n",
        "np.random.seed(51)\n",
        "\n",
        "train_set = window_dataset(x_train, window_size, batch_size, shuffle_size)\n",
        "\n",
        "model = tf.keras.models.Sequential([\n",
        "    tf.keras.layers.SimpleRNN(rnn_units, return_sequences=True, \n",
        "                              input_shape=[None,1]), \n",
        "    tf.keras.layers.Dense(31, activation='relu'),\n",
        "    tf.keras.layers.Dense(1), #output a single dense    \n",
        "])\n",
        "\n",
        "lr_callbacks = tf.keras.callbacks.LearningRateScheduler(\n",
        "    lambda epoch: 1e-7 * 10**(epoch/20)\n",
        ")\n",
        "\n",
        "optimizer_SGD = tf.keras.optimizers.SGD(lr=1e-7, momentum=0.9, verbose=verbose_mode) \n",
        "\n",
        "model.compile(loss=tf.keras.losses.Huber(),\n",
        "              optimizer=optimizer_SGD,\n",
        "              metrics=[\"mae\"])\n",
        "\n",
        "history = model.fit(train_set, epochs=120, callbacks=[lr_callbacks]) "
      ],
      "execution_count": 0,
      "outputs": [
        {
          "output_type": "stream",
          "text": [
            "Epoch 1/120\n",
            "62/62 [==============================] - 2s 40ms/step - loss: 6.7292e-04 - mae: 0.0143 - lr: 1.0000e-07\n",
            "Epoch 2/120\n",
            "62/62 [==============================] - 3s 41ms/step - loss: 6.7278e-04 - mae: 0.0143 - lr: 1.1220e-07\n",
            "Epoch 3/120\n",
            "62/62 [==============================] - 2s 40ms/step - loss: 6.7262e-04 - mae: 0.0143 - lr: 1.2589e-07\n",
            "Epoch 4/120\n",
            "62/62 [==============================] - 3s 42ms/step - loss: 6.7244e-04 - mae: 0.0143 - lr: 1.4125e-07\n",
            "Epoch 5/120\n",
            "62/62 [==============================] - 2s 40ms/step - loss: 6.7225e-04 - mae: 0.0143 - lr: 1.5849e-07\n",
            "Epoch 6/120\n",
            "62/62 [==============================] - 3s 41ms/step - loss: 6.7202e-04 - mae: 0.0143 - lr: 1.7783e-07\n",
            "Epoch 7/120\n",
            "62/62 [==============================] - 3s 40ms/step - loss: 6.7178e-04 - mae: 0.0143 - lr: 1.9953e-07\n",
            "Epoch 8/120\n",
            "62/62 [==============================] - 3s 41ms/step - loss: 6.7150e-04 - mae: 0.0143 - lr: 2.2387e-07\n",
            "Epoch 9/120\n",
            "62/62 [==============================] - 3s 41ms/step - loss: 6.7119e-04 - mae: 0.0142 - lr: 2.5119e-07\n",
            "Epoch 10/120\n",
            "62/62 [==============================] - 2s 39ms/step - loss: 6.7085e-04 - mae: 0.0142 - lr: 2.8184e-07\n",
            "Epoch 11/120\n",
            "62/62 [==============================] - 2s 39ms/step - loss: 6.7046e-04 - mae: 0.0142 - lr: 3.1623e-07\n",
            "Epoch 12/120\n",
            "62/62 [==============================] - 2s 40ms/step - loss: 6.7003e-04 - mae: 0.0142 - lr: 3.5481e-07\n",
            "Epoch 13/120\n",
            "62/62 [==============================] - 3s 41ms/step - loss: 6.6956e-04 - mae: 0.0142 - lr: 3.9811e-07\n",
            "Epoch 14/120\n",
            "62/62 [==============================] - 2s 39ms/step - loss: 6.6903e-04 - mae: 0.0142 - lr: 4.4668e-07\n",
            "Epoch 15/120\n",
            "62/62 [==============================] - 2s 40ms/step - loss: 6.6845e-04 - mae: 0.0141 - lr: 5.0119e-07\n",
            "Epoch 16/120\n",
            "62/62 [==============================] - 2s 39ms/step - loss: 6.6781e-04 - mae: 0.0141 - lr: 5.6234e-07\n",
            "Epoch 17/120\n",
            "62/62 [==============================] - 2s 40ms/step - loss: 6.6710e-04 - mae: 0.0141 - lr: 6.3096e-07\n",
            "Epoch 18/120\n",
            "62/62 [==============================] - 2s 39ms/step - loss: 6.6632e-04 - mae: 0.0141 - lr: 7.0795e-07\n",
            "Epoch 19/120\n",
            "62/62 [==============================] - 3s 40ms/step - loss: 6.6546e-04 - mae: 0.0141 - lr: 7.9433e-07\n",
            "Epoch 20/120\n",
            "62/62 [==============================] - 2s 39ms/step - loss: 6.6452e-04 - mae: 0.0141 - lr: 8.9125e-07\n",
            "Epoch 21/120\n",
            "62/62 [==============================] - 2s 40ms/step - loss: 6.6351e-04 - mae: 0.0141 - lr: 1.0000e-06\n",
            "Epoch 22/120\n",
            "62/62 [==============================] - 2s 40ms/step - loss: 6.6241e-04 - mae: 0.0141 - lr: 1.1220e-06\n",
            "Epoch 23/120\n",
            "62/62 [==============================] - 2s 39ms/step - loss: 6.6122e-04 - mae: 0.0141 - lr: 1.2589e-06\n",
            "Epoch 24/120\n",
            "62/62 [==============================] - 2s 40ms/step - loss: 6.5994e-04 - mae: 0.0141 - lr: 1.4125e-06\n",
            "Epoch 25/120\n",
            "62/62 [==============================] - 2s 40ms/step - loss: 6.5857e-04 - mae: 0.0141 - lr: 1.5849e-06\n",
            "Epoch 26/120\n",
            "62/62 [==============================] - 2s 39ms/step - loss: 6.5712e-04 - mae: 0.0142 - lr: 1.7783e-06\n",
            "Epoch 27/120\n",
            "62/62 [==============================] - 2s 40ms/step - loss: 6.5559e-04 - mae: 0.0142 - lr: 1.9953e-06\n",
            "Epoch 28/120\n",
            "62/62 [==============================] - 3s 41ms/step - loss: 6.5397e-04 - mae: 0.0143 - lr: 2.2387e-06\n",
            "Epoch 29/120\n",
            "62/62 [==============================] - 2s 39ms/step - loss: 6.5230e-04 - mae: 0.0143 - lr: 2.5119e-06\n",
            "Epoch 30/120\n",
            "62/62 [==============================] - 2s 40ms/step - loss: 6.5056e-04 - mae: 0.0144 - lr: 2.8184e-06\n",
            "Epoch 31/120\n",
            "62/62 [==============================] - 2s 39ms/step - loss: 6.4878e-04 - mae: 0.0145 - lr: 3.1623e-06\n",
            "Epoch 32/120\n",
            "62/62 [==============================] - 3s 40ms/step - loss: 6.4695e-04 - mae: 0.0146 - lr: 3.5481e-06\n",
            "Epoch 33/120\n",
            "62/62 [==============================] - 2s 40ms/step - loss: 6.4511e-04 - mae: 0.0147 - lr: 3.9811e-06\n",
            "Epoch 34/120\n",
            "62/62 [==============================] - 2s 40ms/step - loss: 6.4326e-04 - mae: 0.0148 - lr: 4.4668e-06\n",
            "Epoch 35/120\n",
            "62/62 [==============================] - 2s 39ms/step - loss: 6.4141e-04 - mae: 0.0149 - lr: 5.0119e-06\n",
            "Epoch 36/120\n",
            "62/62 [==============================] - 2s 40ms/step - loss: 6.3957e-04 - mae: 0.0150 - lr: 5.6234e-06\n",
            "Epoch 37/120\n",
            "62/62 [==============================] - 3s 41ms/step - loss: 6.3776e-04 - mae: 0.0151 - lr: 6.3096e-06\n",
            "Epoch 38/120\n",
            "62/62 [==============================] - 2s 39ms/step - loss: 6.3595e-04 - mae: 0.0153 - lr: 7.0795e-06\n",
            "Epoch 39/120\n",
            "62/62 [==============================] - 2s 40ms/step - loss: 6.3414e-04 - mae: 0.0154 - lr: 7.9433e-06\n",
            "Epoch 40/120\n",
            "62/62 [==============================] - 3s 41ms/step - loss: 6.3230e-04 - mae: 0.0155 - lr: 8.9125e-06\n",
            "Epoch 41/120\n",
            "62/62 [==============================] - 2s 40ms/step - loss: 6.3044e-04 - mae: 0.0156 - lr: 1.0000e-05\n",
            "Epoch 42/120\n",
            "62/62 [==============================] - 2s 40ms/step - loss: 6.2852e-04 - mae: 0.0157 - lr: 1.1220e-05\n",
            "Epoch 43/120\n",
            "62/62 [==============================] - 3s 40ms/step - loss: 6.2646e-04 - mae: 0.0158 - lr: 1.2589e-05\n",
            "Epoch 44/120\n",
            "62/62 [==============================] - 2s 40ms/step - loss: 6.2425e-04 - mae: 0.0158 - lr: 1.4125e-05\n",
            "Epoch 45/120\n",
            "62/62 [==============================] - 3s 41ms/step - loss: 6.2189e-04 - mae: 0.0159 - lr: 1.5849e-05\n",
            "Epoch 46/120\n",
            "62/62 [==============================] - 3s 41ms/step - loss: 6.1926e-04 - mae: 0.0159 - lr: 1.7783e-05\n",
            "Epoch 47/120\n",
            "62/62 [==============================] - 2s 40ms/step - loss: 6.1631e-04 - mae: 0.0159 - lr: 1.9953e-05\n",
            "Epoch 48/120\n",
            "62/62 [==============================] - 2s 39ms/step - loss: 6.1301e-04 - mae: 0.0158 - lr: 2.2387e-05\n",
            "Epoch 49/120\n",
            "62/62 [==============================] - 2s 40ms/step - loss: 6.0940e-04 - mae: 0.0158 - lr: 2.5119e-05\n",
            "Epoch 50/120\n",
            "62/62 [==============================] - 2s 40ms/step - loss: 6.0520e-04 - mae: 0.0157 - lr: 2.8184e-05\n",
            "Epoch 51/120\n",
            "62/62 [==============================] - 2s 40ms/step - loss: 6.0068e-04 - mae: 0.0156 - lr: 3.1623e-05\n",
            "Epoch 52/120\n",
            "62/62 [==============================] - 2s 40ms/step - loss: 5.9545e-04 - mae: 0.0155 - lr: 3.5481e-05\n",
            "Epoch 53/120\n",
            "62/62 [==============================] - 2s 40ms/step - loss: 5.8967e-04 - mae: 0.0154 - lr: 3.9811e-05\n",
            "Epoch 54/120\n",
            "62/62 [==============================] - 2s 40ms/step - loss: 5.8288e-04 - mae: 0.0152 - lr: 4.4668e-05\n",
            "Epoch 55/120\n",
            "62/62 [==============================] - 3s 41ms/step - loss: 5.7380e-04 - mae: 0.0148 - lr: 5.0119e-05\n",
            "Epoch 56/120\n",
            "62/62 [==============================] - 2s 40ms/step - loss: 5.6318e-04 - mae: 0.0145 - lr: 5.6234e-05\n",
            "Epoch 57/120\n",
            "62/62 [==============================] - 3s 41ms/step - loss: 5.5195e-04 - mae: 0.0144 - lr: 6.3096e-05\n",
            "Epoch 58/120\n",
            "62/62 [==============================] - 2s 39ms/step - loss: 5.4159e-04 - mae: 0.0145 - lr: 7.0795e-05\n",
            "Epoch 59/120\n",
            "62/62 [==============================] - 3s 40ms/step - loss: 5.3191e-04 - mae: 0.0147 - lr: 7.9433e-05\n",
            "Epoch 60/120\n",
            "62/62 [==============================] - 2s 40ms/step - loss: 5.2185e-04 - mae: 0.0147 - lr: 8.9125e-05\n",
            "Epoch 61/120\n",
            "62/62 [==============================] - 2s 39ms/step - loss: 5.1142e-04 - mae: 0.0147 - lr: 1.0000e-04\n",
            "Epoch 62/120\n",
            "62/62 [==============================] - 2s 40ms/step - loss: 5.0069e-04 - mae: 0.0147 - lr: 1.1220e-04\n",
            "Epoch 63/120\n",
            "62/62 [==============================] - 2s 40ms/step - loss: 4.8907e-04 - mae: 0.0145 - lr: 1.2589e-04\n",
            "Epoch 64/120\n",
            "62/62 [==============================] - 2s 40ms/step - loss: 4.7705e-04 - mae: 0.0142 - lr: 1.4125e-04\n",
            "Epoch 65/120\n",
            "62/62 [==============================] - 2s 40ms/step - loss: 4.6424e-04 - mae: 0.0137 - lr: 1.5849e-04\n",
            "Epoch 66/120\n",
            "62/62 [==============================] - 2s 39ms/step - loss: 4.4599e-04 - mae: 0.0128 - lr: 1.7783e-04\n",
            "Epoch 67/120\n",
            "62/62 [==============================] - 3s 41ms/step - loss: 4.2536e-04 - mae: 0.0121 - lr: 1.9953e-04\n",
            "Epoch 68/120\n",
            "62/62 [==============================] - 3s 41ms/step - loss: 4.0792e-04 - mae: 0.0120 - lr: 2.2387e-04\n",
            "Epoch 69/120\n",
            "62/62 [==============================] - 2s 39ms/step - loss: 3.9225e-04 - mae: 0.0118 - lr: 2.5119e-04\n",
            "Epoch 70/120\n",
            "62/62 [==============================] - 2s 39ms/step - loss: 3.7813e-04 - mae: 0.0117 - lr: 2.8184e-04\n",
            "Epoch 71/120\n",
            "62/62 [==============================] - 2s 39ms/step - loss: 3.6512e-04 - mae: 0.0116 - lr: 3.1623e-04\n",
            "Epoch 72/120\n",
            "62/62 [==============================] - 3s 41ms/step - loss: 3.5269e-04 - mae: 0.0115 - lr: 3.5481e-04\n",
            "Epoch 73/120\n",
            "62/62 [==============================] - 2s 40ms/step - loss: 3.4125e-04 - mae: 0.0116 - lr: 3.9811e-04\n",
            "Epoch 74/120\n",
            "62/62 [==============================] - 2s 40ms/step - loss: 3.3102e-04 - mae: 0.0118 - lr: 4.4668e-04\n",
            "Epoch 75/120\n",
            "62/62 [==============================] - 3s 41ms/step - loss: 3.2104e-04 - mae: 0.0120 - lr: 5.0119e-04\n",
            "Epoch 76/120\n",
            "62/62 [==============================] - 2s 38ms/step - loss: 3.1022e-04 - mae: 0.0121 - lr: 5.6234e-04\n",
            "Epoch 77/120\n",
            "62/62 [==============================] - 2s 38ms/step - loss: 2.9714e-04 - mae: 0.0119 - lr: 6.3096e-04\n",
            "Epoch 78/120\n",
            "62/62 [==============================] - 2s 39ms/step - loss: 2.8350e-04 - mae: 0.0117 - lr: 7.0795e-04\n",
            "Epoch 79/120\n",
            "62/62 [==============================] - 2s 39ms/step - loss: 2.7147e-04 - mae: 0.0115 - lr: 7.9433e-04\n",
            "Epoch 80/120\n",
            "62/62 [==============================] - 2s 39ms/step - loss: 2.6093e-04 - mae: 0.0114 - lr: 8.9125e-04\n",
            "Epoch 81/120\n",
            "62/62 [==============================] - 3s 41ms/step - loss: 2.5210e-04 - mae: 0.0115 - lr: 0.0010\n",
            "Epoch 82/120\n",
            "62/62 [==============================] - 2s 40ms/step - loss: 2.4461e-04 - mae: 0.0116 - lr: 0.0011\n",
            "Epoch 83/120\n",
            "62/62 [==============================] - 3s 42ms/step - loss: 2.3815e-04 - mae: 0.0117 - lr: 0.0013\n",
            "Epoch 84/120\n",
            "62/62 [==============================] - 2s 40ms/step - loss: 2.3339e-04 - mae: 0.0120 - lr: 0.0014\n",
            "Epoch 85/120\n",
            "62/62 [==============================] - 2s 39ms/step - loss: 2.2512e-04 - mae: 0.0120 - lr: 0.0016\n",
            "Epoch 86/120\n",
            "62/62 [==============================] - 2s 40ms/step - loss: 2.1755e-04 - mae: 0.0119 - lr: 0.0018\n",
            "Epoch 87/120\n",
            "62/62 [==============================] - 2s 40ms/step - loss: 2.1225e-04 - mae: 0.0120 - lr: 0.0020\n",
            "Epoch 88/120\n",
            "62/62 [==============================] - 2s 39ms/step - loss: 2.0878e-04 - mae: 0.0122 - lr: 0.0022\n",
            "Epoch 89/120\n",
            "62/62 [==============================] - 3s 40ms/step - loss: 1.9915e-04 - mae: 0.0121 - lr: 0.0025\n",
            "Epoch 90/120\n",
            "62/62 [==============================] - 2s 40ms/step - loss: 1.8803e-04 - mae: 0.0117 - lr: 0.0028\n",
            "Epoch 91/120\n",
            "62/62 [==============================] - 2s 40ms/step - loss: 1.7795e-04 - mae: 0.0115 - lr: 0.0032\n",
            "Epoch 92/120\n",
            "62/62 [==============================] - 2s 40ms/step - loss: 1.6796e-04 - mae: 0.0111 - lr: 0.0035\n",
            "Epoch 93/120\n",
            "62/62 [==============================] - 2s 40ms/step - loss: 1.6023e-04 - mae: 0.0110 - lr: 0.0040\n",
            "Epoch 94/120\n",
            "62/62 [==============================] - 3s 41ms/step - loss: 1.4972e-04 - mae: 0.0106 - lr: 0.0045\n",
            "Epoch 95/120\n",
            "62/62 [==============================] - 3s 41ms/step - loss: 1.3979e-04 - mae: 0.0102 - lr: 0.0050\n",
            "Epoch 96/120\n",
            "62/62 [==============================] - 3s 41ms/step - loss: 1.3122e-04 - mae: 0.0099 - lr: 0.0056\n",
            "Epoch 97/120\n",
            "62/62 [==============================] - 3s 41ms/step - loss: 1.1939e-04 - mae: 0.0093 - lr: 0.0063\n",
            "Epoch 98/120\n",
            "62/62 [==============================] - 2s 40ms/step - loss: 1.0895e-04 - mae: 0.0089 - lr: 0.0071\n",
            "Epoch 99/120\n",
            "62/62 [==============================] - 2s 40ms/step - loss: 9.8188e-05 - mae: 0.0082 - lr: 0.0079\n",
            "Epoch 100/120\n",
            "62/62 [==============================] - 2s 39ms/step - loss: 9.0217e-05 - mae: 0.0079 - lr: 0.0089\n",
            "Epoch 101/120\n",
            "62/62 [==============================] - 2s 40ms/step - loss: 8.0903e-05 - mae: 0.0072 - lr: 0.0100\n",
            "Epoch 102/120\n",
            "62/62 [==============================] - 3s 41ms/step - loss: 7.5546e-05 - mae: 0.0070 - lr: 0.0112\n",
            "Epoch 103/120\n",
            "62/62 [==============================] - 2s 40ms/step - loss: 6.7193e-05 - mae: 0.0063 - lr: 0.0126\n",
            "Epoch 104/120\n",
            "62/62 [==============================] - 2s 40ms/step - loss: 6.2605e-05 - mae: 0.0061 - lr: 0.0141\n",
            "Epoch 105/120\n",
            "62/62 [==============================] - 2s 40ms/step - loss: 5.7644e-05 - mae: 0.0058 - lr: 0.0158\n",
            "Epoch 106/120\n",
            "62/62 [==============================] - 3s 40ms/step - loss: 5.3839e-05 - mae: 0.0056 - lr: 0.0178\n",
            "Epoch 107/120\n",
            "62/62 [==============================] - 2s 40ms/step - loss: 4.9244e-05 - mae: 0.0052 - lr: 0.0200\n",
            "Epoch 108/120\n",
            "62/62 [==============================] - 2s 40ms/step - loss: 4.6738e-05 - mae: 0.0053 - lr: 0.0224\n",
            "Epoch 109/120\n",
            "62/62 [==============================] - 2s 40ms/step - loss: 4.7212e-05 - mae: 0.0057 - lr: 0.0251\n",
            "Epoch 110/120\n",
            "62/62 [==============================] - 2s 40ms/step - loss: 4.4001e-05 - mae: 0.0054 - lr: 0.0282\n",
            "Epoch 111/120\n",
            "62/62 [==============================] - 2s 40ms/step - loss: 4.6958e-05 - mae: 0.0060 - lr: 0.0316\n",
            "Epoch 112/120\n",
            "62/62 [==============================] - 2s 39ms/step - loss: 4.2796e-05 - mae: 0.0056 - lr: 0.0355\n",
            "Epoch 113/120\n",
            "62/62 [==============================] - 2s 40ms/step - loss: 4.6590e-05 - mae: 0.0061 - lr: 0.0398\n",
            "Epoch 114/120\n",
            "62/62 [==============================] - 2s 40ms/step - loss: 4.9617e-05 - mae: 0.0065 - lr: 0.0447\n",
            "Epoch 115/120\n",
            "62/62 [==============================] - 2s 40ms/step - loss: 5.4794e-05 - mae: 0.0070 - lr: 0.0501\n",
            "Epoch 116/120\n",
            "62/62 [==============================] - 2s 40ms/step - loss: 5.5241e-05 - mae: 0.0072 - lr: 0.0562\n",
            "Epoch 117/120\n",
            "62/62 [==============================] - 3s 41ms/step - loss: 4.8134e-05 - mae: 0.0066 - lr: 0.0631\n",
            "Epoch 118/120\n",
            "62/62 [==============================] - 3s 40ms/step - loss: 4.3658e-05 - mae: 0.0062 - lr: 0.0708\n",
            "Epoch 119/120\n",
            "62/62 [==============================] - 2s 40ms/step - loss: 4.2248e-05 - mae: 0.0061 - lr: 0.0794\n",
            "Epoch 120/120\n",
            "62/62 [==============================] - 2s 39ms/step - loss: 3.7877e-05 - mae: 0.0057 - lr: 0.0891\n"
          ],
          "name": "stdout"
        }
      ]
    },
    {
      "cell_type": "markdown",
      "metadata": {
        "colab_type": "text",
        "id": "-lxltI8vp_uS"
      },
      "source": [
        "### Prediction\n",
        "\n",
        "Predict the next values of previous 60-day period. rnn_forecast is dataset included the predicted values is used to compare to actual values of validation dataset."
      ]
    },
    {
      "cell_type": "code",
      "metadata": {
        "colab_type": "code",
        "id": "8UWqt9YXp_uV",
        "colab": {}
      },
      "source": [
        "ds_forecast = model_forecast(model, normalized_dataset, window_size)\n",
        "rnn_forecast = ds_forecast[train_size - window_size:-1,-1]"
      ],
      "execution_count": 0,
      "outputs": []
    },
    {
      "cell_type": "code",
      "metadata": {
        "colab_type": "code",
        "outputId": "21a492ab-dcfb-44db-fec7-dddc271d76fa",
        "id": "HkfsqMmfp_uY",
        "colab": {
          "base_uri": "https://localhost:8080/",
          "height": 391
        }
      },
      "source": [
        "plt.figure(figsize=(10, 6))\n",
        "plt.plot(x_valid, label='actual')\n",
        "plt.plot(rnn_forecast, label='forecast')\n",
        "plt.legend()"
      ],
      "execution_count": 0,
      "outputs": [
        {
          "output_type": "execute_result",
          "data": {
            "text/plain": [
              "<matplotlib.legend.Legend at 0x7fccae6842b0>"
            ]
          },
          "metadata": {
            "tags": []
          },
          "execution_count": 50
        },
        {
          "output_type": "display_data",
          "data": {
            "image/png": "[encoded data removed]",
            "text/plain": [
              "<Figure size 720x432 with 1 Axes>"
            ]
          },
          "metadata": {
            "tags": [],
            "needs_background": "light"
          }
        }
      ]
    },
    {
      "cell_type": "markdown",
      "metadata": {
        "id": "zgXDJSOz3nK-",
        "colab_type": "text"
      },
      "source": [
        "#### Result"
      ]
    },
    {
      "cell_type": "markdown",
      "metadata": {
        "colab_type": "text",
        "id": "eRMuN74Ap_uc"
      },
      "source": [
        "As we can see from the chart, the forecasting graph is improved, albeit it still has some noisy. In the first part of graph above, we're also able to see the forecasting graph has picked up the trend of the actual graph."
      ]
    },
    {
      "cell_type": "code",
      "metadata": {
        "colab_type": "code",
        "outputId": "733582bb-9566-4b46-fa3f-3b0c1380acf0",
        "id": "tXiXDKIup_uc",
        "colab": {
          "base_uri": "https://localhost:8080/",
          "height": 34
        }
      },
      "source": [
        "tf.keras.metrics.mean_absolute_error(x_valid[:,0], rnn_forecast[:,0]).numpy()"
      ],
      "execution_count": 0,
      "outputs": [
        {
          "output_type": "execute_result",
          "data": {
            "text/plain": [
              "0.120264664"
            ]
          },
          "metadata": {
            "tags": []
          },
          "execution_count": 51
        }
      ]
    },
    {
      "cell_type": "markdown",
      "metadata": {
        "colab_type": "text",
        "id": "I8Ms2yK9p_ue"
      },
      "source": [
        "Compare to first training, the model has an improvement after we increase the number of training time and adding Relu activation for output dense.\n",
        "\n",
        "| Error Metric| Previous    | Current       |\n",
        "| :---        |    :----:   |          ---: |\n",
        "| MAE         | 0.169       | 0.12026       |"
      ]
    },
    {
      "cell_type": "markdown",
      "metadata": {
        "id": "kirtgiNGuhh6",
        "colab_type": "text"
      },
      "source": [
        "Plot the test accuracy to see where we can find a good learning rate for next training. An optimal learning rate can improve the convergence of the model."
      ]
    },
    {
      "cell_type": "code",
      "metadata": {
        "id": "Y3oD_66zJ4ij",
        "colab_type": "code",
        "outputId": "8eabf057-58b2-4070-acb6-3bcf23df2a7d",
        "colab": {
          "base_uri": "https://localhost:8080/",
          "height": 505
        }
      },
      "source": [
        "plt.figure(figsize=(10,8))\n",
        "plt.semilogx(history.history['lr'], history.history['loss'])"
      ],
      "execution_count": 0,
      "outputs": [
        {
          "output_type": "execute_result",
          "data": {
            "text/plain": [
              "[<matplotlib.lines.Line2D at 0x7fccae64ae80>]"
            ]
          },
          "metadata": {
            "tags": []
          },
          "execution_count": 52
        },
        {
          "output_type": "display_data",
          "data": {
            "image/png": "[encoded data removed]",
            "text/plain": [
              "<Figure size 720x576 with 1 Axes>"
            ]
          },
          "metadata": {
            "tags": [],
            "needs_background": "light"
          }
        }
      ]
    },
    {
      "cell_type": "markdown",
      "metadata": {
        "id": "TIAyjxZivHyt",
        "colab_type": "text"
      },
      "source": [
        "Enlarge the graph to learning rate between <math>$5*10^{-3}$ and $10^{-1}$ </math>"
      ]
    },
    {
      "cell_type": "code",
      "metadata": {
        "id": "8LuqzRQkn-48",
        "colab_type": "code",
        "outputId": "f0841ce1-a1e8-44e2-cfaf-a4dcbcadc198",
        "colab": {
          "base_uri": "https://localhost:8080/",
          "height": 508
        }
      },
      "source": [
        "plt.figure(figsize=(10,8))\n",
        "plt.semilogx(history.history['lr'], history.history['loss'])\n",
        "plt.axis([5e-3, 1e-1, 0, 0.0002])"
      ],
      "execution_count": 0,
      "outputs": [
        {
          "output_type": "execute_result",
          "data": {
            "text/plain": [
              "(0.005, 0.1, 0.0, 0.0002)"
            ]
          },
          "metadata": {
            "tags": []
          },
          "execution_count": 53
        },
        {
          "output_type": "display_data",
          "data": {
            "image/png": "[encoded data removed]",
            "text/plain": [
              "<Figure size 720x576 with 1 Axes>"
            ]
          },
          "metadata": {
            "tags": [],
            "needs_background": "light"
          }
        }
      ]
    },
    {
      "cell_type": "markdown",
      "metadata": {
        "id": "sxOaD1JagLEH",
        "colab_type": "text"
      },
      "source": [
        "As we can see the learning rate looks pretty good between <math>$5*10^{-3}$</math> and approximate <math>$10^{-1}$</math>. Regarding to Stochastic Gradient Descent algorithm, when the timesteps increase, the slope will reach to the lowest point where we can achieve an optimal learning rate. We will pick next learning rate is <math>$4*10^{-2}$</math>.\n",
        "\n",
        "<br>We also found a picture to help us visualizing the pattern of learning rate.\n",
        "\n",
        "![alt text](https://miro.medium.com/max/918/0*C5kIkoBwht0fXRgs.jpeg)"
      ]
    },
    {
      "cell_type": "markdown",
      "metadata": {
        "id": "-QBshqjszE47",
        "colab_type": "text"
      },
      "source": [
        "## Tuning the model - second time"
      ]
    },
    {
      "cell_type": "markdown",
      "metadata": {
        "id": "DDNucltqL1zu",
        "colab_type": "text"
      },
      "source": [
        "Regarding to the results of learning rate from the graphs above, we will select <math>$4*10^{-2}$</math> as a learning rate for this training."
      ]
    },
    {
      "cell_type": "code",
      "metadata": {
        "id": "77quHXuKL8sC",
        "colab_type": "code",
        "outputId": "fdf7add8-5fc8-4714-ce4a-6dc0f14df6a1",
        "colab": {
          "base_uri": "https://localhost:8080/",
          "height": 1000
        }
      },
      "source": [
        "tf.keras.backend.clear_session()\n",
        "tf.random.set_seed(51)\n",
        "np.random.seed(51)\n",
        "\n",
        "train_set = window_dataset(x_train, window_size, batch_size, shuffle_size)\n",
        "\n",
        "model = tf.keras.models.Sequential([\n",
        "    tf.keras.layers.SimpleRNN(rnn_units, return_sequences=True, \n",
        "                              input_shape=[None,1]), \n",
        "    tf.keras.layers.Dense(31, activation='relu'),\n",
        "    tf.keras.layers.Dense(1), #output a single dense    \n",
        "])\n",
        "\n",
        "optimizer_SGD = tf.keras.optimizers.SGD(lr=4e-2, momentum=0.9, verbose=verbose_mode) \n",
        "\n",
        "\n",
        "model.compile(loss=tf.keras.losses.Huber(),\n",
        "              optimizer=optimizer_SGD,\n",
        "              metrics=[\"mae\"])\n",
        "\n",
        "history = model.fit(train_set, epochs=100) "
      ],
      "execution_count": 0,
      "outputs": [
        {
          "output_type": "stream",
          "text": [
            "Epoch 1/100\n",
            "62/62 [==============================] - 3s 41ms/step - loss: 2.2343e-04 - mae: 0.0081\n",
            "Epoch 2/100\n",
            "62/62 [==============================] - 2s 40ms/step - loss: 6.3041e-04 - mae: 0.0243\n",
            "Epoch 3/100\n",
            "62/62 [==============================] - 3s 41ms/step - loss: 3.9617e-04 - mae: 0.0185\n",
            "Epoch 4/100\n",
            "62/62 [==============================] - 3s 40ms/step - loss: 4.6218e-04 - mae: 0.0220\n",
            "Epoch 5/100\n",
            "62/62 [==============================] - 2s 40ms/step - loss: 3.9513e-04 - mae: 0.0204\n",
            "Epoch 6/100\n",
            "62/62 [==============================] - 3s 42ms/step - loss: 2.8907e-04 - mae: 0.0175\n",
            "Epoch 7/100\n",
            "62/62 [==============================] - 3s 40ms/step - loss: 2.4178e-04 - mae: 0.0161\n",
            "Epoch 8/100\n",
            "62/62 [==============================] - 3s 40ms/step - loss: 1.8394e-04 - mae: 0.0141\n",
            "Epoch 9/100\n",
            "62/62 [==============================] - 3s 40ms/step - loss: 1.6058e-04 - mae: 0.0132\n",
            "Epoch 10/100\n",
            "62/62 [==============================] - 2s 40ms/step - loss: 1.3432e-04 - mae: 0.0120\n",
            "Epoch 11/100\n",
            "62/62 [==============================] - 2s 40ms/step - loss: 1.2248e-04 - mae: 0.0114\n",
            "Epoch 12/100\n",
            "62/62 [==============================] - 3s 40ms/step - loss: 1.0239e-04 - mae: 0.0104\n",
            "Epoch 13/100\n",
            "62/62 [==============================] - 2s 40ms/step - loss: 9.6257e-05 - mae: 0.0101\n",
            "Epoch 14/100\n",
            "62/62 [==============================] - 3s 42ms/step - loss: 8.6429e-05 - mae: 0.0095\n",
            "Epoch 15/100\n",
            "62/62 [==============================] - 3s 40ms/step - loss: 7.6438e-05 - mae: 0.0089\n",
            "Epoch 16/100\n",
            "62/62 [==============================] - 2s 40ms/step - loss: 7.0816e-05 - mae: 0.0085\n",
            "Epoch 17/100\n",
            "62/62 [==============================] - 3s 41ms/step - loss: 6.8736e-05 - mae: 0.0084\n",
            "Epoch 18/100\n",
            "62/62 [==============================] - 3s 40ms/step - loss: 6.1284e-05 - mae: 0.0078\n",
            "Epoch 19/100\n",
            "62/62 [==============================] - 2s 40ms/step - loss: 5.7472e-05 - mae: 0.0076\n",
            "Epoch 20/100\n",
            "62/62 [==============================] - 3s 40ms/step - loss: 5.2693e-05 - mae: 0.0072\n",
            "Epoch 21/100\n",
            "62/62 [==============================] - 2s 40ms/step - loss: 5.0236e-05 - mae: 0.0069\n",
            "Epoch 22/100\n",
            "62/62 [==============================] - 3s 41ms/step - loss: 4.8892e-05 - mae: 0.0069\n",
            "Epoch 23/100\n",
            "62/62 [==============================] - 3s 40ms/step - loss: 4.7321e-05 - mae: 0.0067\n",
            "Epoch 24/100\n",
            "62/62 [==============================] - 3s 41ms/step - loss: 4.5647e-05 - mae: 0.0066\n",
            "Epoch 25/100\n",
            "62/62 [==============================] - 2s 40ms/step - loss: 4.4619e-05 - mae: 0.0065\n",
            "Epoch 26/100\n",
            "62/62 [==============================] - 3s 41ms/step - loss: 4.2610e-05 - mae: 0.0063\n",
            "Epoch 27/100\n",
            "62/62 [==============================] - 3s 41ms/step - loss: 3.9760e-05 - mae: 0.0060\n",
            "Epoch 28/100\n",
            "62/62 [==============================] - 2s 39ms/step - loss: 4.2728e-05 - mae: 0.0063\n",
            "Epoch 29/100\n",
            "62/62 [==============================] - 3s 40ms/step - loss: 4.0980e-05 - mae: 0.0062\n",
            "Epoch 30/100\n",
            "62/62 [==============================] - 2s 39ms/step - loss: 4.1058e-05 - mae: 0.0062\n",
            "Epoch 31/100\n",
            "62/62 [==============================] - 2s 40ms/step - loss: 3.8744e-05 - mae: 0.0059\n",
            "Epoch 32/100\n",
            "62/62 [==============================] - 2s 40ms/step - loss: 3.9684e-05 - mae: 0.0060\n",
            "Epoch 33/100\n",
            "62/62 [==============================] - 2s 39ms/step - loss: 3.8460e-05 - mae: 0.0059\n",
            "Epoch 34/100\n",
            "62/62 [==============================] - 2s 40ms/step - loss: 3.7248e-05 - mae: 0.0058\n",
            "Epoch 35/100\n",
            "62/62 [==============================] - 2s 40ms/step - loss: 3.6268e-05 - mae: 0.0057\n",
            "Epoch 36/100\n",
            "62/62 [==============================] - 2s 40ms/step - loss: 3.6080e-05 - mae: 0.0057\n",
            "Epoch 37/100\n",
            "62/62 [==============================] - 3s 40ms/step - loss: 3.5964e-05 - mae: 0.0057\n",
            "Epoch 38/100\n",
            "62/62 [==============================] - 2s 40ms/step - loss: 3.4946e-05 - mae: 0.0056\n",
            "Epoch 39/100\n",
            "62/62 [==============================] - 2s 40ms/step - loss: 3.6626e-05 - mae: 0.0058\n",
            "Epoch 40/100\n",
            "62/62 [==============================] - 2s 39ms/step - loss: 3.6483e-05 - mae: 0.0058\n",
            "Epoch 41/100\n",
            "62/62 [==============================] - 2s 40ms/step - loss: 3.5070e-05 - mae: 0.0056\n",
            "Epoch 42/100\n",
            "62/62 [==============================] - 2s 39ms/step - loss: 3.7685e-05 - mae: 0.0060\n",
            "Epoch 43/100\n",
            "62/62 [==============================] - 2s 40ms/step - loss: 3.8179e-05 - mae: 0.0060\n",
            "Epoch 44/100\n",
            "62/62 [==============================] - 2s 40ms/step - loss: 3.7160e-05 - mae: 0.0059\n",
            "Epoch 45/100\n",
            "62/62 [==============================] - 2s 40ms/step - loss: 3.6575e-05 - mae: 0.0058\n",
            "Epoch 46/100\n",
            "62/62 [==============================] - 2s 40ms/step - loss: 3.5504e-05 - mae: 0.0057\n",
            "Epoch 47/100\n",
            "62/62 [==============================] - 2s 39ms/step - loss: 3.6139e-05 - mae: 0.0058\n",
            "Epoch 48/100\n",
            "62/62 [==============================] - 2s 39ms/step - loss: 3.5883e-05 - mae: 0.0058\n",
            "Epoch 49/100\n",
            "62/62 [==============================] - 2s 39ms/step - loss: 3.4987e-05 - mae: 0.0057\n",
            "Epoch 50/100\n",
            "62/62 [==============================] - 2s 40ms/step - loss: 3.6694e-05 - mae: 0.0059\n",
            "Epoch 51/100\n",
            "62/62 [==============================] - 2s 40ms/step - loss: 3.4900e-05 - mae: 0.0057\n",
            "Epoch 52/100\n",
            "62/62 [==============================] - 2s 40ms/step - loss: 3.5226e-05 - mae: 0.0057\n",
            "Epoch 53/100\n",
            "62/62 [==============================] - 2s 40ms/step - loss: 3.5496e-05 - mae: 0.0057\n",
            "Epoch 54/100\n",
            "62/62 [==============================] - 2s 40ms/step - loss: 3.3426e-05 - mae: 0.0055\n",
            "Epoch 55/100\n",
            "62/62 [==============================] - 2s 40ms/step - loss: 3.5847e-05 - mae: 0.0058\n",
            "Epoch 56/100\n",
            "62/62 [==============================] - 2s 40ms/step - loss: 3.3590e-05 - mae: 0.0055\n",
            "Epoch 57/100\n",
            "62/62 [==============================] - 3s 41ms/step - loss: 3.4601e-05 - mae: 0.0057\n",
            "Epoch 58/100\n",
            "62/62 [==============================] - 3s 41ms/step - loss: 3.2898e-05 - mae: 0.0055\n",
            "Epoch 59/100\n",
            "62/62 [==============================] - 3s 41ms/step - loss: 3.4193e-05 - mae: 0.0056\n",
            "Epoch 60/100\n",
            "62/62 [==============================] - 2s 39ms/step - loss: 3.1991e-05 - mae: 0.0054\n",
            "Epoch 61/100\n",
            "62/62 [==============================] - 2s 40ms/step - loss: 3.3897e-05 - mae: 0.0056\n",
            "Epoch 62/100\n",
            "62/62 [==============================] - 3s 40ms/step - loss: 3.1254e-05 - mae: 0.0053\n",
            "Epoch 63/100\n",
            "62/62 [==============================] - 3s 41ms/step - loss: 3.3051e-05 - mae: 0.0055\n",
            "Epoch 64/100\n",
            "62/62 [==============================] - 2s 39ms/step - loss: 3.2224e-05 - mae: 0.0054\n",
            "Epoch 65/100\n",
            "62/62 [==============================] - 2s 38ms/step - loss: 3.1229e-05 - mae: 0.0053\n",
            "Epoch 66/100\n",
            "62/62 [==============================] - 2s 38ms/step - loss: 3.0339e-05 - mae: 0.0052\n",
            "Epoch 67/100\n",
            "62/62 [==============================] - 2s 39ms/step - loss: 2.8985e-05 - mae: 0.0050\n",
            "Epoch 68/100\n",
            "62/62 [==============================] - 2s 39ms/step - loss: 2.8442e-05 - mae: 0.0049\n",
            "Epoch 69/100\n",
            "62/62 [==============================] - 3s 40ms/step - loss: 2.8556e-05 - mae: 0.0049\n",
            "Epoch 70/100\n",
            "62/62 [==============================] - 2s 40ms/step - loss: 2.7509e-05 - mae: 0.0048\n",
            "Epoch 71/100\n",
            "62/62 [==============================] - 2s 40ms/step - loss: 2.7107e-05 - mae: 0.0047\n",
            "Epoch 72/100\n",
            "62/62 [==============================] - 2s 39ms/step - loss: 2.7603e-05 - mae: 0.0048\n",
            "Epoch 73/100\n",
            "62/62 [==============================] - 2s 40ms/step - loss: 2.8268e-05 - mae: 0.0049\n",
            "Epoch 74/100\n",
            "62/62 [==============================] - 2s 40ms/step - loss: 2.9404e-05 - mae: 0.0051\n",
            "Epoch 75/100\n",
            "62/62 [==============================] - 3s 40ms/step - loss: 2.7861e-05 - mae: 0.0049\n",
            "Epoch 76/100\n",
            "62/62 [==============================] - 2s 40ms/step - loss: 2.7893e-05 - mae: 0.0049\n",
            "Epoch 77/100\n",
            "62/62 [==============================] - 2s 40ms/step - loss: 2.6350e-05 - mae: 0.0046\n",
            "Epoch 78/100\n",
            "62/62 [==============================] - 2s 39ms/step - loss: 2.6506e-05 - mae: 0.0047\n",
            "Epoch 79/100\n",
            "62/62 [==============================] - 2s 39ms/step - loss: 2.6387e-05 - mae: 0.0047\n",
            "Epoch 80/100\n",
            "62/62 [==============================] - 2s 39ms/step - loss: 2.6901e-05 - mae: 0.0047\n",
            "Epoch 81/100\n",
            "62/62 [==============================] - 2s 39ms/step - loss: 2.5647e-05 - mae: 0.0045\n",
            "Epoch 82/100\n",
            "62/62 [==============================] - 2s 40ms/step - loss: 2.5697e-05 - mae: 0.0045\n",
            "Epoch 83/100\n",
            "62/62 [==============================] - 3s 40ms/step - loss: 2.5558e-05 - mae: 0.0045\n",
            "Epoch 84/100\n",
            "62/62 [==============================] - 3s 40ms/step - loss: 2.5464e-05 - mae: 0.0045\n",
            "Epoch 85/100\n",
            "62/62 [==============================] - 3s 41ms/step - loss: 2.5391e-05 - mae: 0.0045\n",
            "Epoch 86/100\n",
            "62/62 [==============================] - 3s 42ms/step - loss: 2.5131e-05 - mae: 0.0045\n",
            "Epoch 87/100\n",
            "62/62 [==============================] - 3s 41ms/step - loss: 2.6119e-05 - mae: 0.0047\n",
            "Epoch 88/100\n",
            "62/62 [==============================] - 2s 40ms/step - loss: 2.7094e-05 - mae: 0.0048\n",
            "Epoch 89/100\n",
            "62/62 [==============================] - 3s 41ms/step - loss: 2.5993e-05 - mae: 0.0046\n",
            "Epoch 90/100\n",
            "62/62 [==============================] - 2s 40ms/step - loss: 2.6701e-05 - mae: 0.0048\n",
            "Epoch 91/100\n",
            "62/62 [==============================] - 2s 38ms/step - loss: 2.6411e-05 - mae: 0.0047\n",
            "Epoch 92/100\n",
            "62/62 [==============================] - 2s 40ms/step - loss: 2.6935e-05 - mae: 0.0048\n",
            "Epoch 93/100\n",
            "62/62 [==============================] - 3s 41ms/step - loss: 2.6963e-05 - mae: 0.0048\n",
            "Epoch 94/100\n",
            "62/62 [==============================] - 2s 40ms/step - loss: 2.7008e-05 - mae: 0.0048\n",
            "Epoch 95/100\n",
            "62/62 [==============================] - 2s 40ms/step - loss: 2.6431e-05 - mae: 0.0047\n",
            "Epoch 96/100\n",
            "62/62 [==============================] - 2s 40ms/step - loss: 2.6718e-05 - mae: 0.0048\n",
            "Epoch 97/100\n",
            "62/62 [==============================] - 2s 39ms/step - loss: 2.5902e-05 - mae: 0.0047\n",
            "Epoch 98/100\n",
            "62/62 [==============================] - 2s 39ms/step - loss: 2.5993e-05 - mae: 0.0047\n",
            "Epoch 99/100\n",
            "62/62 [==============================] - 2s 40ms/step - loss: 2.6468e-05 - mae: 0.0048\n",
            "Epoch 100/100\n",
            "62/62 [==============================] - 2s 40ms/step - loss: 2.6448e-05 - mae: 0.0047\n"
          ],
          "name": "stdout"
        }
      ]
    },
    {
      "cell_type": "markdown",
      "metadata": {
        "id": "7KTxLM743Xce",
        "colab_type": "text"
      },
      "source": [
        "#### Result"
      ]
    },
    {
      "cell_type": "markdown",
      "metadata": {
        "id": "1OeXR15Z0S2L",
        "colab_type": "text"
      },
      "source": [
        "Compute MAE between predicted dataset and validation set after the model has been trained."
      ]
    },
    {
      "cell_type": "code",
      "metadata": {
        "id": "806yuVFThLjr",
        "colab_type": "code",
        "outputId": "9c8c0802-0ab0-4003-a6b3-8abdb238d6f1",
        "colab": {
          "base_uri": "https://localhost:8080/",
          "height": 34
        }
      },
      "source": [
        "ds_forecast = model_forecast(model, normalized_dataset, window_size)\n",
        "rnn_forecast = ds_forecast[train_size - window_size:-1,-1]\n",
        "tf.keras.metrics.mean_absolute_error(x_valid[:,0], rnn_forecast[:,0]).numpy()"
      ],
      "execution_count": 0,
      "outputs": [
        {
          "output_type": "execute_result",
          "data": {
            "text/plain": [
              "0.10805943"
            ]
          },
          "metadata": {
            "tags": []
          },
          "execution_count": 64
        }
      ]
    },
    {
      "cell_type": "code",
      "metadata": {
        "id": "NuImWUAHoayG",
        "colab_type": "code",
        "outputId": "2e57a3ff-ab03-4773-ac8b-b1a96a26dea7",
        "colab": {
          "base_uri": "https://localhost:8080/",
          "height": 391
        }
      },
      "source": [
        "plt.figure(figsize=(10, 6))\n",
        "plt.plot(x_valid, label='actual')\n",
        "plt.plot(rnn_forecast, label='forecast')\n",
        "plt.legend()"
      ],
      "execution_count": 0,
      "outputs": [
        {
          "output_type": "execute_result",
          "data": {
            "text/plain": [
              "<matplotlib.legend.Legend at 0x7fccaec047f0>"
            ]
          },
          "metadata": {
            "tags": []
          },
          "execution_count": 65
        },
        {
          "output_type": "display_data",
          "data": {
            "image/png": "[encoded data removed]",
            "text/plain": [
              "<Figure size 720x432 with 1 Axes>"
            ]
          },
          "metadata": {
            "tags": [],
            "needs_background": "light"
          }
        }
      ]
    },
    {
      "cell_type": "markdown",
      "metadata": {
        "id": "AONIvrzw3HSr",
        "colab_type": "text"
      },
      "source": [
        "## Conculsion"
      ]
    },
    {
      "cell_type": "markdown",
      "metadata": {
        "id": "XMD_9MTyn-z1",
        "colab_type": "text"
      },
      "source": [
        "As we can see from the result of MAE and the chart after the training, the model is getting better. The MAE reduced from 0.120264 to 0.108059. Since Simple Neural Network doesn't remember the input of previous steps, it might lost some information on predicting next steps. In addition, after many attempts we understand that choosing a proper learning rate can also imrpove on the model."
      ]
    }
  ]
}